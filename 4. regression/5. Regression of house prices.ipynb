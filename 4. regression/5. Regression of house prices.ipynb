{
 "cells": [
  {
   "cell_type": "markdown",
   "id": "ced5bc7f",
   "metadata": {},
   "source": [
    "### IMPORT"
   ]
  },
  {
   "cell_type": "code",
   "execution_count": 15,
   "metadata": {},
   "outputs": [
    {
     "data": {
      "text/html": [
       "<div>\n",
       "<style scoped>\n",
       "    .dataframe tbody tr th:only-of-type {\n",
       "        vertical-align: middle;\n",
       "    }\n",
       "\n",
       "    .dataframe tbody tr th {\n",
       "        vertical-align: top;\n",
       "    }\n",
       "\n",
       "    .dataframe thead th {\n",
       "        text-align: right;\n",
       "    }\n",
       "</style>\n",
       "<table border=\"1\" class=\"dataframe\">\n",
       "  <thead>\n",
       "    <tr style=\"text-align: right;\">\n",
       "      <th></th>\n",
       "      <th>Id</th>\n",
       "      <th>MSSubClass</th>\n",
       "      <th>MSZoning</th>\n",
       "      <th>LotFrontage</th>\n",
       "      <th>LotArea</th>\n",
       "      <th>Street</th>\n",
       "      <th>Alley</th>\n",
       "      <th>LotShape</th>\n",
       "      <th>LandContour</th>\n",
       "      <th>Utilities</th>\n",
       "      <th>...</th>\n",
       "      <th>PoolArea</th>\n",
       "      <th>PoolQC</th>\n",
       "      <th>Fence</th>\n",
       "      <th>MiscFeature</th>\n",
       "      <th>MiscVal</th>\n",
       "      <th>MoSold</th>\n",
       "      <th>YrSold</th>\n",
       "      <th>SaleType</th>\n",
       "      <th>SaleCondition</th>\n",
       "      <th>SalePrice</th>\n",
       "    </tr>\n",
       "  </thead>\n",
       "  <tbody>\n",
       "    <tr>\n",
       "      <th>0</th>\n",
       "      <td>1</td>\n",
       "      <td>60</td>\n",
       "      <td>RL</td>\n",
       "      <td>65.0</td>\n",
       "      <td>8450</td>\n",
       "      <td>Pave</td>\n",
       "      <td>NaN</td>\n",
       "      <td>Reg</td>\n",
       "      <td>Lvl</td>\n",
       "      <td>AllPub</td>\n",
       "      <td>...</td>\n",
       "      <td>0</td>\n",
       "      <td>NaN</td>\n",
       "      <td>NaN</td>\n",
       "      <td>NaN</td>\n",
       "      <td>0</td>\n",
       "      <td>2</td>\n",
       "      <td>2008</td>\n",
       "      <td>WD</td>\n",
       "      <td>Normal</td>\n",
       "      <td>208500</td>\n",
       "    </tr>\n",
       "    <tr>\n",
       "      <th>1</th>\n",
       "      <td>2</td>\n",
       "      <td>20</td>\n",
       "      <td>RL</td>\n",
       "      <td>80.0</td>\n",
       "      <td>9600</td>\n",
       "      <td>Pave</td>\n",
       "      <td>NaN</td>\n",
       "      <td>Reg</td>\n",
       "      <td>Lvl</td>\n",
       "      <td>AllPub</td>\n",
       "      <td>...</td>\n",
       "      <td>0</td>\n",
       "      <td>NaN</td>\n",
       "      <td>NaN</td>\n",
       "      <td>NaN</td>\n",
       "      <td>0</td>\n",
       "      <td>5</td>\n",
       "      <td>2007</td>\n",
       "      <td>WD</td>\n",
       "      <td>Normal</td>\n",
       "      <td>181500</td>\n",
       "    </tr>\n",
       "    <tr>\n",
       "      <th>2</th>\n",
       "      <td>3</td>\n",
       "      <td>60</td>\n",
       "      <td>RL</td>\n",
       "      <td>68.0</td>\n",
       "      <td>11250</td>\n",
       "      <td>Pave</td>\n",
       "      <td>NaN</td>\n",
       "      <td>IR1</td>\n",
       "      <td>Lvl</td>\n",
       "      <td>AllPub</td>\n",
       "      <td>...</td>\n",
       "      <td>0</td>\n",
       "      <td>NaN</td>\n",
       "      <td>NaN</td>\n",
       "      <td>NaN</td>\n",
       "      <td>0</td>\n",
       "      <td>9</td>\n",
       "      <td>2008</td>\n",
       "      <td>WD</td>\n",
       "      <td>Normal</td>\n",
       "      <td>223500</td>\n",
       "    </tr>\n",
       "  </tbody>\n",
       "</table>\n",
       "<p>3 rows × 81 columns</p>\n",
       "</div>"
      ],
      "text/plain": [
       "   Id  MSSubClass MSZoning  LotFrontage  LotArea Street Alley LotShape  \\\n",
       "0   1          60       RL         65.0     8450   Pave   NaN      Reg   \n",
       "1   2          20       RL         80.0     9600   Pave   NaN      Reg   \n",
       "2   3          60       RL         68.0    11250   Pave   NaN      IR1   \n",
       "\n",
       "  LandContour Utilities  ... PoolArea PoolQC Fence MiscFeature MiscVal MoSold  \\\n",
       "0         Lvl    AllPub  ...        0    NaN   NaN         NaN       0      2   \n",
       "1         Lvl    AllPub  ...        0    NaN   NaN         NaN       0      5   \n",
       "2         Lvl    AllPub  ...        0    NaN   NaN         NaN       0      9   \n",
       "\n",
       "  YrSold  SaleType  SaleCondition  SalePrice  \n",
       "0   2008        WD         Normal     208500  \n",
       "1   2007        WD         Normal     181500  \n",
       "2   2008        WD         Normal     223500  \n",
       "\n",
       "[3 rows x 81 columns]"
      ]
     },
     "execution_count": 15,
     "metadata": {},
     "output_type": "execute_result"
    }
   ],
   "source": [
    "import warnings\n",
    "warnings.filterwarnings('ignore')\n",
    "import pandas as pd\n",
    "import numpy as np\n",
    "import seaborn as sns\n",
    "import matplotlib.pyplot as plt\n",
    "%matplotlib inline\n",
    "\n",
    "house_df= pd.read_csv('house_price.csv')\n",
    "house = house_df.copy()\n",
    "house.head(3)"
   ]
  },
  {
   "cell_type": "markdown",
   "metadata": {},
   "source": [
    "### EDA"
   ]
  },
  {
   "cell_type": "code",
   "execution_count": 16,
   "metadata": {},
   "outputs": [
    {
     "name": "stdout",
     "output_type": "stream",
     "text": [
      "(1460, 81)\n",
      "object     43\n",
      "int64      35\n",
      "float64     3\n",
      "dtype: int64\n"
     ]
    }
   ],
   "source": [
    "print(house.shape)\n",
    "print(house.dtypes.value_counts())"
   ]
  },
  {
   "cell_type": "code",
   "execution_count": 17,
   "metadata": {},
   "outputs": [
    {
     "data": {
      "text/plain": [
       "PoolQC          1453\n",
       "MiscFeature     1406\n",
       "Alley           1369\n",
       "Fence           1179\n",
       "FireplaceQu      690\n",
       "LotFrontage      259\n",
       "GarageType        81\n",
       "GarageYrBlt       81\n",
       "GarageFinish      81\n",
       "GarageQual        81\n",
       "GarageCond        81\n",
       "BsmtExposure      38\n",
       "BsmtFinType2      38\n",
       "BsmtFinType1      37\n",
       "BsmtCond          37\n",
       "BsmtQual          37\n",
       "MasVnrArea         8\n",
       "MasVnrType         8\n",
       "Electrical         1\n",
       "dtype: int64"
      ]
     },
     "execution_count": 17,
     "metadata": {},
     "output_type": "execute_result"
    }
   ],
   "source": [
    "isnull = house.isnull().sum()\n",
    "isnull[isnull>0].sort_values(ascending=False)"
   ]
  },
  {
   "cell_type": "markdown",
   "metadata": {},
   "source": [
    "##### target value : SalePrice"
   ]
  },
  {
   "cell_type": "code",
   "execution_count": 6,
   "metadata": {},
   "outputs": [
    {
     "data": {
      "image/png": "[encoded data removed]",
      "text/plain": [
       "<Figure size 432x288 with 1 Axes>"
      ]
     },
     "metadata": {
      "needs_background": "light"
     },
     "output_type": "display_data"
    }
   ],
   "source": [
    "plt.title('Sale Price Histogram')\n",
    "plt.xticks(rotation = 15)\n",
    "sns.histplot(house['SalePrice'], kde=True)\n",
    "plt.show()"
   ]
  },
  {
   "cell_type": "code",
   "execution_count": 7,
   "metadata": {},
   "outputs": [
    {
     "data": {
      "image/png": "[encoded data removed]",
      "text/plain": [
       "<Figure size 432x288 with 1 Axes>"
      ]
     },
     "metadata": {
      "needs_background": "light"
     },
     "output_type": "display_data"
    }
   ],
   "source": [
    "plt.title('Log Transformed Sale Price Histogram')\n",
    "plt.xticks(rotation = 15)\n",
    "sns.histplot(np.log1p(house['SalePrice']), kde=True)\n",
    "plt.show()"
   ]
  },
  {
   "cell_type": "markdown",
   "metadata": {},
   "source": [
    "### Preprocessing"
   ]
  },
  {
   "cell_type": "code",
   "execution_count": 18,
   "metadata": {},
   "outputs": [],
   "source": [
    "# target value log transform : 정규화\n",
    "house['SalePrice'] = np.log1p(house['SalePrice'])"
   ]
  },
  {
   "cell_type": "code",
   "execution_count": 20,
   "metadata": {},
   "outputs": [],
   "source": [
    "# Null값이 너무 많은 컬럼 : 'PoolQC', 'MiscFeature', 'Alley', 'Fence', 'FireplaceQu'\n",
    "# 필요 없는 컬럼 : 'Id'\n",
    "house.drop(columns=['Id','PoolQC' , 'MiscFeature', 'Alley', 'Fence','FireplaceQu'], axis=1, inplace=True)\n",
    "\n",
    "# 나머지 Null값 있는 숫자형 컬럼들은 평균값으로 대체 \n",
    "house.fillna(house.mean(), inplace=True)"
   ]
  },
  {
   "cell_type": "code",
   "execution_count": 21,
   "metadata": {},
   "outputs": [
    {
     "data": {
      "text/plain": [
       "Index(['MasVnrType', 'BsmtQual', 'BsmtCond', 'BsmtExposure', 'BsmtFinType1',\n",
       "       'BsmtFinType2', 'Electrical', 'GarageType', 'GarageFinish',\n",
       "       'GarageQual', 'GarageCond'],\n",
       "      dtype='object')"
      ]
     },
     "execution_count": 21,
     "metadata": {},
     "output_type": "execute_result"
    }
   ],
   "source": [
    "isnull = house.isnull().sum()\n",
    "isnull[isnull>0].index"
   ]
  },
  {
   "cell_type": "code",
   "execution_count": 35,
   "metadata": {},
   "outputs": [
    {
     "data": {
      "text/html": [
       "<div>\n",
       "<style scoped>\n",
       "    .dataframe tbody tr th:only-of-type {\n",
       "        vertical-align: middle;\n",
       "    }\n",
       "\n",
       "    .dataframe tbody tr th {\n",
       "        vertical-align: top;\n",
       "    }\n",
       "\n",
       "    .dataframe thead th {\n",
       "        text-align: right;\n",
       "    }\n",
       "</style>\n",
       "<table border=\"1\" class=\"dataframe\">\n",
       "  <thead>\n",
       "    <tr style=\"text-align: right;\">\n",
       "      <th></th>\n",
       "      <th>a</th>\n",
       "      <th>b</th>\n",
       "    </tr>\n",
       "  </thead>\n",
       "  <tbody>\n",
       "    <tr>\n",
       "      <th>0</th>\n",
       "      <td>1</td>\n",
       "      <td>0</td>\n",
       "    </tr>\n",
       "    <tr>\n",
       "      <th>1</th>\n",
       "      <td>0</td>\n",
       "      <td>1</td>\n",
       "    </tr>\n",
       "    <tr>\n",
       "      <th>2</th>\n",
       "      <td>0</td>\n",
       "      <td>0</td>\n",
       "    </tr>\n",
       "  </tbody>\n",
       "</table>\n",
       "</div>"
      ],
      "text/plain": [
       "   a  b\n",
       "0  1  0\n",
       "1  0  1\n",
       "2  0  0"
      ]
     },
     "execution_count": 35,
     "metadata": {},
     "output_type": "execute_result"
    }
   ],
   "source": [
    "s1 = ['a', 'b', np.nan]\n",
    "pd.get_dummies(s1, dummy_na=False)\n"
   ]
  },
  {
   "cell_type": "code",
   "execution_count": 22,
   "metadata": {},
   "outputs": [
    {
     "name": "stdout",
     "output_type": "stream",
     "text": [
      "(1460, 75)\n",
      "(1460, 271)\n"
     ]
    }
   ],
   "source": [
    "# one hot encoding\n",
    "# pd.get_dummies로 원핫인코딩하면 null 레코드들도 자동으로 원핫인코딩된다 (0)으로 \n",
    "print(house.shape)\n",
    "house_ohe = pd.get_dummies(house)\n",
    "print(house_ohe.shape)\n"
   ]
  },
  {
   "cell_type": "code",
   "execution_count": 36,
   "metadata": {},
   "outputs": [
    {
     "data": {
      "text/plain": [
       "Index([], dtype='object')"
      ]
     },
     "execution_count": 36,
     "metadata": {},
     "output_type": "execute_result"
    }
   ],
   "source": [
    "isnull = house_ohe.isnull().sum()\n",
    "isnull[isnull>0].index\n",
    "# object variable에 대해서도 null값이 다 없어진 것을 확인할 수 있음!!"
   ]
  },
  {
   "cell_type": "code",
   "execution_count": null,
   "metadata": {},
   "outputs": [],
   "source": [
    "house_ohe['SalePrice']"
   ]
  },
  {
   "cell_type": "markdown",
   "metadata": {},
   "source": [
    "### Model + Evaluation (1)"
   ]
  },
  {
   "cell_type": "code",
   "execution_count": 40,
   "metadata": {},
   "outputs": [
    {
     "name": "stdout",
     "output_type": "stream",
     "text": [
      "model:LinearRegression(), rmsLe:0.125\n",
      "model:Ridge(), rmsLe:0.12\n",
      "model:Lasso(), rmsLe:0.162\n"
     ]
    }
   ],
   "source": [
    "from sklearn.linear_model import LinearRegression, Ridge, Lasso\n",
    "from sklearn.model_selection import train_test_split\n",
    "from sklearn.metrics import mean_squared_error\n",
    "\n",
    "y = house_ohe['SalePrice']\n",
    "X = house_ohe.drop(columns=['SalePrice'],axis=1, inplace=False)\n",
    "X_train, X_test, y_train, y_test = train_test_split(X,y,test_size=0.2, random_state=117)\n",
    "\n",
    "lr_reg = LinearRegression()\n",
    "ridge = Ridge()\n",
    "lasso = Lasso()\n",
    "\n",
    "lr_reg.fit(X_train, y_train)\n",
    "ridge.fit(X_train, y_train)\n",
    "lasso.fit(X_train, y_train)\n",
    "\n",
    "def get_rmse(model):\n",
    "    y_pred = model.predict(X_test)\n",
    "    mse = mean_squared_error(y_test, y_pred)\n",
    "    rmse = np.sqrt(mse)\n",
    "    return np.round(rmse,3)\n",
    "\n",
    "for model in [lr_reg, ridge, lasso]:\n",
    "    print('model:{}, rmsLe:{}'.format(model, get_rmse(model)))"
   ]
  },
  {
   "cell_type": "code",
   "execution_count": 31,
   "metadata": {},
   "outputs": [
    {
     "name": "stdout",
     "output_type": "stream",
     "text": [
      "model:LinearRegression(), top10:\n",
      " GrLivArea          8.871032e+06\n",
      "BsmtFinSF1         7.744241e+06\n",
      "BsmtFinSF2         7.744241e+06\n",
      "BsmtUnfSF          7.744241e+06\n",
      "BldgType_2fmCon    1.650031e+05\n",
      "BldgType_1Fam      1.650031e+05\n",
      "BldgType_Duplex    1.650030e+05\n",
      "BldgType_TwnhsE    1.650030e+05\n",
      "BldgType_Twnhs     1.650030e+05\n",
      "CentralAir_Y       5.137930e+04\n",
      "dtype: float64, \n",
      " low10:\n",
      " Exterior1st_VinylSd   -1.988012e+04\n",
      "Exterior1st_HdBoard   -1.988013e+04\n",
      "Exterior1st_WdShing   -1.988013e+04\n",
      "Exterior1st_Wd Sdng   -1.988017e+04\n",
      "Exterior1st_CemntBd   -1.988020e+04\n",
      "Exterior1st_BrkComm   -1.988057e+04\n",
      "TotalBsmtSF           -7.744241e+06\n",
      "LowQualFinSF          -8.871032e+06\n",
      "2ndFlrSF              -8.871032e+06\n",
      "1stFlrSF              -8.871032e+06\n",
      "dtype: float64\n",
      "###############\n",
      "model:Ridge(), top10:\n",
      " Condition2_Feedr        0.253929\n",
      "Condition2_Norm         0.197186\n",
      "Condition2_PosA         0.124344\n",
      "Neighborhood_StoneBr    0.120437\n",
      "MSZoning_FV             0.115707\n",
      "Neighborhood_Crawfor    0.114955\n",
      "RoofMatl_Membran        0.094071\n",
      "RoofStyle_Shed          0.093839\n",
      "SaleType_CWD            0.092661\n",
      "SaleType_ConLD          0.090922\n",
      "dtype: float64, \n",
      " low10:\n",
      " SaleType_WD             -0.077473\n",
      "Neighborhood_Edwards    -0.081915\n",
      "SaleType_ConLI          -0.096066\n",
      "SaleCondition_Partial   -0.108245\n",
      "Heating_Grav            -0.108919\n",
      "Neighborhood_MeadowV    -0.126006\n",
      "Exterior1st_BrkComm     -0.153179\n",
      "Functional_Maj2         -0.194318\n",
      "MSZoning_C (all)        -0.316711\n",
      "Condition2_PosN         -0.633757\n",
      "dtype: float64\n",
      "###############\n",
      "model:Lasso(), top10:\n",
      " YearBuilt       0.002288\n",
      "YearRemodAdd    0.001123\n",
      "GarageArea      0.000390\n",
      "GrLivArea       0.000318\n",
      "TotalBsmtSF     0.000216\n",
      "BsmtFinSF1      0.000087\n",
      "WoodDeckSF      0.000085\n",
      "2ndFlrSF        0.000039\n",
      "MasVnrArea      0.000025\n",
      "BsmtFinSF2      0.000006\n",
      "dtype: float64, \n",
      " low10:\n",
      " Condition2_PosN         -0.000000\n",
      "Condition2_RRAe         -0.000000\n",
      "Condition2_RRAn          0.000000\n",
      "Condition2_RRNn          0.000000\n",
      "BldgType_1Fam            0.000000\n",
      "BldgType_2fmCon         -0.000000\n",
      "BldgType_Duplex         -0.000000\n",
      "BldgType_Twnhs          -0.000000\n",
      "SaleCondition_Partial    0.000000\n",
      "BsmtUnfSF               -0.000002\n",
      "dtype: float64\n",
      "###############\n"
     ]
    }
   ],
   "source": [
    "# 각 회귀 모델별 top 10, low 10 coefficients 관찰\n",
    "models = [lr_reg, ridge, lasso]\n",
    "for model in models:\n",
    "    coefs = pd.Series(model.coef_, index = X.columns)\n",
    "    top_10 = coefs.sort_values(ascending=False).head(10)\n",
    "    low_10 = coefs.sort_values(ascending=False).tail(10)\n",
    "    print('model:{}, top10:\\n {}, \\n low10:\\n {}'.format(model, top_10, low_10))\n",
    "    print('###############')"
   ]
  },
  {
   "cell_type": "code",
   "execution_count": 41,
   "metadata": {},
   "outputs": [],
   "source": [
    "# Lasso regression에 대해서 회귀계수값이 거의 다 0이 되는 것을 확인할 수 있음"
   ]
  },
  {
   "cell_type": "markdown",
   "metadata": {},
   "source": [
    "### Evaluation (2)"
   ]
  },
  {
   "cell_type": "code",
   "execution_count": 32,
   "metadata": {},
   "outputs": [
    {
     "name": "stdout",
     "output_type": "stream",
     "text": [
      "\n",
      "LinearRegression CV RMSE 값 리스트: [0.135 0.165 0.168 0.111 0.198]\n",
      "LinearRegression CV 평균 RMSE 값: 0.155\n",
      "\n",
      "Ridge CV RMSE 값 리스트: [0.117 0.154 0.142 0.117 0.189]\n",
      "Ridge CV 평균 RMSE 값: 0.144\n",
      "\n",
      "Lasso CV RMSE 값 리스트: [0.161 0.204 0.177 0.181 0.265]\n",
      "Lasso CV 평균 RMSE 값: 0.198\n"
     ]
    }
   ],
   "source": [
    "from sklearn.model_selection import cross_val_score\n",
    "\n",
    "def get_avg_rmse_cv(models):\n",
    "    for model in models:\n",
    "        rmse = np.sqrt(-1 * cross_val_score(model, X, y, \n",
    "                                            scoring=\"neg_mean_squared_error\", cv=5))\n",
    "        rmse_avg = np.mean(rmse)\n",
    "        print('\\n{0} CV RMSE 값 리스트: {1}'.format( model.__class__.__name__, np.round(rmse, 3)))\n",
    "        print('{0} CV 평균 RMSE 값: {1}'.format( model.__class__.__name__, np.round(rmse_avg, 3)))\n",
    "\n",
    "get_avg_rmse_cv(models)"
   ]
  },
  {
   "cell_type": "markdown",
   "metadata": {},
   "source": [
    "### Evaluation (3) w/t hyperparameter-tuning"
   ]
  },
  {
   "cell_type": "code",
   "execution_count": 42,
   "metadata": {},
   "outputs": [
    {
     "name": "stdout",
     "output_type": "stream",
     "text": [
      "Ridge 5cv best avg RMSE: 0.1418, Best alpha: {'alpha': 12}\n",
      "Lasso 5cv best avg RMSE: 0.142, Best alpha: {'alpha': 0.001}\n"
     ]
    }
   ],
   "source": [
    "# GridSearchCV\n",
    "from sklearn.model_selection import GridSearchCV\n",
    "\n",
    "def best_parameter(model, params):\n",
    "    grid_model = GridSearchCV(model,param_grid=params,\n",
    "                              scoring='neg_mean_squared_error',cv=5)\n",
    "    grid_model.fit(X,y)\n",
    "    rmse = np.sqrt(-1 * grid_model.best_score_)\n",
    "    print('{} 5cv best avg RMSE: {}, Best alpha: {}'.format(model.__class__.__name__, np.round(rmse,4),grid_model.best_params_))\n",
    "    return grid_model.best_estimator_\n",
    "\n",
    "ridge_parameter = {'alpha': [0.05, 0.1, 1, 5, 8, 10, 12, 15, 20]}\n",
    "lasso_parameter = {'alpha': [0.001, 0.005, 0.008, 0.05, 0.03, 0.1, 0.5, 1.5, 10]}\n",
    "best_ridge = best_parameter(ridge, ridge_parameter)\n",
    "best_lasso = best_parameter(lasso, lasso_parameter)"
   ]
  },
  {
   "cell_type": "code",
   "execution_count": 43,
   "metadata": {},
   "outputs": [
    {
     "name": "stdout",
     "output_type": "stream",
     "text": [
      "model:LinearRegression(), rmsLe:0.125\n",
      "model:Ridge(alpha=12), rmsLe:0.116\n",
      "model:Lasso(alpha=0.001), rmsLe:0.113\n"
     ]
    }
   ],
   "source": [
    "# re-fit with best parameters\n",
    "lr_reg = LinearRegression()\n",
    "ridge = Ridge(alpha=12)\n",
    "lasso = Lasso(alpha=0.001)\n",
    "\n",
    "lr_reg.fit(X_train, y_train)\n",
    "ridge.fit(X_train, y_train)\n",
    "lasso.fit(X_train, y_train)\n",
    "\n",
    "def get_rmse(model):\n",
    "    y_pred = model.predict(X_test)\n",
    "    mse = mean_squared_error(y_test, y_pred)\n",
    "    rmse = np.sqrt(mse)\n",
    "    return np.round(rmse,3)\n",
    "\n",
    "for model in [lr_reg, ridge, lasso]:\n",
    "    print('model:{}, rmsLe:{}'.format(model, get_rmse(model)))"
   ]
  },
  {
   "cell_type": "markdown",
   "metadata": {},
   "source": [
    "### Feature Engineering"
   ]
  },
  {
   "cell_type": "code",
   "execution_count": 46,
   "metadata": {},
   "outputs": [
    {
     "name": "stdout",
     "output_type": "stream",
     "text": [
      "MiscVal          24.451640\n",
      "PoolArea         14.813135\n",
      "LotArea          12.195142\n",
      "3SsnPorch        10.293752\n",
      "LowQualFinSF      9.002080\n",
      "KitchenAbvGr      4.483784\n",
      "BsmtFinSF2        4.250888\n",
      "ScreenPorch       4.117977\n",
      "BsmtHalfBath      4.099186\n",
      "EnclosedPorch     3.086696\n",
      "MasVnrArea        2.673661\n",
      "LotFrontage       2.382499\n",
      "OpenPorchSF       2.361912\n",
      "BsmtFinSF1        1.683771\n",
      "WoodDeckSF        1.539792\n",
      "TotalBsmtSF       1.522688\n",
      "MSSubClass        1.406210\n",
      "1stFlrSF          1.375342\n",
      "GrLivArea         1.365156\n",
      "dtype: float64\n"
     ]
    }
   ],
   "source": [
    "# numerical values에 대해 skewness 확인\n",
    "from scipy.stats import skew\n",
    "feature_index = house.dtypes[house.dtypes!='object'].index\n",
    "skew_features = house[feature_index].apply(lambda x: skew(x))\n",
    "skew_features_top = skew_features[skew_features>1]\n",
    "print(skew_features_top.sort_values(ascending=False))"
   ]
  },
  {
   "cell_type": "code",
   "execution_count": 47,
   "metadata": {},
   "outputs": [],
   "source": [
    "# skewness가 1이상인 피처들을 로그 변환 적용\n",
    "house[skew_features_top.index] = np.log1p(house[skew_features_top.index])"
   ]
  },
  {
   "cell_type": "code",
   "execution_count": 48,
   "metadata": {},
   "outputs": [],
   "source": [
    "house_ohe = pd.get_dummies(house)\n",
    "y = house_ohe['SalePrice']\n",
    "X = house_ohe.drop(columns=['SalePrice'],axis=1, inplace=False)\n",
    "X_train, X_test, y_train, y_test = train_test_split(X,y,test_size=0.2, random_state=117)"
   ]
  },
  {
   "cell_type": "markdown",
   "metadata": {},
   "source": [
    "### Evaluation(4) (after feature engineering)"
   ]
  },
  {
   "cell_type": "code",
   "execution_count": 49,
   "metadata": {},
   "outputs": [
    {
     "name": "stdout",
     "output_type": "stream",
     "text": [
      "Ridge 5cv best avg RMSE: 0.1275, Best alpha: {'alpha': 10}\n",
      "Lasso 5cv best avg RMSE: 0.1252, Best alpha: {'alpha': 0.001}\n"
     ]
    }
   ],
   "source": [
    "ridge_parameter = {'alpha': [0.05, 0.1, 1, 5, 8, 10, 12, 15, 20]}\n",
    "lasso_parameter = {'alpha': [0.001, 0.005, 0.008, 0.05, 0.03, 0.1, 0.5, 1.5, 10]}\n",
    "best_ridge = best_parameter(ridge, ridge_parameter)\n",
    "best_lasso = best_parameter(lasso, lasso_parameter)"
   ]
  },
  {
   "cell_type": "code",
   "execution_count": 50,
   "metadata": {},
   "outputs": [
    {
     "name": "stdout",
     "output_type": "stream",
     "text": [
      "model:LinearRegression(), rmsLe:0.12\n",
      "model:Ridge(alpha=10), rmsLe:0.111\n",
      "model:Lasso(alpha=0.001), rmsLe:0.11\n"
     ]
    }
   ],
   "source": [
    "# re-fit with best parameters\n",
    "lr_reg = LinearRegression()\n",
    "ridge = Ridge(alpha=10)\n",
    "lasso = Lasso(alpha=0.001)\n",
    "\n",
    "lr_reg.fit(X_train, y_train)\n",
    "ridge.fit(X_train, y_train)\n",
    "lasso.fit(X_train, y_train)\n",
    "\n",
    "def get_rmse(model):\n",
    "    y_pred = model.predict(X_test)\n",
    "    mse = mean_squared_error(y_test, y_pred)\n",
    "    rmse = np.sqrt(mse)\n",
    "    return np.round(rmse,3)\n",
    "\n",
    "for model in [lr_reg, ridge, lasso]:\n",
    "    print('model:{}, rmsLe:{}'.format(model, get_rmse(model)))"
   ]
  },
  {
   "cell_type": "markdown",
   "metadata": {},
   "source": [
    "- 약간 개선됨"
   ]
  },
  {
   "cell_type": "code",
   "execution_count": 53,
   "metadata": {},
   "outputs": [
    {
     "data": {
      "text/plain": [
       "GrLivArea               0.167649\n",
       "1stFlrSF                0.133859\n",
       "Neighborhood_Crawfor    0.084505\n",
       "Neighborhood_StoneBr    0.082653\n",
       "Neighborhood_NridgHt    0.076181\n",
       "dtype: float64"
      ]
     },
     "execution_count": 53,
     "metadata": {},
     "output_type": "execute_result"
    }
   ],
   "source": [
    "# ridge - coefficients 관찰\n",
    "pd.Series(ridge.coef_, index =X.columns ).sort_values(ascending = False).head(5)"
   ]
  },
  {
   "cell_type": "code",
   "execution_count": 54,
   "metadata": {},
   "outputs": [
    {
     "data": {
      "text/plain": [
       "GrLivArea               0.246856\n",
       "1stFlrSF                0.125269\n",
       "Neighborhood_Crawfor    0.090560\n",
       "LotArea                 0.072570\n",
       "Neighborhood_NridgHt    0.072517\n",
       "dtype: float64"
      ]
     },
     "execution_count": 54,
     "metadata": {},
     "output_type": "execute_result"
    }
   ],
   "source": [
    "# lasso - coefficients 관찰\n",
    "pd.Series(lasso.coef_, index =X.columns ).sort_values(ascending = False).head(5)"
   ]
  },
  {
   "cell_type": "markdown",
   "metadata": {},
   "source": [
    "- 공통적으로 'GrLivArea'가 회귀계수가 가장 컸다. \n",
    "- 따라서 이 주요 피처에 대해 이상치 데이터를 제거한다. "
   ]
  },
  {
   "cell_type": "code",
   "execution_count": 60,
   "metadata": {},
   "outputs": [
    {
     "data": {
      "image/png": "[encoded data removed]",
      "text/plain": [
       "<Figure size 432x288 with 1 Axes>"
      ]
     },
     "metadata": {
      "needs_background": "light"
     },
     "output_type": "display_data"
    }
   ],
   "source": [
    "# log 변환하기 전 데이터에서 시각화\n",
    "plt.scatter(x = house_df['GrLivArea'], y = house_df['SalePrice'])\n",
    "plt.ylabel('SalePrice', fontsize=15)\n",
    "plt.xlabel('GrLivArea', fontsize=15)\n",
    "plt.show()"
   ]
  },
  {
   "cell_type": "code",
   "execution_count": 62,
   "metadata": {},
   "outputs": [],
   "source": [
    "# 조건 생성\n",
    "cond1 = house_ohe['GrLivArea']>np.log1p(4000)\n",
    "cond2 = house_ohe['SalePrice']<np.log1p(500000)\n",
    "outlier_idx = house_ohe[cond1&cond2].index\n",
    "# drop\n",
    "house_ohe.drop(outlier_idx, axis=0, inplace=True)"
   ]
  },
  {
   "cell_type": "markdown",
   "metadata": {},
   "source": [
    "### Evaluation(5) after feature engineering 2"
   ]
  },
  {
   "cell_type": "code",
   "execution_count": 63,
   "metadata": {},
   "outputs": [
    {
     "name": "stdout",
     "output_type": "stream",
     "text": [
      "Ridge 5cv best avg RMSE: 0.1125, Best alpha: {'alpha': 8}\n",
      "Lasso 5cv best avg RMSE: 0.1122, Best alpha: {'alpha': 0.001}\n"
     ]
    }
   ],
   "source": [
    "y = house_ohe['SalePrice']\n",
    "X = house_ohe.drop(columns=['SalePrice'], axis=1,inplace=False)\n",
    "X_train, X_test, y_train, y_test = train_test_split(X,y,test_size=0.2, random_state=117)\n",
    "\n",
    "ridge_parameter = {'alpha': [0.05, 0.1, 1, 5, 8, 10, 12, 15, 20]}\n",
    "lasso_parameter = {'alpha': [0.001, 0.005, 0.008, 0.05, 0.03, 0.1, 0.5, 1.5, 10]}\n",
    "best_ridge = best_parameter(ridge, ridge_parameter)\n",
    "best_lasso = best_parameter(lasso, lasso_parameter)"
   ]
  },
  {
   "cell_type": "code",
   "execution_count": 64,
   "metadata": {},
   "outputs": [
    {
     "name": "stdout",
     "output_type": "stream",
     "text": [
      "model:LinearRegression(), rmsLe:0.113\n",
      "model:Ridge(alpha=8), rmsLe:0.101\n",
      "model:Lasso(alpha=0.001), rmsLe:0.1\n"
     ]
    }
   ],
   "source": [
    "# re-fit with best parameters\n",
    "lr_reg = LinearRegression()\n",
    "ridge = Ridge(alpha=8)\n",
    "lasso = Lasso(alpha=0.001)\n",
    "\n",
    "lr_reg.fit(X_train, y_train)\n",
    "ridge.fit(X_train, y_train)\n",
    "lasso.fit(X_train, y_train)\n",
    "\n",
    "def get_rmse(model):\n",
    "    y_pred = model.predict(X_test)\n",
    "    mse = mean_squared_error(y_test, y_pred)\n",
    "    rmse = np.sqrt(mse)\n",
    "    return np.round(rmse,3)\n",
    "\n",
    "for model in [lr_reg, ridge, lasso]:\n",
    "    print('model:{}, rmsLe:{}'.format(model, get_rmse(model)))"
   ]
  },
  {
   "cell_type": "markdown",
   "metadata": {},
   "source": [
    "- 오 쪼끔 더 좋아짐"
   ]
  },
  {
   "cell_type": "markdown",
   "metadata": {},
   "source": [
    "### Model 변형 : 회귀 트리 이용"
   ]
  },
  {
   "cell_type": "code",
   "execution_count": 65,
   "metadata": {},
   "outputs": [
    {
     "name": "stdout",
     "output_type": "stream",
     "text": [
      "Collecting xgboostNote: you may need to restart the kernel to use updated packages.\n",
      "\n",
      "  Downloading xgboost-2.0.1-py3-none-win_amd64.whl (99.7 MB)\n",
      "Requirement already satisfied: scipy in c:\\users\\happy\\appdata\\local\\packages\\pythonsoftwarefoundation.python.3.9_qbz5n2kfra8p0\\localcache\\local-packages\\python39\\site-packages (from xgboost) (1.9.0)\n",
      "Requirement already satisfied: numpy in c:\\users\\happy\\appdata\\local\\packages\\pythonsoftwarefoundation.python.3.9_qbz5n2kfra8p0\\localcache\\local-packages\\python39\\site-packages (from xgboost) (1.21.4)\n",
      "Installing collected packages: xgboost\n",
      "Successfully installed xgboost-2.0.1\n"
     ]
    }
   ],
   "source": [
    "pip install xgboost"
   ]
  },
  {
   "cell_type": "code",
   "execution_count": 66,
   "metadata": {},
   "outputs": [
    {
     "name": "stdout",
     "output_type": "stream",
     "text": [
      "XGBRegressor 5cv best avg RMSE: 0.1206, Best alpha: {'n_estimators': 1000}\n"
     ]
    }
   ],
   "source": [
    "from xgboost import XGBRegressor\n",
    "\n",
    "xgb_params = {'n_estimators': [1000]}\n",
    "xgb_reg = XGBRegressor(n_estimators=1000, learning_rate = 0.05,\n",
    "                       colsample_bytree=0.5, subsample=0.8)\n",
    "best_xgb = best_parameter(xgb_reg, xgb_params)"
   ]
  },
  {
   "cell_type": "code",
   "execution_count": 68,
   "metadata": {},
   "outputs": [
    {
     "name": "stdout",
     "output_type": "stream",
     "text": [
      "Collecting lightgbmNote: you may need to restart the kernel to use updated packages.\n",
      "  Downloading lightgbm-4.1.0-py3-none-win_amd64.whl (1.3 MB)\n",
      "Requirement already satisfied: numpy in c:\\users\\happy\\appdata\\local\\packages\\pythonsoftwarefoundation.python.3.9_qbz5n2kfra8p0\\localcache\\local-packages\\python39\\site-packages (from lightgbm) (1.21.4)\n",
      "Requirement already satisfied: scipy in c:\\users\\happy\\appdata\\local\\packages\\pythonsoftwarefoundation.python.3.9_qbz5n2kfra8p0\\localcache\\local-packages\\python39\\site-packages (from lightgbm) (1.9.0)\n",
      "Installing collected packages: lightgbm\n",
      "Successfully installed lightgbm-4.1.0\n",
      "\n"
     ]
    }
   ],
   "source": [
    "pip install lightgbm"
   ]
  },
  {
   "cell_type": "code",
   "execution_count": 70,
   "metadata": {},
   "outputs": [
    {
     "name": "stderr",
     "output_type": "stream",
     "text": [
      "  File \"C:\\Users\\happy\\AppData\\Local\\Packages\\PythonSoftwareFoundation.Python.3.9_qbz5n2kfra8p0\\LocalCache\\local-packages\\Python39\\site-packages\\joblib\\externals\\loky\\backend\\context.py\", line 282, in _count_physical_cores\n",
      "    raise ValueError(f\"found {cpu_count_physical} physical cores < 1\")\n"
     ]
    },
    {
     "name": "stdout",
     "output_type": "stream",
     "text": [
      "[LightGBM] [Warning] Unknown parameter: n_estimtors\n",
      "[LightGBM] [Warning] Found whitespace in feature_names, replace with underlines\n",
      "[LightGBM] [Warning] Unknown parameter: n_estimtors\n",
      "[LightGBM] [Info] Auto-choosing col-wise multi-threading, the overhead of testing was 0.003210 seconds.\n",
      "You can set `force_col_wise=true` to remove the overhead.\n",
      "[LightGBM] [Info] Total Bins 3157\n",
      "[LightGBM] [Info] Number of data points in the train set: 1166, number of used features: 172\n",
      "[LightGBM] [Info] Start training from score 12.021352\n",
      "[LightGBM] [Warning] Unknown parameter: n_estimtors\n",
      "[LightGBM] [Warning] Unknown parameter: n_estimtors\n",
      "[LightGBM] [Warning] Found whitespace in feature_names, replace with underlines\n",
      "[LightGBM] [Warning] Unknown parameter: n_estimtors\n",
      "[LightGBM] [Info] Auto-choosing col-wise multi-threading, the overhead of testing was 0.002147 seconds.\n",
      "You can set `force_col_wise=true` to remove the overhead.\n",
      "[LightGBM] [Info] Total Bins 3169\n",
      "[LightGBM] [Info] Number of data points in the train set: 1166, number of used features: 169\n",
      "[LightGBM] [Info] Start training from score 12.023516\n",
      "[LightGBM] [Warning] Unknown parameter: n_estimtors\n",
      "[LightGBM] [Warning] Unknown parameter: n_estimtors\n",
      "[LightGBM] [Warning] Found whitespace in feature_names, replace with underlines\n",
      "[LightGBM] [Warning] Unknown parameter: n_estimtors\n",
      "[LightGBM] [Info] Auto-choosing col-wise multi-threading, the overhead of testing was 0.001664 seconds.\n",
      "You can set `force_col_wise=true` to remove the overhead.\n",
      "[LightGBM] [Info] Total Bins 3163\n",
      "[LightGBM] [Info] Number of data points in the train set: 1166, number of used features: 172\n",
      "[LightGBM] [Info] Start training from score 12.020683\n",
      "[LightGBM] [Warning] Unknown parameter: n_estimtors\n",
      "[LightGBM] [Warning] Unknown parameter: n_estimtors\n",
      "[LightGBM] [Warning] Found whitespace in feature_names, replace with underlines\n",
      "[LightGBM] [Warning] Unknown parameter: n_estimtors\n",
      "[LightGBM] [Info] Auto-choosing col-wise multi-threading, the overhead of testing was 0.002629 seconds.\n",
      "You can set `force_col_wise=true` to remove the overhead.\n",
      "[LightGBM] [Info] Total Bins 3181\n",
      "[LightGBM] [Info] Number of data points in the train set: 1167, number of used features: 169\n",
      "[LightGBM] [Info] Start training from score 12.032713\n",
      "[LightGBM] [Warning] Unknown parameter: n_estimtors\n",
      "[LightGBM] [Warning] Unknown parameter: n_estimtors\n",
      "[LightGBM] [Warning] Found whitespace in feature_names, replace with underlines\n",
      "[LightGBM] [Warning] Unknown parameter: n_estimtors\n",
      "[LightGBM] [Info] Auto-choosing col-wise multi-threading, the overhead of testing was 0.001820 seconds.\n",
      "You can set `force_col_wise=true` to remove the overhead.\n",
      "[LightGBM] [Info] Total Bins 3168\n",
      "[LightGBM] [Info] Number of data points in the train set: 1167, number of used features: 172\n",
      "[LightGBM] [Info] Start training from score 12.021807\n",
      "[LightGBM] [Warning] Unknown parameter: n_estimtors\n",
      "[LightGBM] [Warning] Unknown parameter: n_estimtors\n",
      "[LightGBM] [Warning] Found whitespace in feature_names, replace with underlines\n",
      "[LightGBM] [Warning] Unknown parameter: n_estimtors\n",
      "[LightGBM] [Info] Auto-choosing col-wise multi-threading, the overhead of testing was 0.001929 seconds.\n",
      "You can set `force_col_wise=true` to remove the overhead.\n",
      "[LightGBM] [Info] Total Bins 3436\n",
      "[LightGBM] [Info] Number of data points in the train set: 1458, number of used features: 178\n",
      "[LightGBM] [Info] Start training from score 12.024015\n",
      "LGBMRegressor 5cv best avg RMSE: 0.1162, Best alpha: {'n_estimtors': 1000}\n"
     ]
    }
   ],
   "source": [
    "from lightgbm import LGBMRegressor\n",
    "\n",
    "lgbm_params = {'n_estimtors': [1000]}\n",
    "lgb_reg = LGBMRegressor(n_estimators=1000, learning_rate = 0.05, num_leaves=4,\n",
    "                        subsample=0.6, colsample_bytree=0.4)\n",
    "best_lgbm = best_parameter(lgb_reg, lgbm_params)"
   ]
  },
  {
   "cell_type": "code",
   "execution_count": 74,
   "metadata": {},
   "outputs": [
    {
     "data": {
      "text/plain": [
       "OverallQual       0.103702\n",
       "GarageCars        0.083339\n",
       "CentralAir_N      0.080561\n",
       "ExterQual_TA      0.063091\n",
       "CentralAir_Y      0.050122\n",
       "GarageQual_TA     0.034655\n",
       "BsmtQual_Ex       0.034474\n",
       "GarageCond_TA     0.032910\n",
       "GrLivArea         0.021416\n",
       "KitchenQual_TA    0.020546\n",
       "dtype: float32"
      ]
     },
     "execution_count": 74,
     "metadata": {},
     "output_type": "execute_result"
    }
   ],
   "source": [
    "# feature importances of XGBRegressor\n",
    "xgb_reg.fit(X_train, y_train)\n",
    "pd.Series(xgb_reg.feature_importances_, index = X.columns).sort_values(ascending= False).head(10)"
   ]
  },
  {
   "cell_type": "code",
   "execution_count": 75,
   "metadata": {},
   "outputs": [
    {
     "name": "stdout",
     "output_type": "stream",
     "text": [
      "[LightGBM] [Warning] Found whitespace in feature_names, replace with underlines\n",
      "[LightGBM] [Info] Auto-choosing col-wise multi-threading, the overhead of testing was 0.007332 seconds.\n",
      "You can set `force_col_wise=true` to remove the overhead.\n",
      "[LightGBM] [Info] Total Bins 3176\n",
      "[LightGBM] [Info] Number of data points in the train set: 1166, number of used features: 171\n",
      "[LightGBM] [Info] Start training from score 12.021371\n"
     ]
    },
    {
     "data": {
      "text/plain": [
       "OverallQual    170\n",
       "LotArea        157\n",
       "TotalBsmtSF    138\n",
       "GrLivArea      125\n",
       "GarageYrBlt    116\n",
       "YearBuilt      114\n",
       "BsmtFinSF1     106\n",
       "GarageArea     102\n",
       "1stFlrSF       101\n",
       "OverallCond     94\n",
       "dtype: int32"
      ]
     },
     "execution_count": 75,
     "metadata": {},
     "output_type": "execute_result"
    }
   ],
   "source": [
    "# feature importances of LGBMRegressor\n",
    "lgb_reg.fit(X_train, y_train)\n",
    "pd.Series(lgb_reg.feature_importances_, index = X.columns).sort_values(ascending= False).head(10)"
   ]
  },
  {
   "cell_type": "markdown",
   "metadata": {},
   "source": [
    "### 회귀 모델들의 예측 결과 혼합을 통한 최종 예측"
   ]
  },
  {
   "cell_type": "code",
   "execution_count": 78,
   "metadata": {},
   "outputs": [
    {
     "name": "stdout",
     "output_type": "stream",
     "text": [
      "최종 혼합 모델의 RMSE: 0.09912091443076262\n",
      "Ridge 모델의 RMSE: 0.10102333763732314\n",
      "Lasso 모델의 RMSE: 0.10031554333979276\n"
     ]
    }
   ],
   "source": [
    "# 각 모델들의 예측 결과에 가중치를 주어서 최종 회귀 예측 결과 도출 \n",
    "\n",
    "def get_rmse_pred(preds):\n",
    "    for key in preds.keys():\n",
    "        pred_value = preds[key]\n",
    "        mse = mean_squared_error(y_test, pred_value)\n",
    "        rmse = np.sqrt(mse)\n",
    "        print('{} 모델의 RMSE: {}'.format(key, rmse))\n",
    "\n",
    "ridge = Ridge(alpha=8)\n",
    "lasso = Lasso(alpha=0.001)\n",
    "ridge.fit(X_train, y_train)\n",
    "lasso.fit(X_train, y_train)\n",
    "\n",
    "ridge_pred = ridge.predict(X_test)\n",
    "lasso_pred = lasso.predict(X_test)\n",
    "\n",
    "pred = 0.4 * ridge_pred + 0.6 * lasso_pred\n",
    "preds = {'최종 혼합': pred,\n",
    "         'Ridge' : ridge_pred,\n",
    "         'Lasso' : lasso_pred}\n",
    "\n",
    "get_rmse_pred(preds)\n"
   ]
  },
  {
   "cell_type": "code",
   "execution_count": 79,
   "metadata": {},
   "outputs": [
    {
     "name": "stdout",
     "output_type": "stream",
     "text": [
      "[LightGBM] [Warning] Found whitespace in feature_names, replace with underlines\n",
      "[LightGBM] [Info] Auto-choosing col-wise multi-threading, the overhead of testing was 0.002083 seconds.\n",
      "You can set `force_col_wise=true` to remove the overhead.\n",
      "[LightGBM] [Info] Total Bins 3176\n",
      "[LightGBM] [Info] Number of data points in the train set: 1166, number of used features: 171\n",
      "[LightGBM] [Info] Start training from score 12.021371\n",
      "최종 혼합 모델의 RMSE: 1.2022548088218037\n",
      "Ridge 모델의 RMSE: 0.11528411449586126\n",
      "Lasso 모델의 RMSE: 0.10818134939598639\n"
     ]
    }
   ],
   "source": [
    "xgb_reg.fit(X_train, y_train)\n",
    "lgb_reg.fit(X_train, y_train)\n",
    "\n",
    "xgb_pred = xgb_reg.predict(X_test)\n",
    "lgb_pred = lgb_reg.predict(X_test)\n",
    "\n",
    "pred = 0.5 * xgb_pred + 0.6 * lgb_pred\n",
    "preds = {'최종 혼합': pred,\n",
    "         'Ridge' : xgb_pred,\n",
    "         'Lasso' : lgb_pred}\n",
    "\n",
    "get_rmse_pred(preds)"
   ]
  },
  {
   "cell_type": "markdown",
   "metadata": {},
   "source": [
    "### Stacking Model"
   ]
  },
  {
   "cell_type": "markdown",
   "metadata": {},
   "source": [
    "- 회귀에서 스태킹 모델이 잘 (?) 먹히는 편이라고 한다.."
   ]
  },
  {
   "cell_type": "code",
   "execution_count": null,
   "metadata": {},
   "outputs": [],
   "source": [
    "from sklearn.model_selection import KFold\n",
    "from sklearn.metrics import mean_absolute_error\n",
    "\n"
   ]
  }
 ],
 "metadata": {
  "kernelspec": {
   "display_name": "Python 3 (ipykernel)",
   "language": "python",
   "name": "python3"
  },
  "language_info": {
   "codemirror_mode": {
    "name": "ipython",
    "version": 3
   },
   "file_extension": ".py",
   "mimetype": "text/x-python",
   "name": "python",
   "nbconvert_exporter": "python",
   "pygments_lexer": "ipython3",
   "version": "3.9.13"
  }
 },
 "nbformat": 4,
 "nbformat_minor": 5
}
