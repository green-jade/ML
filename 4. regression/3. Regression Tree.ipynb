{
 "cells": [
  {
   "cell_type": "markdown",
   "id": "2b10b773",
   "metadata": {},
   "source": [
    "## Regression Tree"
   ]
  },
  {
   "cell_type": "markdown",
   "id": "9a730a1f",
   "metadata": {},
   "source": [
    "트리를 기반으로 하는 회귀방식\n",
    "- 리프 노드에 속한 데이터 값 (타깃 값)의 평균값을 구해 회귀 예측값을 계산함 == 이게 리프노드에 결정 값으로 할당되는 것!\n",
    "- decision tree, random forest, GBM, XGBoost, LightGBM 등 모든 트리 기반 알고리즘은 분류뿐만 아니라 회귀도 가능하다. \n",
    "    - 트리 생성이 CART 알고리즘에 기반하고 있기 때문! (: 분류 + 회귀 도 가능하게 해주는 트리 생성 알고리즘)"
   ]
  },
  {
   "cell_type": "code",
   "execution_count": 1,
   "id": "bfc990c1",
   "metadata": {},
   "outputs": [],
   "source": [
    "from sklearn.model_selection import cross_val_score\n",
    "from sklearn.ensemble import RandomForestRegressor\n",
    "\n",
    "import pandas as pd\n",
    "import numpy as np\n",
    "import warnings\n",
    "warnings.filterwarnings('ignore')"
   ]
  },
  {
   "cell_type": "code",
   "execution_count": 2,
   "id": "455e6ba1",
   "metadata": {},
   "outputs": [
    {
     "data": {
      "text/html": [
       "<div>\n",
       "<style scoped>\n",
       "    .dataframe tbody tr th:only-of-type {\n",
       "        vertical-align: middle;\n",
       "    }\n",
       "\n",
       "    .dataframe tbody tr th {\n",
       "        vertical-align: top;\n",
       "    }\n",
       "\n",
       "    .dataframe thead th {\n",
       "        text-align: right;\n",
       "    }\n",
       "</style>\n",
       "<table border=\"1\" class=\"dataframe\">\n",
       "  <thead>\n",
       "    <tr style=\"text-align: right;\">\n",
       "      <th></th>\n",
       "      <th>CRIM</th>\n",
       "      <th>ZN</th>\n",
       "      <th>INDUS</th>\n",
       "      <th>CHAS</th>\n",
       "      <th>NOX</th>\n",
       "      <th>RM</th>\n",
       "      <th>AGE</th>\n",
       "      <th>DIS</th>\n",
       "      <th>RAD</th>\n",
       "      <th>TAX</th>\n",
       "      <th>PTRATIO</th>\n",
       "      <th>B</th>\n",
       "      <th>LSTAT</th>\n",
       "      <th>PRICE</th>\n",
       "    </tr>\n",
       "  </thead>\n",
       "  <tbody>\n",
       "    <tr>\n",
       "      <th>0</th>\n",
       "      <td>0.00632</td>\n",
       "      <td>18.0</td>\n",
       "      <td>2.31</td>\n",
       "      <td>0</td>\n",
       "      <td>0.538</td>\n",
       "      <td>6.575</td>\n",
       "      <td>65.2</td>\n",
       "      <td>4.0900</td>\n",
       "      <td>1</td>\n",
       "      <td>296</td>\n",
       "      <td>15.3</td>\n",
       "      <td>396.90</td>\n",
       "      <td>4.98</td>\n",
       "      <td>24.0</td>\n",
       "    </tr>\n",
       "    <tr>\n",
       "      <th>1</th>\n",
       "      <td>0.02731</td>\n",
       "      <td>0.0</td>\n",
       "      <td>7.07</td>\n",
       "      <td>0</td>\n",
       "      <td>0.469</td>\n",
       "      <td>6.421</td>\n",
       "      <td>78.9</td>\n",
       "      <td>4.9671</td>\n",
       "      <td>2</td>\n",
       "      <td>242</td>\n",
       "      <td>17.8</td>\n",
       "      <td>396.90</td>\n",
       "      <td>9.14</td>\n",
       "      <td>21.6</td>\n",
       "    </tr>\n",
       "    <tr>\n",
       "      <th>2</th>\n",
       "      <td>0.02729</td>\n",
       "      <td>0.0</td>\n",
       "      <td>7.07</td>\n",
       "      <td>0</td>\n",
       "      <td>0.469</td>\n",
       "      <td>7.185</td>\n",
       "      <td>61.1</td>\n",
       "      <td>4.9671</td>\n",
       "      <td>2</td>\n",
       "      <td>242</td>\n",
       "      <td>17.8</td>\n",
       "      <td>392.83</td>\n",
       "      <td>4.03</td>\n",
       "      <td>34.7</td>\n",
       "    </tr>\n",
       "    <tr>\n",
       "      <th>3</th>\n",
       "      <td>0.03237</td>\n",
       "      <td>0.0</td>\n",
       "      <td>2.18</td>\n",
       "      <td>0</td>\n",
       "      <td>0.458</td>\n",
       "      <td>6.998</td>\n",
       "      <td>45.8</td>\n",
       "      <td>6.0622</td>\n",
       "      <td>3</td>\n",
       "      <td>222</td>\n",
       "      <td>18.7</td>\n",
       "      <td>394.63</td>\n",
       "      <td>2.94</td>\n",
       "      <td>33.4</td>\n",
       "    </tr>\n",
       "    <tr>\n",
       "      <th>4</th>\n",
       "      <td>0.06905</td>\n",
       "      <td>0.0</td>\n",
       "      <td>2.18</td>\n",
       "      <td>0</td>\n",
       "      <td>0.458</td>\n",
       "      <td>7.147</td>\n",
       "      <td>54.2</td>\n",
       "      <td>6.0622</td>\n",
       "      <td>3</td>\n",
       "      <td>222</td>\n",
       "      <td>18.7</td>\n",
       "      <td>396.90</td>\n",
       "      <td>5.33</td>\n",
       "      <td>36.2</td>\n",
       "    </tr>\n",
       "  </tbody>\n",
       "</table>\n",
       "</div>"
      ],
      "text/plain": [
       "      CRIM    ZN  INDUS  CHAS    NOX     RM   AGE     DIS  RAD  TAX  PTRATIO  \\\n",
       "0  0.00632  18.0   2.31     0  0.538  6.575  65.2  4.0900    1  296     15.3   \n",
       "1  0.02731   0.0   7.07     0  0.469  6.421  78.9  4.9671    2  242     17.8   \n",
       "2  0.02729   0.0   7.07     0  0.469  7.185  61.1  4.9671    2  242     17.8   \n",
       "3  0.03237   0.0   2.18     0  0.458  6.998  45.8  6.0622    3  222     18.7   \n",
       "4  0.06905   0.0   2.18     0  0.458  7.147  54.2  6.0622    3  222     18.7   \n",
       "\n",
       "        B  LSTAT  PRICE  \n",
       "0  396.90   4.98   24.0  \n",
       "1  396.90   9.14   21.6  \n",
       "2  392.83   4.03   34.7  \n",
       "3  394.63   2.94   33.4  \n",
       "4  396.90   5.33   36.2  "
      ]
     },
     "execution_count": 2,
     "metadata": {},
     "output_type": "execute_result"
    }
   ],
   "source": [
    "df = pd.read_csv('boston.csv')\n",
    "df.head()"
   ]
  },
  {
   "cell_type": "code",
   "execution_count": 3,
   "id": "1884df5c",
   "metadata": {},
   "outputs": [],
   "source": [
    "X = df.drop('PRICE', axis=1)\n",
    "y = df.PRICE"
   ]
  },
  {
   "cell_type": "markdown",
   "id": "73a17160",
   "metadata": {},
   "source": [
    "#### RandomForest Regressor를 이용한 회귀"
   ]
  },
  {
   "cell_type": "code",
   "execution_count": 6,
   "id": "72c334fe",
   "metadata": {},
   "outputs": [
    {
     "name": "stdout",
     "output_type": "stream",
     "text": [
      "5 교차 검증의 개별 Negative MSE scores:  [ -7.88 -13.14 -20.57 -46.23 -18.88]\n",
      "5 교차 검증의 개별 RMSE scores:  [2.81 3.63 4.54 6.8  4.34]\n",
      "5 교차 검증의 평균 RMSE: 4.423\n"
     ]
    }
   ],
   "source": [
    "rf_regressor = RandomForestRegressor(random_state=0, n_estimators=1000)\n",
    "neg_mse_scores = cross_val_score(rf_regressor, X, y, scoring = \"neg_mean_squared_error\", cv=5)\n",
    "rmse_scores = np.sqrt(-1 * neg_mse_scores)\n",
    "avg_rmse = np.mean(rmse_scores)\n",
    "\n",
    "print('5 교차 검증의 개별 Negative MSE scores: ', np.round(neg_mse_scores,2))\n",
    "print('5 교차 검증의 개별 RMSE scores: ', np.round(rmse_scores,2))\n",
    "print('5 교차 검증의 평균 RMSE: {0:.3f}'.format(avg_rmse))"
   ]
  },
  {
   "cell_type": "markdown",
   "id": "a7da0c75",
   "metadata": {},
   "source": [
    "#### Decision Tree Regressor, GradientBoost Regressor, XGB Regressor, LightGBM Regressor"
   ]
  },
  {
   "cell_type": "code",
   "execution_count": 8,
   "id": "f66ea036",
   "metadata": {},
   "outputs": [],
   "source": [
    "from sklearn.tree import DecisionTreeRegressor\n",
    "from sklearn.ensemble import GradientBoostingRegressor\n",
    "from xgboost import XGBRegressor\n",
    "from lightgbm import LGBMRegressor"
   ]
  },
  {
   "cell_type": "code",
   "execution_count": 9,
   "id": "c3f8dd46",
   "metadata": {},
   "outputs": [
    {
     "name": "stdout",
     "output_type": "stream",
     "text": [
      "#### RandomForestRegressor ####\n",
      "5 fold cross validation average RMSE: 4.423\n",
      "#### DecisionTreeRegressor ####\n",
      "5 fold cross validation average RMSE: 5.978\n",
      "#### GradientBoostingRegressor ####\n",
      "5 fold cross validation average RMSE: 4.269\n",
      "#### XGBRegressor ####\n",
      "5 fold cross validation average RMSE: 4.251\n",
      "#### LGBMRegressor ####\n",
      "5 fold cross validation average RMSE: 4.646\n"
     ]
    }
   ],
   "source": [
    "dt_regressor = DecisionTreeRegressor(random_state=0, max_depth=4)\n",
    "gb_regressor = GradientBoostingRegressor(random_state=0, n_estimators=1000)\n",
    "xgb_regressor = XGBRegressor(n_estimators=1000)\n",
    "lgb_regressor = LGBMRegressor(n_estimators=1000)\n",
    "\n",
    "# tree based regressor models - evaluation\n",
    "models = [rf_regressor, dt_regressor, gb_regressor, xgb_regressor, lgb_regressor]\n",
    "for model in models:\n",
    "    neg_mse_scores = cross_val_score(model, X, y, scoring = \"neg_mean_squared_error\", cv=5)\n",
    "    rmse_scores = np.sqrt(-1 * neg_mse_scores)\n",
    "    avg_rmse = np.mean(rmse_scores)\n",
    "    print('####', model.__class__.__name__, '####')\n",
    "    print('5 fold cross validation average RMSE: {0:.3f}'.format(avg_rmse))"
   ]
  },
  {
   "cell_type": "markdown",
   "id": "dc998b98",
   "metadata": {},
   "source": [
    "회귀 트리 Regressor class는 선형 회귀와 다른 방식이므로 회귀 계수를 제공하는 coef_ 속성이 없음. \n",
    "\n",
    "대신 'feature_importances_'를 이용해 피처별 중요도를 알 수 있음."
   ]
  },
  {
   "cell_type": "code",
   "execution_count": 11,
   "id": "d4a39c9b",
   "metadata": {},
   "outputs": [
    {
     "data": {
      "text/plain": [
       "<AxesSubplot:>"
      ]
     },
     "execution_count": 11,
     "metadata": {},
     "output_type": "execute_result"
    },
    {
     "data": {
      "image/png": "[encoded data removed]",
      "text/plain": [
       "<Figure size 432x288 with 1 Axes>"
      ]
     },
     "metadata": {
      "needs_background": "light"
     },
     "output_type": "display_data"
    }
   ],
   "source": [
    "# 모델의 피처별 중요도 시각화\n",
    "import seaborn as sns\n",
    "%matplotlib inline\n",
    "\n",
    "rf_regressor.fit(X,y)\n",
    "feature_series = pd.Series(data = rf_regressor.feature_importances_,\n",
    "                           index = X.columns)\n",
    "feature_series = feature_series.sort_values(ascending=False)\n",
    "sns.barplot(x=feature_series, y=feature_series.index)"
   ]
  },
  {
   "cell_type": "code",
   "execution_count": 14,
   "id": "ca772463",
   "metadata": {},
   "outputs": [
    {
     "data": {
      "text/plain": [
       "<matplotlib.collections.PathCollection at 0x1fd6f3f2a00>"
      ]
     },
     "execution_count": 14,
     "metadata": {},
     "output_type": "execute_result"
    },
    {
     "data": {
      "image/png": "[encoded data removed]",
      "text/plain": [
       "<Figure size 432x288 with 1 Axes>"
      ]
     },
     "metadata": {
      "needs_background": "light"
     },
     "output_type": "display_data"
    }
   ],
   "source": [
    "# 회귀 트리 regressor가 예측하는 것 vs 선형회귀 비교 시각화\n",
    "\n",
    "df_sample = df[['RM', 'PRICE']].sample(n=100, random_state=0)\n",
    "import matplotlib.pyplot as plt\n",
    "plt.figure()\n",
    "plt.scatter(x=df_sample.RM, y=df_sample.PRICE)"
   ]
  },
  {
   "cell_type": "code",
   "execution_count": 16,
   "id": "6fb9c40d",
   "metadata": {},
   "outputs": [],
   "source": [
    "from sklearn.linear_model import LinearRegression\n",
    "\n",
    "lr = LinearRegression()\n",
    "dt_reg_2 = DecisionTreeRegressor(max_depth=2)\n",
    "dt_reg_7 = DecisionTreeRegressor(max_depth=7)\n",
    "\n",
    "# 예측할 데이터 (x값들)\n",
    "X_test = np.arange(4.5, 8.5, 0.04).reshape(-1,1)\n",
    "\n",
    "X_train = df_sample.RM.values.reshape(-1,1)\n",
    "y_train = df_sample.PRICE.values.reshape(-1,1)\n",
    "\n",
    "lr.fit(X_train, y_train)\n",
    "dt_reg_2.fit(X_train, y_train)\n",
    "dt_reg_7.fit(X_train, y_train)\n",
    "\n",
    "pred_lr = lr.predict(X_test)\n",
    "pred_dt2 = dt_reg_2.predict(X_test)\n",
    "pred_dt7 = dt_reg_7.predict(X_test)"
   ]
  },
  {
   "cell_type": "code",
   "execution_count": 17,
   "id": "15501eec",
   "metadata": {},
   "outputs": [
    {
     "data": {
      "text/plain": [
       "[<matplotlib.lines.Line2D at 0x1fd6f5f66a0>]"
      ]
     },
     "execution_count": 17,
     "metadata": {},
     "output_type": "execute_result"
    },
    {
     "data": {
      "image/png": "[encoded data removed]",
      "text/plain": [
       "<Figure size 1008x288 with 3 Axes>"
      ]
     },
     "metadata": {
      "needs_background": "light"
     },
     "output_type": "display_data"
    }
   ],
   "source": [
    "fig, (ax1, ax2, ax3) = plt.subplots(figsize=(14,4), ncols=3)\n",
    "\n",
    "ax1.set_title('Linear Regression')\n",
    "ax1.scatter(df_sample.RM, df_sample.PRICE)\n",
    "ax1.plot(X_test, pred_lr, label = \"linear\", linewidth=2)\n",
    "\n",
    "ax2.set_title('Decision Tree Regressor with max depth 2')\n",
    "ax2.scatter(df_sample.RM, df_sample.PRICE)\n",
    "ax2.plot(X_test, pred_dt2, label = \"max_depth:2\", linewidth=2)\n",
    "\n",
    "ax3.set_title('Decision Tree Regressor with max depth 7')\n",
    "ax3.scatter(df_sample.RM, df_sample.PRICE)\n",
    "ax3.plot(X_test, pred_dt7, label = \"max_depth:7\", linewidth=2)"
   ]
  },
  {
   "cell_type": "markdown",
   "id": "517ba372",
   "metadata": {},
   "source": [
    "- 선형 회귀는 직선으로 예측 회귀선을 표현하는 데 반해, \n",
    "- 회귀 트리는 분할되는 데이터 지점에 따라 계단 형태의 회귀선을 만듦"
   ]
  }
 ],
 "metadata": {
  "kernelspec": {
   "display_name": "Python 3 (ipykernel)",
   "language": "python",
   "name": "python3"
  },
  "language_info": {
   "codemirror_mode": {
    "name": "ipython",
    "version": 3
   },
   "file_extension": ".py",
   "mimetype": "text/x-python",
   "name": "python",
   "nbconvert_exporter": "python",
   "pygments_lexer": "ipython3",
   "version": "3.9.7"
  }
 },
 "nbformat": 4,
 "nbformat_minor": 5
}
