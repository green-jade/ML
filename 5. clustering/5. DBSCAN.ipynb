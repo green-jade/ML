{
 "cells": [
  {
   "cell_type": "markdown",
   "metadata": {},
   "source": [
    "## DBSCAN \n",
    "\n",
    "(Density Based Spatial Clustering of Applications with Noise)\n",
    "\n"
   ]
  },
  {
   "cell_type": "markdown",
   "metadata": {},
   "source": [
    "- 특정 공간 내에 데이터 밀도 차이 기반 알고리즘\n",
    "- 복잡한 기하학적 분포도를 가진 데이터 세트에 대해서도 군집화를 잘 수행\n",
    "- 알고리즘이 데이터 밀도 차이를 자동으로 감지함\n",
    "- 알아서 군집을 생성하므로 사용자가 군집 개수를 지정할 수 없음"
   ]
  },
  {
   "cell_type": "markdown",
   "metadata": {},
   "source": [
    "DBSCAN을 구성하는 가장 중요한 두 가지 파라미터는 입실론으로 표기하는 주변 영역과 이 입실론 주변 영역에 포함되는 최소 데이터의 개수 min points이다. \n",
    "- 입실론 주변 영역 (epsilon): 개별 데이터를 중심으로 입실론 반경을 가지는 원형의 영역\n",
    "- 최소 데이터 개수 (min points): 개별 데이터의 입실론 주변 영역에 포함되는 타 데이터의 개수"
   ]
  },
  {
   "cell_type": "markdown",
   "metadata": {},
   "source": []
  }
 ],
 "metadata": {
  "language_info": {
   "name": "python"
  }
 },
 "nbformat": 4,
 "nbformat_minor": 2
}
