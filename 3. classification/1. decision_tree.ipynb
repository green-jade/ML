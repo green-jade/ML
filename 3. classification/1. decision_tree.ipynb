{
 "cells": [
  {
   "cell_type": "markdown",
   "id": "dcabe3bc",
   "metadata": {},
   "source": [
    "### 구조"
   ]
  },
  {
   "cell_type": "markdown",
   "id": "5bb79e6b",
   "metadata": {},
   "source": [
    "* 루트 노드 \n",
    "* 규칙 노드 (Decision Node) : 규칙 조건\n",
    "* 리프 노드 (Leaf Node) : 결정된 클래스 값\n",
    "\n",
    "* 새로운 규칙 조건마다 서브 트리 (Sub Tree) / 브랜치가 만들어짐\n",
    "\n",
    "\n",
    "* 규칙이 많아진다는 것 = 분류를 결정하는 방식이 더욱 복잡해진다는 것 = 과적합 \n",
    "* 트리의 깊이(depth)가 깊어질수록 결정 트리의 예측 성능이 저하될 가능성이 높아짐 \n",
    "\n",
    "\n",
    "* 가능한 한 적은 결정 노드로 높은 예측 정확도를 가지려면 데이터를 분류할 때 최대한 많은 데이터 세트가 해당 분류에 속할 수 있도록 결정 노드의 규칙이 정해져야 함\n",
    "* 이를 위해서는 어떻게 트리를 분할(Split)할 것인가가 중요한데, 최대한 **균일한** 데이터 세트를 구성할 수 있도록 분할하는 것이 필요"
   ]
  },
  {
   "cell_type": "code",
   "execution_count": 8,
   "id": "c184c08f",
   "metadata": {},
   "outputs": [
    {
     "data": {
      "text/plain": [
       "<matplotlib.image.AxesImage at 0x28cfee19400>"
      ]
     },
     "execution_count": 8,
     "metadata": {},
     "output_type": "execute_result"
    },
    {
     "data": {
      "image/png": "[encoded data removed]",
      "text/plain": [
       "<Figure size 432x288 with 1 Axes>"
      ]
     },
     "metadata": {
      "needs_background": "light"
     },
     "output_type": "display_data"
    }
   ],
   "source": [
    "import matplotlib.image as mpimg\n",
    "import matplotlib.pyplot as plt\n",
    "\n",
    "# Read Images\n",
    "img = mpimg.imread('dt_regression.png')\n",
    "\n",
    "# Output Images\n",
    "plt.imshow(img)\n"
   ]
  },
  {
   "cell_type": "markdown",
   "id": "0b25895d",
   "metadata": {},
   "source": [
    "### 장점"
   ]
  },
  {
   "cell_type": "markdown",
   "id": "3d3f845f",
   "metadata": {},
   "source": [
    "* \"균일도\"라는 기준을 기반으로 하여 알고리즘이 쉽고 직관적 + 시각화 쉬움\n",
    "* 데이터의 스케일링이나 정규화 등 사전 가공의 영향이 적음\n",
    "* 숫자형 & 범주형 데이터 모두 다룰 수 있음 (단, scikit-learn은 숫자형만 다룸)\n",
    "* The cost of using the tree (i.e., predicting data) is logarithmic in the number of data points used to train the tree.\n",
    "* Uses a white box model. If a given situation is observable in a model, the explanation for the condition is easily explained by boolean logic. By contrast, in a black box model (e.g., in an artificial neural network), results may be more difficult to interpret.\n",
    "* Possible to validate a model using statistical tests. That makes it possible to account for the reliability of the model."
   ]
  },
  {
   "cell_type": "markdown",
   "id": "6a72c8b5",
   "metadata": {},
   "source": [
    "### 단점"
   ]
  },
  {
   "cell_type": "markdown",
   "id": "436aa9db",
   "metadata": {},
   "source": [
    "* 예측 성능을 향상시키기 위해 복잡한 규칙 구조를 가져야 함\n",
    "* 이로 인해 과적합이 발생해 반대로 예측 성능이 저하될 수도 있음 (Mechanisms such as *pruning*, setting the minimum number of samples required at a leaf node or setting the maximum depth of the tree are necessary to avoid this problem.)\n",
    "* can be unstable because small variations in the data might result in a completely different tree being generated. This problem is mitigated by using decision trees *within an ensemble*\n",
    "* Predictions of decision trees are neither smooth nor continuous, but piecewise constant approximations as seen in the above figure. Therefore, they are not good at extrapolation(estimating an unknown value based on extending a known sequence of values or facts)"
   ]
  },
  {
   "cell_type": "markdown",
   "id": "e1346535",
   "metadata": {},
   "source": [
    "### 정보 균일도 측정 방법\n",
    "1. **정보 이득** (information gain) : (정보 이득 지수) = 1 - (엔트로피 지수) \n",
    "\n",
    "    * 엔트로피가 클수록 데이터 집합의 혼잡도가 높음을 의미하므로, 정보 이득이 높은 속성을 기준으로 분할함.\n",
    "    \n",
    "\n",
    "2. **지니 계수**  \n",
    "    * 지니 계수가 낮을수록 데이터 균일도가 높은 것으로 해석해 지니 계수가 낮은 속성을 기준으로 분할함. "
   ]
  },
  {
   "cell_type": "markdown",
   "id": "10bca518",
   "metadata": {},
   "source": [
    "### 결정 트리 파라미터"
   ]
  },
  {
   "cell_type": "markdown",
   "id": "d93aae7c",
   "metadata": {},
   "source": [
    "scikit learn에서 결정 트리 알고리즘을 구현한 클래스 2개 : DecisionTreeClassifier (분류용) / DecisionTreeRegressor (회귀용)\n",
    "* scikit learn의 결정 트리 구현은 **CART 알고리즘** 기반임. (알고리즘 종류 - ID3, C4.5, C5.0, CART)"
   ]
  },
  {
   "cell_type": "code",
   "execution_count": 10,
   "id": "d20741a3",
   "metadata": {},
   "outputs": [],
   "source": [
    "from sklearn.tree import DecisionTreeClassifier\n",
    "from sklearn.datasets import load_iris\n",
    "from sklearn.model_selection import train_test_split\n",
    "import warnings\n",
    "warnings.filterwarnings('ignore')"
   ]
  },
  {
   "cell_type": "code",
   "execution_count": 11,
   "id": "52aa3986",
   "metadata": {},
   "outputs": [
    {
     "data": {
      "text/plain": [
       "DecisionTreeClassifier(random_state=100)"
      ]
     },
     "execution_count": 11,
     "metadata": {},
     "output_type": "execute_result"
    }
   ],
   "source": [
    "dt_clf = DecisionTreeClassifier(random_state = 100)\n",
    "iris_data = load_iris()\n",
    "Xtrain, Xtest, ytrain, ytest = train_test_split(iris_data.data, iris_data.target, test_size = 0.2, random_state = 10)\n",
    "dt_clf.fit(Xtrain, ytrain)"
   ]
  },
  {
   "cell_type": "code",
   "execution_count": 13,
   "id": "e765fbeb",
   "metadata": {},
   "outputs": [
    {
     "data": {
      "text/plain": [
       "array(['setosa', 'versicolor', 'virginica'], dtype='<U10')"
      ]
     },
     "execution_count": 13,
     "metadata": {},
     "output_type": "execute_result"
    }
   ],
   "source": [
    "iris_data.target_names"
   ]
  },
  {
   "cell_type": "code",
   "execution_count": 14,
   "id": "1488e376",
   "metadata": {},
   "outputs": [
    {
     "data": {
      "text/plain": [
       "['sepal length (cm)',\n",
       " 'sepal width (cm)',\n",
       " 'petal length (cm)',\n",
       " 'petal width (cm)']"
      ]
     },
     "execution_count": 14,
     "metadata": {},
     "output_type": "execute_result"
    }
   ],
   "source": [
    "iris_data.feature_names"
   ]
  },
  {
   "cell_type": "code",
   "execution_count": 12,
   "id": "f0711610",
   "metadata": {},
   "outputs": [
    {
     "data": {
      "image/svg+xml": [
       "<?xml version=\"1.0\" encoding=\"UTF-8\" standalone=\"no\"?>\n",
       "<!DOCTYPE svg PUBLIC \"-//W3C//DTD SVG 1.1//EN\"\n",
       " \"http://www.w3.org/Graphics/SVG/1.1/DTD/svg11.dtd\">\n",
       "<!-- Generated by graphviz version 8.1.0 (20230707.0739)\n",
       " -->\n",
       "<!-- Title: Tree Pages: 1 -->\n",
       "<svg width=\"787pt\" height=\"841pt\"\n",
       " viewBox=\"0.00 0.00 787.25 841.00\" xmlns=\"http://www.w3.org/2000/svg\" xmlns:xlink=\"http://www.w3.org/1999/xlink\">\n",
       "<g id=\"graph0\" class=\"graph\" transform=\"scale(1 1) rotate(0) translate(4 837)\">\n",
       "<title>Tree</title>\n",
       "<polygon fill=\"white\" stroke=\"none\" points=\"-4,4 -4,-837 783.25,-837 783.25,4 -4,4\"/>\n",
       "<!-- 0 -->\n",
       "<g id=\"node1\" class=\"node\">\n",
       "<title>0</title>\n",
       "<polygon fill=\"#faf8fe\" stroke=\"black\" points=\"292.88,-833 119.38,-833 119.38,-742.5 292.88,-742.5 292.88,-833\"/>\n",
       "<text text-anchor=\"middle\" x=\"206.12\" y=\"-815.7\" font-family=\"Helvetica,sans-Serif\" font-size=\"14.00\">petal length (cm) &lt;= 2.45</text>\n",
       "<text text-anchor=\"middle\" x=\"206.12\" y=\"-799.2\" font-family=\"Helvetica,sans-Serif\" font-size=\"14.00\">gini = 0.665</text>\n",
       "<text text-anchor=\"middle\" x=\"206.12\" y=\"-782.7\" font-family=\"Helvetica,sans-Serif\" font-size=\"14.00\">samples = 120</text>\n",
       "<text text-anchor=\"middle\" x=\"206.12\" y=\"-766.2\" font-family=\"Helvetica,sans-Serif\" font-size=\"14.00\">value = [40, 37, 43]</text>\n",
       "<text text-anchor=\"middle\" x=\"206.12\" y=\"-749.7\" font-family=\"Helvetica,sans-Serif\" font-size=\"14.00\">class = virginica</text>\n",
       "</g>\n",
       "<!-- 1 -->\n",
       "<g id=\"node2\" class=\"node\">\n",
       "<title>1</title>\n",
       "<polygon fill=\"#e58139\" stroke=\"black\" points=\"184.25,-698.25 64,-698.25 64,-624.25 184.25,-624.25 184.25,-698.25\"/>\n",
       "<text text-anchor=\"middle\" x=\"124.12\" y=\"-680.95\" font-family=\"Helvetica,sans-Serif\" font-size=\"14.00\">gini = 0.0</text>\n",
       "<text text-anchor=\"middle\" x=\"124.12\" y=\"-664.45\" font-family=\"Helvetica,sans-Serif\" font-size=\"14.00\">samples = 40</text>\n",
       "<text text-anchor=\"middle\" x=\"124.12\" y=\"-647.95\" font-family=\"Helvetica,sans-Serif\" font-size=\"14.00\">value = [40, 0, 0]</text>\n",
       "<text text-anchor=\"middle\" x=\"124.12\" y=\"-631.45\" font-family=\"Helvetica,sans-Serif\" font-size=\"14.00\">class = setosa</text>\n",
       "</g>\n",
       "<!-- 0&#45;&gt;1 -->\n",
       "<g id=\"edge1\" class=\"edge\">\n",
       "<title>0&#45;&gt;1</title>\n",
       "<path fill=\"none\" stroke=\"black\" d=\"M176.75,-742.15C169.28,-730.81 161.25,-718.62 153.77,-707.26\"/>\n",
       "<polygon fill=\"black\" stroke=\"black\" points=\"156.33,-705.78 147.91,-699.36 150.48,-709.63 156.33,-705.78\"/>\n",
       "<text text-anchor=\"middle\" x=\"142.87\" y=\"-717.79\" font-family=\"Helvetica,sans-Serif\" font-size=\"14.00\">True</text>\n",
       "</g>\n",
       "<!-- 2 -->\n",
       "<g id=\"node3\" class=\"node\">\n",
       "<title>2</title>\n",
       "<polygon fill=\"#ede3fb\" stroke=\"black\" points=\"375.88,-706.5 202.38,-706.5 202.38,-616 375.88,-616 375.88,-706.5\"/>\n",
       "<text text-anchor=\"middle\" x=\"289.12\" y=\"-689.2\" font-family=\"Helvetica,sans-Serif\" font-size=\"14.00\">petal length (cm) &lt;= 4.75</text>\n",
       "<text text-anchor=\"middle\" x=\"289.12\" y=\"-672.7\" font-family=\"Helvetica,sans-Serif\" font-size=\"14.00\">gini = 0.497</text>\n",
       "<text text-anchor=\"middle\" x=\"289.12\" y=\"-656.2\" font-family=\"Helvetica,sans-Serif\" font-size=\"14.00\">samples = 80</text>\n",
       "<text text-anchor=\"middle\" x=\"289.12\" y=\"-639.7\" font-family=\"Helvetica,sans-Serif\" font-size=\"14.00\">value = [0, 37, 43]</text>\n",
       "<text text-anchor=\"middle\" x=\"289.12\" y=\"-623.2\" font-family=\"Helvetica,sans-Serif\" font-size=\"14.00\">class = virginica</text>\n",
       "</g>\n",
       "<!-- 0&#45;&gt;2 -->\n",
       "<g id=\"edge2\" class=\"edge\">\n",
       "<title>0&#45;&gt;2</title>\n",
       "<path fill=\"none\" stroke=\"black\" d=\"M235.86,-742.15C241.52,-733.66 247.5,-724.69 253.33,-715.95\"/>\n",
       "<polygon fill=\"black\" stroke=\"black\" points=\"256.69,-718.21 259.32,-707.95 250.86,-714.33 256.69,-718.21\"/>\n",
       "<text text-anchor=\"middle\" x=\"264.23\" y=\"-726.42\" font-family=\"Helvetica,sans-Serif\" font-size=\"14.00\">False</text>\n",
       "</g>\n",
       "<!-- 3 -->\n",
       "<g id=\"node4\" class=\"node\">\n",
       "<title>3</title>\n",
       "<polygon fill=\"#3fe685\" stroke=\"black\" points=\"279.88,-580 112.38,-580 112.38,-489.5 279.88,-489.5 279.88,-580\"/>\n",
       "<text text-anchor=\"middle\" x=\"196.12\" y=\"-562.7\" font-family=\"Helvetica,sans-Serif\" font-size=\"14.00\">petal width (cm) &lt;= 1.65</text>\n",
       "<text text-anchor=\"middle\" x=\"196.12\" y=\"-546.2\" font-family=\"Helvetica,sans-Serif\" font-size=\"14.00\">gini = 0.057</text>\n",
       "<text text-anchor=\"middle\" x=\"196.12\" y=\"-529.7\" font-family=\"Helvetica,sans-Serif\" font-size=\"14.00\">samples = 34</text>\n",
       "<text text-anchor=\"middle\" x=\"196.12\" y=\"-513.2\" font-family=\"Helvetica,sans-Serif\" font-size=\"14.00\">value = [0, 33, 1]</text>\n",
       "<text text-anchor=\"middle\" x=\"196.12\" y=\"-496.7\" font-family=\"Helvetica,sans-Serif\" font-size=\"14.00\">class = versicolor</text>\n",
       "</g>\n",
       "<!-- 2&#45;&gt;3 -->\n",
       "<g id=\"edge3\" class=\"edge\">\n",
       "<title>2&#45;&gt;3</title>\n",
       "<path fill=\"none\" stroke=\"black\" d=\"M255.81,-615.65C249.4,-607.07 242.63,-598 236.03,-589.17\"/>\n",
       "<polygon fill=\"black\" stroke=\"black\" points=\"238.31,-587.37 229.52,-581.45 232.7,-591.56 238.31,-587.37\"/>\n",
       "</g>\n",
       "<!-- 6 -->\n",
       "<g id=\"node7\" class=\"node\">\n",
       "<title>6</title>\n",
       "<polygon fill=\"#8d4ce7\" stroke=\"black\" points=\"465.88,-580 298.38,-580 298.38,-489.5 465.88,-489.5 465.88,-580\"/>\n",
       "<text text-anchor=\"middle\" x=\"382.12\" y=\"-562.7\" font-family=\"Helvetica,sans-Serif\" font-size=\"14.00\">petal width (cm) &lt;= 1.75</text>\n",
       "<text text-anchor=\"middle\" x=\"382.12\" y=\"-546.2\" font-family=\"Helvetica,sans-Serif\" font-size=\"14.00\">gini = 0.159</text>\n",
       "<text text-anchor=\"middle\" x=\"382.12\" y=\"-529.7\" font-family=\"Helvetica,sans-Serif\" font-size=\"14.00\">samples = 46</text>\n",
       "<text text-anchor=\"middle\" x=\"382.12\" y=\"-513.2\" font-family=\"Helvetica,sans-Serif\" font-size=\"14.00\">value = [0, 4, 42]</text>\n",
       "<text text-anchor=\"middle\" x=\"382.12\" y=\"-496.7\" font-family=\"Helvetica,sans-Serif\" font-size=\"14.00\">class = virginica</text>\n",
       "</g>\n",
       "<!-- 2&#45;&gt;6 -->\n",
       "<g id=\"edge6\" class=\"edge\">\n",
       "<title>2&#45;&gt;6</title>\n",
       "<path fill=\"none\" stroke=\"black\" d=\"M322.44,-615.65C328.85,-607.07 335.62,-598 342.22,-589.17\"/>\n",
       "<polygon fill=\"black\" stroke=\"black\" points=\"345.55,-591.56 348.73,-581.45 339.94,-587.37 345.55,-591.56\"/>\n",
       "</g>\n",
       "<!-- 4 -->\n",
       "<g id=\"node5\" class=\"node\">\n",
       "<title>4</title>\n",
       "<polygon fill=\"#39e581\" stroke=\"black\" points=\"126.25,-445.25 0,-445.25 0,-371.25 126.25,-371.25 126.25,-445.25\"/>\n",
       "<text text-anchor=\"middle\" x=\"63.12\" y=\"-427.95\" font-family=\"Helvetica,sans-Serif\" font-size=\"14.00\">gini = 0.0</text>\n",
       "<text text-anchor=\"middle\" x=\"63.12\" y=\"-411.45\" font-family=\"Helvetica,sans-Serif\" font-size=\"14.00\">samples = 33</text>\n",
       "<text text-anchor=\"middle\" x=\"63.12\" y=\"-394.95\" font-family=\"Helvetica,sans-Serif\" font-size=\"14.00\">value = [0, 33, 0]</text>\n",
       "<text text-anchor=\"middle\" x=\"63.12\" y=\"-378.45\" font-family=\"Helvetica,sans-Serif\" font-size=\"14.00\">class = versicolor</text>\n",
       "</g>\n",
       "<!-- 3&#45;&gt;4 -->\n",
       "<g id=\"edge4\" class=\"edge\">\n",
       "<title>3&#45;&gt;4</title>\n",
       "<path fill=\"none\" stroke=\"black\" d=\"M148.48,-489.15C135.77,-477.25 122.05,-464.41 109.41,-452.58\"/>\n",
       "<polygon fill=\"black\" stroke=\"black\" points=\"112.39,-450.63 102.7,-446.36 107.6,-455.75 112.39,-450.63\"/>\n",
       "</g>\n",
       "<!-- 5 -->\n",
       "<g id=\"node6\" class=\"node\">\n",
       "<title>5</title>\n",
       "<polygon fill=\"#8139e5\" stroke=\"black\" points=\"260,-445.25 144.25,-445.25 144.25,-371.25 260,-371.25 260,-445.25\"/>\n",
       "<text text-anchor=\"middle\" x=\"202.12\" y=\"-427.95\" font-family=\"Helvetica,sans-Serif\" font-size=\"14.00\">gini = 0.0</text>\n",
       "<text text-anchor=\"middle\" x=\"202.12\" y=\"-411.45\" font-family=\"Helvetica,sans-Serif\" font-size=\"14.00\">samples = 1</text>\n",
       "<text text-anchor=\"middle\" x=\"202.12\" y=\"-394.95\" font-family=\"Helvetica,sans-Serif\" font-size=\"14.00\">value = [0, 0, 1]</text>\n",
       "<text text-anchor=\"middle\" x=\"202.12\" y=\"-378.45\" font-family=\"Helvetica,sans-Serif\" font-size=\"14.00\">class = virginica</text>\n",
       "</g>\n",
       "<!-- 3&#45;&gt;5 -->\n",
       "<g id=\"edge5\" class=\"edge\">\n",
       "<title>3&#45;&gt;5</title>\n",
       "<path fill=\"none\" stroke=\"black\" d=\"M198.27,-489.15C198.79,-478.49 199.34,-467.06 199.86,-456.29\"/>\n",
       "<polygon fill=\"black\" stroke=\"black\" points=\"203.4,-456.51 200.38,-446.36 196.41,-456.18 203.4,-456.51\"/>\n",
       "</g>\n",
       "<!-- 7 -->\n",
       "<g id=\"node8\" class=\"node\">\n",
       "<title>7</title>\n",
       "<polygon fill=\"#e0cef8\" stroke=\"black\" points=\"462.88,-453.5 289.38,-453.5 289.38,-363 462.88,-363 462.88,-453.5\"/>\n",
       "<text text-anchor=\"middle\" x=\"376.12\" y=\"-436.2\" font-family=\"Helvetica,sans-Serif\" font-size=\"14.00\">petal length (cm) &lt;= 5.35</text>\n",
       "<text text-anchor=\"middle\" x=\"376.12\" y=\"-419.7\" font-family=\"Helvetica,sans-Serif\" font-size=\"14.00\">gini = 0.49</text>\n",
       "<text text-anchor=\"middle\" x=\"376.12\" y=\"-403.2\" font-family=\"Helvetica,sans-Serif\" font-size=\"14.00\">samples = 7</text>\n",
       "<text text-anchor=\"middle\" x=\"376.12\" y=\"-386.7\" font-family=\"Helvetica,sans-Serif\" font-size=\"14.00\">value = [0, 3, 4]</text>\n",
       "<text text-anchor=\"middle\" x=\"376.12\" y=\"-370.2\" font-family=\"Helvetica,sans-Serif\" font-size=\"14.00\">class = virginica</text>\n",
       "</g>\n",
       "<!-- 6&#45;&gt;7 -->\n",
       "<g id=\"edge7\" class=\"edge\">\n",
       "<title>6&#45;&gt;7</title>\n",
       "<path fill=\"none\" stroke=\"black\" d=\"M379.98,-489.15C379.6,-481.29 379.2,-473.01 378.81,-464.89\"/>\n",
       "<polygon fill=\"black\" stroke=\"black\" points=\"382.26,-464.77 378.28,-454.95 375.26,-465.11 382.26,-464.77\"/>\n",
       "</g>\n",
       "<!-- 14 -->\n",
       "<g id=\"node15\" class=\"node\">\n",
       "<title>14</title>\n",
       "<polygon fill=\"#843ee6\" stroke=\"black\" points=\"654.88,-453.5 481.38,-453.5 481.38,-363 654.88,-363 654.88,-453.5\"/>\n",
       "<text text-anchor=\"middle\" x=\"568.12\" y=\"-436.2\" font-family=\"Helvetica,sans-Serif\" font-size=\"14.00\">petal length (cm) &lt;= 4.85</text>\n",
       "<text text-anchor=\"middle\" x=\"568.12\" y=\"-419.7\" font-family=\"Helvetica,sans-Serif\" font-size=\"14.00\">gini = 0.05</text>\n",
       "<text text-anchor=\"middle\" x=\"568.12\" y=\"-403.2\" font-family=\"Helvetica,sans-Serif\" font-size=\"14.00\">samples = 39</text>\n",
       "<text text-anchor=\"middle\" x=\"568.12\" y=\"-386.7\" font-family=\"Helvetica,sans-Serif\" font-size=\"14.00\">value = [0, 1, 38]</text>\n",
       "<text text-anchor=\"middle\" x=\"568.12\" y=\"-370.2\" font-family=\"Helvetica,sans-Serif\" font-size=\"14.00\">class = virginica</text>\n",
       "</g>\n",
       "<!-- 6&#45;&gt;14 -->\n",
       "<g id=\"edge14\" class=\"edge\">\n",
       "<title>6&#45;&gt;14</title>\n",
       "<path fill=\"none\" stroke=\"black\" d=\"M448.75,-489.15C462.91,-479.68 477.95,-469.61 492.42,-459.92\"/>\n",
       "<polygon fill=\"black\" stroke=\"black\" points=\"493.98,-462.42 500.34,-453.95 490.08,-456.61 493.98,-462.42\"/>\n",
       "</g>\n",
       "<!-- 8 -->\n",
       "<g id=\"node9\" class=\"node\">\n",
       "<title>8</title>\n",
       "<polygon fill=\"#bdf6d5\" stroke=\"black\" points=\"308.88,-327 141.38,-327 141.38,-236.5 308.88,-236.5 308.88,-327\"/>\n",
       "<text text-anchor=\"middle\" x=\"225.12\" y=\"-309.7\" font-family=\"Helvetica,sans-Serif\" font-size=\"14.00\">petal width (cm) &lt;= 1.55</text>\n",
       "<text text-anchor=\"middle\" x=\"225.12\" y=\"-293.2\" font-family=\"Helvetica,sans-Serif\" font-size=\"14.00\">gini = 0.48</text>\n",
       "<text text-anchor=\"middle\" x=\"225.12\" y=\"-276.7\" font-family=\"Helvetica,sans-Serif\" font-size=\"14.00\">samples = 5</text>\n",
       "<text text-anchor=\"middle\" x=\"225.12\" y=\"-260.2\" font-family=\"Helvetica,sans-Serif\" font-size=\"14.00\">value = [0, 3, 2]</text>\n",
       "<text text-anchor=\"middle\" x=\"225.12\" y=\"-243.7\" font-family=\"Helvetica,sans-Serif\" font-size=\"14.00\">class = versicolor</text>\n",
       "</g>\n",
       "<!-- 7&#45;&gt;8 -->\n",
       "<g id=\"edge8\" class=\"edge\">\n",
       "<title>7&#45;&gt;8</title>\n",
       "<path fill=\"none\" stroke=\"black\" d=\"M322.04,-362.65C310.87,-353.45 299.02,-343.68 287.58,-334.25\"/>\n",
       "<polygon fill=\"black\" stroke=\"black\" points=\"290.29,-331.11 280.34,-327.45 285.83,-336.51 290.29,-331.11\"/>\n",
       "</g>\n",
       "<!-- 13 -->\n",
       "<g id=\"node14\" class=\"node\">\n",
       "<title>13</title>\n",
       "<polygon fill=\"#8139e5\" stroke=\"black\" points=\"443,-318.75 327.25,-318.75 327.25,-244.75 443,-244.75 443,-318.75\"/>\n",
       "<text text-anchor=\"middle\" x=\"385.12\" y=\"-301.45\" font-family=\"Helvetica,sans-Serif\" font-size=\"14.00\">gini = 0.0</text>\n",
       "<text text-anchor=\"middle\" x=\"385.12\" y=\"-284.95\" font-family=\"Helvetica,sans-Serif\" font-size=\"14.00\">samples = 2</text>\n",
       "<text text-anchor=\"middle\" x=\"385.12\" y=\"-268.45\" font-family=\"Helvetica,sans-Serif\" font-size=\"14.00\">value = [0, 0, 2]</text>\n",
       "<text text-anchor=\"middle\" x=\"385.12\" y=\"-251.95\" font-family=\"Helvetica,sans-Serif\" font-size=\"14.00\">class = virginica</text>\n",
       "</g>\n",
       "<!-- 7&#45;&gt;13 -->\n",
       "<g id=\"edge13\" class=\"edge\">\n",
       "<title>7&#45;&gt;13</title>\n",
       "<path fill=\"none\" stroke=\"black\" d=\"M379.35,-362.65C380.12,-351.99 380.95,-340.56 381.72,-329.79\"/>\n",
       "<polygon fill=\"black\" stroke=\"black\" points=\"385.28,-330.08 382.51,-319.86 378.3,-329.58 385.28,-330.08\"/>\n",
       "</g>\n",
       "<!-- 9 -->\n",
       "<g id=\"node10\" class=\"node\">\n",
       "<title>9</title>\n",
       "<polygon fill=\"#c09cf2\" stroke=\"black\" points=\"246.75,-200.5 75.5,-200.5 75.5,-110 246.75,-110 246.75,-200.5\"/>\n",
       "<text text-anchor=\"middle\" x=\"161.12\" y=\"-183.2\" font-family=\"Helvetica,sans-Serif\" font-size=\"14.00\">sepal width (cm) &lt;= 2.95</text>\n",
       "<text text-anchor=\"middle\" x=\"161.12\" y=\"-166.7\" font-family=\"Helvetica,sans-Serif\" font-size=\"14.00\">gini = 0.444</text>\n",
       "<text text-anchor=\"middle\" x=\"161.12\" y=\"-150.2\" font-family=\"Helvetica,sans-Serif\" font-size=\"14.00\">samples = 3</text>\n",
       "<text text-anchor=\"middle\" x=\"161.12\" y=\"-133.7\" font-family=\"Helvetica,sans-Serif\" font-size=\"14.00\">value = [0, 1, 2]</text>\n",
       "<text text-anchor=\"middle\" x=\"161.12\" y=\"-117.2\" font-family=\"Helvetica,sans-Serif\" font-size=\"14.00\">class = virginica</text>\n",
       "</g>\n",
       "<!-- 8&#45;&gt;9 -->\n",
       "<g id=\"edge9\" class=\"edge\">\n",
       "<title>8&#45;&gt;9</title>\n",
       "<path fill=\"none\" stroke=\"black\" d=\"M202.2,-236.15C197.93,-227.84 193.42,-219.07 189.01,-210.5\"/>\n",
       "<polygon fill=\"black\" stroke=\"black\" points=\"191.79,-209.25 184.1,-201.95 185.56,-212.45 191.79,-209.25\"/>\n",
       "</g>\n",
       "<!-- 12 -->\n",
       "<g id=\"node13\" class=\"node\">\n",
       "<title>12</title>\n",
       "<polygon fill=\"#39e581\" stroke=\"black\" points=\"391.25,-192.25 265,-192.25 265,-118.25 391.25,-118.25 391.25,-192.25\"/>\n",
       "<text text-anchor=\"middle\" x=\"328.12\" y=\"-174.95\" font-family=\"Helvetica,sans-Serif\" font-size=\"14.00\">gini = 0.0</text>\n",
       "<text text-anchor=\"middle\" x=\"328.12\" y=\"-158.45\" font-family=\"Helvetica,sans-Serif\" font-size=\"14.00\">samples = 2</text>\n",
       "<text text-anchor=\"middle\" x=\"328.12\" y=\"-141.95\" font-family=\"Helvetica,sans-Serif\" font-size=\"14.00\">value = [0, 2, 0]</text>\n",
       "<text text-anchor=\"middle\" x=\"328.12\" y=\"-125.45\" font-family=\"Helvetica,sans-Serif\" font-size=\"14.00\">class = versicolor</text>\n",
       "</g>\n",
       "<!-- 8&#45;&gt;12 -->\n",
       "<g id=\"edge12\" class=\"edge\">\n",
       "<title>8&#45;&gt;12</title>\n",
       "<path fill=\"none\" stroke=\"black\" d=\"M262.02,-236.15C271.59,-224.59 281.89,-212.14 291.45,-200.58\"/>\n",
       "<polygon fill=\"black\" stroke=\"black\" points=\"294.58,-203.29 298.25,-193.36 289.18,-198.83 294.58,-203.29\"/>\n",
       "</g>\n",
       "<!-- 10 -->\n",
       "<g id=\"node11\" class=\"node\">\n",
       "<title>10</title>\n",
       "<polygon fill=\"#8139e5\" stroke=\"black\" points=\"150,-74 34.25,-74 34.25,0 150,0 150,-74\"/>\n",
       "<text text-anchor=\"middle\" x=\"92.12\" y=\"-56.7\" font-family=\"Helvetica,sans-Serif\" font-size=\"14.00\">gini = 0.0</text>\n",
       "<text text-anchor=\"middle\" x=\"92.12\" y=\"-40.2\" font-family=\"Helvetica,sans-Serif\" font-size=\"14.00\">samples = 2</text>\n",
       "<text text-anchor=\"middle\" x=\"92.12\" y=\"-23.7\" font-family=\"Helvetica,sans-Serif\" font-size=\"14.00\">value = [0, 0, 2]</text>\n",
       "<text text-anchor=\"middle\" x=\"92.12\" y=\"-7.2\" font-family=\"Helvetica,sans-Serif\" font-size=\"14.00\">class = virginica</text>\n",
       "</g>\n",
       "<!-- 9&#45;&gt;10 -->\n",
       "<g id=\"edge10\" class=\"edge\">\n",
       "<title>9&#45;&gt;10</title>\n",
       "<path fill=\"none\" stroke=\"black\" d=\"M134.65,-109.64C129.62,-101.17 124.35,-92.3 119.31,-83.8\"/>\n",
       "<polygon fill=\"black\" stroke=\"black\" points=\"121.84,-82.21 113.73,-75.39 115.82,-85.78 121.84,-82.21\"/>\n",
       "</g>\n",
       "<!-- 11 -->\n",
       "<g id=\"node12\" class=\"node\">\n",
       "<title>11</title>\n",
       "<polygon fill=\"#39e581\" stroke=\"black\" points=\"294.25,-74 168,-74 168,0 294.25,0 294.25,-74\"/>\n",
       "<text text-anchor=\"middle\" x=\"231.12\" y=\"-56.7\" font-family=\"Helvetica,sans-Serif\" font-size=\"14.00\">gini = 0.0</text>\n",
       "<text text-anchor=\"middle\" x=\"231.12\" y=\"-40.2\" font-family=\"Helvetica,sans-Serif\" font-size=\"14.00\">samples = 1</text>\n",
       "<text text-anchor=\"middle\" x=\"231.12\" y=\"-23.7\" font-family=\"Helvetica,sans-Serif\" font-size=\"14.00\">value = [0, 1, 0]</text>\n",
       "<text text-anchor=\"middle\" x=\"231.12\" y=\"-7.2\" font-family=\"Helvetica,sans-Serif\" font-size=\"14.00\">class = versicolor</text>\n",
       "</g>\n",
       "<!-- 9&#45;&gt;11 -->\n",
       "<g id=\"edge11\" class=\"edge\">\n",
       "<title>9&#45;&gt;11</title>\n",
       "<path fill=\"none\" stroke=\"black\" d=\"M187.99,-109.64C193.09,-101.17 198.43,-92.3 203.55,-83.8\"/>\n",
       "<polygon fill=\"black\" stroke=\"black\" points=\"207.05,-85.77 209.21,-75.39 201.05,-82.15 207.05,-85.77\"/>\n",
       "</g>\n",
       "<!-- 15 -->\n",
       "<g id=\"node16\" class=\"node\">\n",
       "<title>15</title>\n",
       "<polygon fill=\"#ffffff\" stroke=\"black\" points=\"640.62,-327 477.62,-327 477.62,-236.5 640.62,-236.5 640.62,-327\"/>\n",
       "<text text-anchor=\"middle\" x=\"559.12\" y=\"-309.7\" font-family=\"Helvetica,sans-Serif\" font-size=\"14.00\">sepal width (cm) &lt;= 3.1</text>\n",
       "<text text-anchor=\"middle\" x=\"559.12\" y=\"-293.2\" font-family=\"Helvetica,sans-Serif\" font-size=\"14.00\">gini = 0.5</text>\n",
       "<text text-anchor=\"middle\" x=\"559.12\" y=\"-276.7\" font-family=\"Helvetica,sans-Serif\" font-size=\"14.00\">samples = 2</text>\n",
       "<text text-anchor=\"middle\" x=\"559.12\" y=\"-260.2\" font-family=\"Helvetica,sans-Serif\" font-size=\"14.00\">value = [0, 1, 1]</text>\n",
       "<text text-anchor=\"middle\" x=\"559.12\" y=\"-243.7\" font-family=\"Helvetica,sans-Serif\" font-size=\"14.00\">class = versicolor</text>\n",
       "</g>\n",
       "<!-- 14&#45;&gt;15 -->\n",
       "<g id=\"edge15\" class=\"edge\">\n",
       "<title>14&#45;&gt;15</title>\n",
       "<path fill=\"none\" stroke=\"black\" d=\"M564.9,-362.65C564.33,-354.79 563.73,-346.51 563.15,-338.39\"/>\n",
       "<polygon fill=\"black\" stroke=\"black\" points=\"566.57,-338.17 562.36,-328.45 559.59,-338.68 566.57,-338.17\"/>\n",
       "</g>\n",
       "<!-- 18 -->\n",
       "<g id=\"node19\" class=\"node\">\n",
       "<title>18</title>\n",
       "<polygon fill=\"#8139e5\" stroke=\"black\" points=\"779.25,-318.75 659,-318.75 659,-244.75 779.25,-244.75 779.25,-318.75\"/>\n",
       "<text text-anchor=\"middle\" x=\"719.12\" y=\"-301.45\" font-family=\"Helvetica,sans-Serif\" font-size=\"14.00\">gini = 0.0</text>\n",
       "<text text-anchor=\"middle\" x=\"719.12\" y=\"-284.95\" font-family=\"Helvetica,sans-Serif\" font-size=\"14.00\">samples = 37</text>\n",
       "<text text-anchor=\"middle\" x=\"719.12\" y=\"-268.45\" font-family=\"Helvetica,sans-Serif\" font-size=\"14.00\">value = [0, 0, 37]</text>\n",
       "<text text-anchor=\"middle\" x=\"719.12\" y=\"-251.95\" font-family=\"Helvetica,sans-Serif\" font-size=\"14.00\">class = virginica</text>\n",
       "</g>\n",
       "<!-- 14&#45;&gt;18 -->\n",
       "<g id=\"edge18\" class=\"edge\">\n",
       "<title>14&#45;&gt;18</title>\n",
       "<path fill=\"none\" stroke=\"black\" d=\"M622.21,-362.65C636.79,-350.64 652.52,-337.67 666.98,-325.74\"/>\n",
       "<polygon fill=\"black\" stroke=\"black\" points=\"668.84,-327.92 674.33,-318.86 664.39,-322.52 668.84,-327.92\"/>\n",
       "</g>\n",
       "<!-- 16 -->\n",
       "<g id=\"node17\" class=\"node\">\n",
       "<title>16</title>\n",
       "<polygon fill=\"#8139e5\" stroke=\"black\" points=\"571,-192.25 455.25,-192.25 455.25,-118.25 571,-118.25 571,-192.25\"/>\n",
       "<text text-anchor=\"middle\" x=\"513.12\" y=\"-174.95\" font-family=\"Helvetica,sans-Serif\" font-size=\"14.00\">gini = 0.0</text>\n",
       "<text text-anchor=\"middle\" x=\"513.12\" y=\"-158.45\" font-family=\"Helvetica,sans-Serif\" font-size=\"14.00\">samples = 1</text>\n",
       "<text text-anchor=\"middle\" x=\"513.12\" y=\"-141.95\" font-family=\"Helvetica,sans-Serif\" font-size=\"14.00\">value = [0, 0, 1]</text>\n",
       "<text text-anchor=\"middle\" x=\"513.12\" y=\"-125.45\" font-family=\"Helvetica,sans-Serif\" font-size=\"14.00\">class = virginica</text>\n",
       "</g>\n",
       "<!-- 15&#45;&gt;16 -->\n",
       "<g id=\"edge16\" class=\"edge\">\n",
       "<title>15&#45;&gt;16</title>\n",
       "<path fill=\"none\" stroke=\"black\" d=\"M542.65,-236.15C538.62,-225.26 534.31,-213.58 530.25,-202.61\"/>\n",
       "<polygon fill=\"black\" stroke=\"black\" points=\"533.21,-201.52 526.47,-193.36 526.65,-203.95 533.21,-201.52\"/>\n",
       "</g>\n",
       "<!-- 17 -->\n",
       "<g id=\"node18\" class=\"node\">\n",
       "<title>17</title>\n",
       "<polygon fill=\"#39e581\" stroke=\"black\" points=\"715.25,-192.25 589,-192.25 589,-118.25 715.25,-118.25 715.25,-192.25\"/>\n",
       "<text text-anchor=\"middle\" x=\"652.12\" y=\"-174.95\" font-family=\"Helvetica,sans-Serif\" font-size=\"14.00\">gini = 0.0</text>\n",
       "<text text-anchor=\"middle\" x=\"652.12\" y=\"-158.45\" font-family=\"Helvetica,sans-Serif\" font-size=\"14.00\">samples = 1</text>\n",
       "<text text-anchor=\"middle\" x=\"652.12\" y=\"-141.95\" font-family=\"Helvetica,sans-Serif\" font-size=\"14.00\">value = [0, 1, 0]</text>\n",
       "<text text-anchor=\"middle\" x=\"652.12\" y=\"-125.45\" font-family=\"Helvetica,sans-Serif\" font-size=\"14.00\">class = versicolor</text>\n",
       "</g>\n",
       "<!-- 15&#45;&gt;17 -->\n",
       "<g id=\"edge17\" class=\"edge\">\n",
       "<title>15&#45;&gt;17</title>\n",
       "<path fill=\"none\" stroke=\"black\" d=\"M592.44,-236.15C600.99,-224.7 610.2,-212.38 618.76,-200.92\"/>\n",
       "<polygon fill=\"black\" stroke=\"black\" points=\"621.97,-203.46 625.15,-193.36 616.37,-199.27 621.97,-203.46\"/>\n",
       "</g>\n",
       "</g>\n",
       "</svg>\n"
      ],
      "text/plain": [
       "<graphviz.sources.Source at 0x28cfe15ce80>"
      ]
     },
     "execution_count": 12,
     "metadata": {},
     "output_type": "execute_result"
    }
   ],
   "source": [
    "from sklearn.tree import export_graphviz\n",
    "export_graphviz(dt_clf, out_file = 'tree.dot', class_names = iris_data.target_names,\n",
    "               feature_names = iris_data.feature_names, impurity = True, filled = True)\n",
    "\n",
    "import graphviz\n",
    "\n",
    "# 위에서 생성된 tree.dot 파일을 Graphviz가 읽어서 노트북 상에서 시각화\n",
    "with open('tree.dot') as f:\n",
    "    dot_graph = f.read()\n",
    "graphviz.Source(dot_graph)"
   ]
  },
  {
   "cell_type": "markdown",
   "id": "2cc5c38b",
   "metadata": {},
   "source": [
    "* max_depth : 트리의 최대 깊이 \n",
    "* max_features : 최적의 분할을 위해 고려할 최대 피처 개수\n",
    "\n",
    "\n",
    "* min_samples_split : 노드를 분할하기 위한 최소한의 샘플 데이터 수\n",
    "* min_samples_leaf : 분할이 될 경우 왼쪽과 오른쪽 브랜치 노드에서 가져야 할 최소한의 샘플 데이터 수\n",
    "* max_leaf_nodes : 말단노드(Leaf)의 최대 개수"
   ]
  },
  {
   "cell_type": "markdown",
   "id": "e125870d",
   "metadata": {},
   "source": [
    "### Feature 중요도 "
   ]
  },
  {
   "cell_type": "code",
   "execution_count": 19,
   "id": "94dda83b",
   "metadata": {},
   "outputs": [
    {
     "data": {
      "text/plain": [
       "array([0.        , 0.02922146, 0.90897639, 0.06180215])"
      ]
     },
     "execution_count": 19,
     "metadata": {},
     "output_type": "execute_result"
    }
   ],
   "source": [
    "# print out feature importance\n",
    "\n",
    "# 각 feature가 트리 분할 시 information gain이나 gini impurity를 얼마나 효율적으로 잘 개선시켰는지를 정규화된 값으로 표현한 것\n",
    "\n",
    "\n",
    "# **추가로 조사 해보기!!**\n",
    "\n",
    "dt_clf.feature_importances_"
   ]
  },
  {
   "cell_type": "code",
   "execution_count": 26,
   "id": "7667afc2",
   "metadata": {},
   "outputs": [
    {
     "name": "stdout",
     "output_type": "stream",
     "text": [
      "sepal length (cm):0.000\n",
      "sepal width (cm):0.029\n",
      "petal length (cm):0.909\n",
      "petal width (cm):0.062\n"
     ]
    },
    {
     "data": {
      "text/plain": [
       "<AxesSubplot:>"
      ]
     },
     "execution_count": 26,
     "metadata": {},
     "output_type": "execute_result"
    },
    {
     "data": {
      "image/png": "[encoded data removed]",
      "text/plain": [
       "<Figure size 432x288 with 1 Axes>"
      ]
     },
     "metadata": {
      "needs_background": "light"
     },
     "output_type": "display_data"
    }
   ],
   "source": [
    "# feature별 importance 매핑\n",
    "for name, value in zip(iris_data.feature_names, dt_clf.feature_importances_):\n",
    "    print('{0}:{1:.3f}'.format(name, value))\n",
    "    \n",
    "# feature importance를 column 별로 시각화하기\n",
    "import seaborn as sns\n",
    "sns.barplot(x=dt_clf.feature_importances_, y=iris_data.feature_names)"
   ]
  },
  {
   "cell_type": "markdown",
   "id": "e91e4208",
   "metadata": {},
   "source": [
    "### 결정 트리 과적합 (Overfitting)"
   ]
  },
  {
   "cell_type": "code",
   "execution_count": 28,
   "id": "d36b0303",
   "metadata": {},
   "outputs": [
    {
     "data": {
      "text/plain": [
       "<matplotlib.collections.PathCollection at 0x28c82b90be0>"
      ]
     },
     "execution_count": 28,
     "metadata": {},
     "output_type": "execute_result"
    },
    {
     "data": {
      "image/png": "[encoded data removed]",
      "text/plain": [
       "<Figure size 432x288 with 1 Axes>"
      ]
     },
     "metadata": {
      "needs_background": "light"
     },
     "output_type": "display_data"
    }
   ],
   "source": [
    "# 분류를 위한 테스트용 데이터를 만드는 함수 : make_classification()\n",
    "from sklearn.datasets import make_classification\n",
    "import matplotlib.pyplot as plt\n",
    "%matplotlib inline\n",
    "\n",
    "plt.title(\"3 Class values with 2 Features Sample data creation\")\n",
    "\n",
    "# 2차원 시각화를 위해 2 features, 3 classes classifying sample data \n",
    "X_features, y_labels = make_classification(n_features = 2, n_redundant = 0, n_informative = 2,\n",
    "                                          n_classes = 3, n_clusters_per_class = 1, random_state = 0)\n",
    "plt.scatter(X_features[:, 0], X_features[:, 1], marker='o', c=y_labels, s=25, cmap='rainbow', edgecolor='k')"
   ]
  },
  {
   "cell_type": "code",
   "execution_count": 29,
   "id": "ecd420ec",
   "metadata": {},
   "outputs": [],
   "source": [
    "import numpy as np\n",
    "\n",
    "# Classifier의 Decision Boundary를 시각화 하는 함수\n",
    "def visualize_boundary(model, X, y):\n",
    "    fig,ax = plt.subplots()\n",
    "    \n",
    "    # 학습 데이터 scatter plot으로 나타내기\n",
    "    ax.scatter(X[:, 0], X[:, 1], c=y, s=25, cmap='rainbow', edgecolor='k',\n",
    "               clim=(y.min(), y.max()), zorder=3)\n",
    "    ax.axis('tight')\n",
    "    ax.axis('off')\n",
    "    xlim_start , xlim_end = ax.get_xlim()\n",
    "    ylim_start , ylim_end = ax.get_ylim()\n",
    "    \n",
    "    # 호출 파라미터로 들어온 training 데이타로 model 학습 . \n",
    "    model.fit(X, y)\n",
    "    # meshgrid 형태인 모든 좌표값으로 예측 수행. \n",
    "    xx, yy = np.meshgrid(np.linspace(xlim_start,xlim_end, num=200),np.linspace(ylim_start,ylim_end, num=200))\n",
    "    Z = model.predict(np.c_[xx.ravel(), yy.ravel()]).reshape(xx.shape)\n",
    "    \n",
    "    # contourf() 를 이용하여 class boundary 를 visualization 수행. \n",
    "    n_classes = len(np.unique(y))\n",
    "    contours = ax.contourf(xx, yy, Z, alpha=0.3,\n",
    "                           levels=np.arange(n_classes + 1) - 0.5,\n",
    "                           cmap='rainbow', clim=(y.min(), y.max()),\n",
    "                           zorder=1)"
   ]
  },
  {
   "cell_type": "code",
   "execution_count": 30,
   "id": "bea1f98f",
   "metadata": {},
   "outputs": [
    {
     "data": {
      "image/png": "[encoded data removed]",
      "text/plain": [
       "<Figure size 432x288 with 1 Axes>"
      ]
     },
     "metadata": {
      "needs_background": "light"
     },
     "output_type": "display_data"
    }
   ],
   "source": [
    "from sklearn.tree import DecisionTreeClassifier\n",
    "\n",
    "# 특정한 트리 생성 제약없는 결정 트리의 Decsion Boundary 시각화.\n",
    "dt_clf = DecisionTreeClassifier(random_state=156).fit(X_features, y_labels)\n",
    "visualize_boundary(dt_clf, X_features, y_labels)"
   ]
  },
  {
   "cell_type": "code",
   "execution_count": 31,
   "id": "484e8e18",
   "metadata": {},
   "outputs": [
    {
     "data": {
      "image/png": "[encoded data removed]",
      "text/plain": [
       "<Figure size 432x288 with 1 Axes>"
      ]
     },
     "metadata": {
      "needs_background": "light"
     },
     "output_type": "display_data"
    }
   ],
   "source": [
    "# min_samples_leaf=6 으로 트리 생성 조건을 제약한 Decision Boundary 시각화\n",
    "dt_clf = DecisionTreeClassifier(min_samples_leaf=6, random_state=156).fit(X_features, y_labels)\n",
    "visualize_boundary(dt_clf, X_features, y_labels)"
   ]
  }
 ],
 "metadata": {
  "kernelspec": {
   "display_name": "Python 3 (ipykernel)",
   "language": "python",
   "name": "python3"
  },
  "language_info": {
   "codemirror_mode": {
    "name": "ipython",
    "version": 3
   },
   "file_extension": ".py",
   "mimetype": "text/x-python",
   "name": "python",
   "nbconvert_exporter": "python",
   "pygments_lexer": "ipython3",
   "version": "3.9.7"
  }
 },
 "nbformat": 4,
 "nbformat_minor": 5
}
