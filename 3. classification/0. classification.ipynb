{
 "cells": [
  {
   "cell_type": "markdown",
   "id": "bc7d003b",
   "metadata": {},
   "source": [
    "지도학습 아래\n",
    "\n",
    "**분류** : 기존 데이터가 어떤 레이블에 속하는지 패턴으로 알고리즘을 인지한 뒤에 새롭게 관측된 데이터에 대한 레이블을 판별하는 것"
   ]
  },
  {
   "cell_type": "markdown",
   "id": "0a6ef2dc",
   "metadata": {},
   "source": [
    "'분류'는 다양한 머신러닝 알고리즘으로 구현\n",
    "\n",
    "* 나이브 베이즈\n",
    "* 로지스틱 회귀 \n",
    "* 결정 트리\n",
    "* 서포트 벡터 머신\n",
    "* 최소 근접 알고리즘\n",
    "* 신경망\n",
    "* 앙상블"
   ]
  },
  {
   "cell_type": "markdown",
   "id": "668a13ba",
   "metadata": {},
   "source": [
    "정형 데이터의 예측 분석 영역에서는 **앙상블**이 매우 높은 예측 성능을 가짐\n",
    "* 일반적으로 배깅(Bagging)과 부스팅(Boosting) 방식으로 나뉨\n",
    "\n",
    "\n",
    "      * 배깅 방식의 대표 - 랜덤포레스트(Random Forest)\n",
    "      * 부스팅(Boosting) 방식으로 지속해서 발전 중 - Gradient Boosting / XgBoost / LightGBM"
   ]
  },
  {
   "cell_type": "code",
   "execution_count": null,
   "id": "0db232aa",
   "metadata": {},
   "outputs": [],
   "source": []
  }
 ],
 "metadata": {
  "kernelspec": {
   "display_name": "Python 3 (ipykernel)",
   "language": "python",
   "name": "python3"
  },
  "language_info": {
   "codemirror_mode": {
    "name": "ipython",
    "version": 3
   },
   "file_extension": ".py",
   "mimetype": "text/x-python",
   "name": "python",
   "nbconvert_exporter": "python",
   "pygments_lexer": "ipython3",
   "version": "3.9.7"
  }
 },
 "nbformat": 4,
 "nbformat_minor": 5
}
