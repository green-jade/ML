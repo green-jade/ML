{
 "cells": [
  {
   "cell_type": "markdown",
   "metadata": {},
   "source": [
    "## HyperOpt 사용하기"
   ]
  },
  {
   "cell_type": "code",
   "execution_count": 4,
   "metadata": {},
   "outputs": [],
   "source": [
    "from hyperopt import hp"
   ]
  },
  {
   "cell_type": "markdown",
   "metadata": {},
   "source": [
    "### 1. 입력 변수명과 입력값의 검색 공간(Search Space)를 설정한다. "
   ]
  },
  {
   "cell_type": "code",
   "execution_count": 5,
   "metadata": {},
   "outputs": [],
   "source": [
    "# 입력변수 x: (-10,10), 1간격\n",
    "# 입력변수 y: (-15,15), 1간격\n",
    "# 검색공간 : key값으로 입력 변수명, value값으로 범위가 주어지는 딕셔너리 형태\n",
    "\n",
    "search_space = {'x': hp.quniform('x',-10,10,1), 'y': hp.quniform('y', -15, 15, 1)}"
   ]
  },
  {
   "cell_type": "code",
   "execution_count": 6,
   "metadata": {},
   "outputs": [],
   "source": [
    "import numpy as np"
   ]
  },
  {
   "cell_type": "markdown",
   "metadata": {},
   "source": [
    "### 2. 목적함수를 생성한다. "
   ]
  },
  {
   "cell_type": "markdown",
   "metadata": {},
   "source": [
    "### 3. 목적 함수의 반환 최솟값을 가지는 최적 입력값을 유추한다. "
   ]
  },
  {
   "cell_type": "code",
   "execution_count": 7,
   "metadata": {},
   "outputs": [
    {
     "name": "stdout",
     "output_type": "stream",
     "text": [
      "100%|█████████████████████████████████████████████████████████████| 5/5 [00:00<00:00, 370.85trial/s, best loss: -224.0]\n",
      "{'x': -4.0, 'y': 12.0}\n"
     ]
    }
   ],
   "source": [
    "# 위의 search_space (변수 + 검색공간을 가지는 dictionary)를 인자로 받고 특정 값을 반환하는 목적함수 생성\n",
    "\n",
    "def objective_function(search_space):\n",
    "    x = search_space['x']\n",
    "    y = search_space['y']\n",
    "    \n",
    "    loss = x**2-20*y\n",
    "    return(loss)\n",
    "\n",
    "    # 딕셔너리 형태로 반환하고 싶은 경우에는 from hyperopt import STATUS_OK 후\n",
    "    # return {'loss' : score, 'status' : STATUS_OK}\n",
    "\n",
    "from hyperopt import fmin, tpe, Trials\n",
    "# 입력 결괏값을 저장한 Trials 객체값 생성\n",
    "trial_val = Trials()\n",
    "\n",
    "# 목적함수의 최솟값을 반환하는 최적 입력 변숫값을 5번의 입력값 시도(max_evals=5)로 찾기\n",
    "best = fmin(fn=objective_function,\n",
    "            space=search_space,\n",
    "            algo=tpe.suggest,\n",
    "            max_evals=5,\n",
    "            trials=trial_val,\n",
    "            rstate=np.random.default_rng(seed=0)\n",
    "            )\n",
    "\n",
    "print(best)"
   ]
  },
  {
   "cell_type": "code",
   "execution_count": 8,
   "metadata": {},
   "outputs": [
    {
     "name": "stdout",
     "output_type": "stream",
     "text": [
      "100%|███████████████████████████████████████████████████████████| 20/20 [00:00<00:00, 409.95trial/s, best loss: -296.0]\n",
      "{'x': 2.0, 'y': 15.0}\n"
     ]
    }
   ],
   "source": [
    "# 목적함수의 최솟값을 반환하는 최적 입력 변숫값을 20번의 입력값 시도(max_evals=20)로 찾기\n",
    "best = fmin(fn=objective_function,\n",
    "            space=search_space,\n",
    "            algo=tpe.suggest,\n",
    "            max_evals=20,\n",
    "            trials=trial_val,\n",
    "            rstate=np.random.default_rng(seed=0)\n",
    "            )\n",
    "\n",
    "print(best)"
   ]
  },
  {
   "cell_type": "code",
   "execution_count": 9,
   "metadata": {},
   "outputs": [
    {
     "data": {
      "text/plain": [
       "[{'loss': -64.0, 'status': 'ok'},\n",
       " {'loss': -184.0, 'status': 'ok'},\n",
       " {'loss': 56.0, 'status': 'ok'},\n",
       " {'loss': -224.0, 'status': 'ok'},\n",
       " {'loss': 61.0, 'status': 'ok'},\n",
       " {'loss': -64.0, 'status': 'ok'},\n",
       " {'loss': -184.0, 'status': 'ok'},\n",
       " {'loss': 56.0, 'status': 'ok'},\n",
       " {'loss': -224.0, 'status': 'ok'},\n",
       " {'loss': 61.0, 'status': 'ok'},\n",
       " {'loss': -296.0, 'status': 'ok'},\n",
       " {'loss': -40.0, 'status': 'ok'},\n",
       " {'loss': 281.0, 'status': 'ok'},\n",
       " {'loss': 64.0, 'status': 'ok'},\n",
       " {'loss': 100.0, 'status': 'ok'},\n",
       " {'loss': 60.0, 'status': 'ok'},\n",
       " {'loss': -39.0, 'status': 'ok'},\n",
       " {'loss': 1.0, 'status': 'ok'},\n",
       " {'loss': -164.0, 'status': 'ok'},\n",
       " {'loss': 21.0, 'status': 'ok'}]"
      ]
     },
     "execution_count": 9,
     "metadata": {},
     "output_type": "execute_result"
    }
   ],
   "source": [
    "# Trials 객채 속성 (1) : results\n",
    "trial_val.results"
   ]
  },
  {
   "cell_type": "code",
   "execution_count": 10,
   "metadata": {},
   "outputs": [
    {
     "name": "stdout",
     "output_type": "stream",
     "text": [
      "{'x': [-6.0, -4.0, 4.0, -4.0, 9.0, -6.0, -4.0, 4.0, -4.0, 9.0, 2.0, 10.0, -9.0, -8.0, -0.0, -0.0, 1.0, 9.0, 6.0, 9.0], 'y': [5.0, 10.0, -2.0, 12.0, 1.0, 5.0, 10.0, -2.0, 12.0, 1.0, 15.0, 7.0, -10.0, 0.0, -5.0, -3.0, 2.0, 4.0, 10.0, 3.0]}\n"
     ]
    }
   ],
   "source": [
    "# Trials 객체 속성 (2) : vals\n",
    "print(trial_val.vals)"
   ]
  },
  {
   "cell_type": "code",
   "execution_count": 22,
   "metadata": {},
   "outputs": [],
   "source": [
    "from xgboost import XGBClassifier\n",
    "from hyperopt import STATUS_OK\n",
    "import pandas as pd\n",
    "import numpy as np\n",
    "from sklearn.datasets import load_breast_cancer\n",
    "from sklearn.model_selection import train_test_split, cross_val_score\n",
    "import warnings\n",
    "warnings.filterwarnings('ignore')\n",
    "\n",
    "data = load_breast_cancer()\n",
    "X = data.data\n",
    "y = data.target"
   ]
  },
  {
   "cell_type": "code",
   "execution_count": 23,
   "metadata": {},
   "outputs": [],
   "source": [
    "X_train, X_test, y_train, y_test = train_test_split(X,y,test_size=0.2)\n",
    "X_tr, X_val, y_tr, y_val = train_test_split(X_train, y_train, test_size=0.1)"
   ]
  },
  {
   "cell_type": "code",
   "execution_count": 24,
   "metadata": {},
   "outputs": [],
   "source": [
    "# XGBoost의 하이퍼파라미터로 'max_depth', 'min_child_weight', 'learning_rate', 'colsample_bytree' 선정\n",
    "search_space = {'max_depth':hp.quniform('max_depth',5, 20, 1),\n",
    "                'min_child_weight':hp.quniform('min_child_weight',1, 2, 1),\n",
    "                'learning_rate':hp.uniform('learning_rate', 0.01, 0.2),\n",
    "                'colsample_bytree':hp.uniform('colsample_bytree', 0.5, 1)\n",
    "                }"
   ]
  },
  {
   "cell_type": "code",
   "execution_count": 25,
   "metadata": {},
   "outputs": [],
   "source": [
    "def objective_func(search_space):\n",
    "    \n",
    "    # XGBoost Model\n",
    "    xgb_clf = XGBClassifier(n_estimators=100,\n",
    "                            max_depth=int(search_space['max_depth']),\n",
    "                            min_child_weight=int(search_space['min_child_weight']),\n",
    "                            learning_rate=search_space['learning_rate'],\n",
    "                            colsample_bytree=search_space['colsample_bytree'],\n",
    "                            eval_metric='logloss')\n",
    "    \n",
    "    # 반환값 : 교차 검증 기반 평균 정확도 (accuracy)\n",
    "    accuracy = cross_val_score(xgb_clf, X_train, y_train, scoring='accuracy',cv=3)\n",
    "    \n",
    "    # cv=3이므로 평균으로 반환\n",
    "    return {'loss':-1*np.mean(accuracy),'status':STATUS_OK}"
   ]
  },
  {
   "cell_type": "code",
   "execution_count": 26,
   "metadata": {},
   "outputs": [
    {
     "name": "stdout",
     "output_type": "stream",
     "text": [
      "100%|███████████████████████████████████████████████| 50/50 [00:08<00:00,  5.78trial/s, best loss: -0.9714040896944347]\n"
     ]
    },
    {
     "data": {
      "text/plain": [
       "{'colsample_bytree': 0.5597488496368312,\n",
       " 'learning_rate': 0.19909489542505937,\n",
       " 'max_depth': 5.0,\n",
       " 'min_child_weight': 2.0}"
      ]
     },
     "execution_count": 26,
     "metadata": {},
     "output_type": "execute_result"
    }
   ],
   "source": [
    "trial_val = Trials()\n",
    "best = fmin(fn=objective_func,\n",
    "            space=search_space,\n",
    "            algo=tpe.suggest,\n",
    "            max_evals=50,\n",
    "            trials=trial_val\n",
    "            )\n",
    "best"
   ]
  },
  {
   "cell_type": "code",
   "execution_count": 28,
   "metadata": {},
   "outputs": [],
   "source": [
    "from sklearn.metrics import accuracy_score"
   ]
  },
  {
   "cell_type": "code",
   "execution_count": 30,
   "metadata": {},
   "outputs": [
    {
     "data": {
      "text/plain": [
       "0.956140350877193"
      ]
     },
     "execution_count": 30,
     "metadata": {},
     "output_type": "execute_result"
    }
   ],
   "source": [
    "# 도출된 하이퍼파라미터들로 XBGClassifier 재학습\n",
    "xgb_clf = XGBClassifier(n_estimators=400,\n",
    "                        max_depth=int(best['max_depth']),\n",
    "                        min_child_weight=int(best['min_child_weight']),\n",
    "                        learning_rate=best['learning_rate'],\n",
    "                        colsample_bytree=best['colsample_bytree']\n",
    "                       )\n",
    "\n",
    "# validation data set을 이용하여 성능 평가 결과 확인\n",
    "evals = [(X_val, y_val)]\n",
    "xgb_clf.fit(X_tr, y_tr, early_stopping_rounds=50, eval_metric='logloss',\n",
    "            eval_set=evals, verbose=False)\n",
    "\n",
    "preds=xgb_clf.predict(X_test)\n",
    "pred_proba=xgb_clf.predict_proba(X_test)[:,1]\n",
    "\n",
    "accuracy_score(y_test, preds)"
   ]
  },
  {
   "cell_type": "code",
   "execution_count": null,
   "metadata": {},
   "outputs": [],
   "source": []
  }
 ],
 "metadata": {
  "kernelspec": {
   "display_name": "Python 3 (ipykernel)",
   "language": "python",
   "name": "python3"
  },
  "language_info": {
   "codemirror_mode": {
    "name": "ipython",
    "version": 3
   },
   "file_extension": ".py",
   "mimetype": "text/x-python",
   "name": "python",
   "nbconvert_exporter": "python",
   "pygments_lexer": "ipython3",
   "version": "3.9.13"
  }
 },
 "nbformat": 4,
 "nbformat_minor": 2
}
