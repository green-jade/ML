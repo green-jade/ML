{
  "cells": [
    {
      "cell_type": "markdown",
      "id": "d3d15e66",
      "metadata": {
        "id": "d3d15e66"
      },
      "source": [
        "# 머신러닝 2차세션 복습과제\n",
        "\n",
        "- 8/29 화요일 23:59 까지 제출\n",
        "- 지각 제출은 8/31 목요일 23:59 까지 허용\n",
        "- 제출 파일명 : 비타민_12기_1주차_복습과제_홍길동.ipynb  로 제출\n",
        "- ipynb 파일로 제출.\n"
      ]
    },
    {
      "cell_type": "markdown",
      "id": "RSL_bo8-Bi_E",
      "metadata": {
        "id": "RSL_bo8-Bi_E"
      },
      "source": [
        "## 실습1"
      ]
    },
    {
      "cell_type": "markdown",
      "id": "b4eff3bb",
      "metadata": {
        "id": "b4eff3bb"
      },
      "source": [
        "### 문제1\n",
        "와인 품질을 예측하기 위한 데이터셋인 train.csv 입니다. 다음 코드를 로드하세요."
      ]
    },
    {
      "cell_type": "code",
      "execution_count": 1,
      "id": "7a9b9720",
      "metadata": {
        "id": "7a9b9720"
      },
      "outputs": [],
      "source": [
        "from sklearn.ensemble import RandomForestClassifier\n",
        "from sklearn.model_selection import train_test_split\n",
        "from sklearn.metrics import accuracy_score\n",
        "import pandas as pd\n",
        "import numpy as np\n",
        "\n",
        "\n",
        "train=pd.read_csv(\"train.csv\")\n",
        "train = train.drop(['index',\"type\"], axis = 1)\n",
        "\n",
        "train_label=train[\"quality\"]\n",
        "train_data=train.drop([\"quality\"], axis = 1)"
      ]
    },
    {
      "cell_type": "code",
      "execution_count": 2,
      "id": "3e53e100",
      "metadata": {},
      "outputs": [
        {
          "data": {
            "text/html": [
              "<div>\n",
              "<style scoped>\n",
              "    .dataframe tbody tr th:only-of-type {\n",
              "        vertical-align: middle;\n",
              "    }\n",
              "\n",
              "    .dataframe tbody tr th {\n",
              "        vertical-align: top;\n",
              "    }\n",
              "\n",
              "    .dataframe thead th {\n",
              "        text-align: right;\n",
              "    }\n",
              "</style>\n",
              "<table border=\"1\" class=\"dataframe\">\n",
              "  <thead>\n",
              "    <tr style=\"text-align: right;\">\n",
              "      <th></th>\n",
              "      <th>fixed acidity</th>\n",
              "      <th>volatile acidity</th>\n",
              "      <th>citric acid</th>\n",
              "      <th>residual sugar</th>\n",
              "      <th>chlorides</th>\n",
              "      <th>free sulfur dioxide</th>\n",
              "      <th>total sulfur dioxide</th>\n",
              "      <th>density</th>\n",
              "      <th>pH</th>\n",
              "      <th>sulphates</th>\n",
              "      <th>alcohol</th>\n",
              "    </tr>\n",
              "  </thead>\n",
              "  <tbody>\n",
              "    <tr>\n",
              "      <th>0</th>\n",
              "      <td>5.6</td>\n",
              "      <td>0.695</td>\n",
              "      <td>0.06</td>\n",
              "      <td>6.8</td>\n",
              "      <td>0.042</td>\n",
              "      <td>9.0</td>\n",
              "      <td>84.0</td>\n",
              "      <td>0.99432</td>\n",
              "      <td>3.44</td>\n",
              "      <td>0.44</td>\n",
              "      <td>10.2</td>\n",
              "    </tr>\n",
              "    <tr>\n",
              "      <th>1</th>\n",
              "      <td>8.8</td>\n",
              "      <td>0.610</td>\n",
              "      <td>0.14</td>\n",
              "      <td>2.4</td>\n",
              "      <td>0.067</td>\n",
              "      <td>10.0</td>\n",
              "      <td>42.0</td>\n",
              "      <td>0.99690</td>\n",
              "      <td>3.19</td>\n",
              "      <td>0.59</td>\n",
              "      <td>9.5</td>\n",
              "    </tr>\n",
              "    <tr>\n",
              "      <th>2</th>\n",
              "      <td>7.9</td>\n",
              "      <td>0.210</td>\n",
              "      <td>0.39</td>\n",
              "      <td>2.0</td>\n",
              "      <td>0.057</td>\n",
              "      <td>21.0</td>\n",
              "      <td>138.0</td>\n",
              "      <td>0.99176</td>\n",
              "      <td>3.05</td>\n",
              "      <td>0.52</td>\n",
              "      <td>10.9</td>\n",
              "    </tr>\n",
              "    <tr>\n",
              "      <th>3</th>\n",
              "      <td>7.0</td>\n",
              "      <td>0.210</td>\n",
              "      <td>0.31</td>\n",
              "      <td>6.0</td>\n",
              "      <td>0.046</td>\n",
              "      <td>29.0</td>\n",
              "      <td>108.0</td>\n",
              "      <td>0.99390</td>\n",
              "      <td>3.26</td>\n",
              "      <td>0.50</td>\n",
              "      <td>10.8</td>\n",
              "    </tr>\n",
              "    <tr>\n",
              "      <th>4</th>\n",
              "      <td>7.8</td>\n",
              "      <td>0.400</td>\n",
              "      <td>0.26</td>\n",
              "      <td>9.5</td>\n",
              "      <td>0.059</td>\n",
              "      <td>32.0</td>\n",
              "      <td>178.0</td>\n",
              "      <td>0.99550</td>\n",
              "      <td>3.04</td>\n",
              "      <td>0.43</td>\n",
              "      <td>10.9</td>\n",
              "    </tr>\n",
              "  </tbody>\n",
              "</table>\n",
              "</div>"
            ],
            "text/plain": [
              "   fixed acidity  volatile acidity  citric acid  residual sugar  chlorides  \\\n",
              "0            5.6             0.695         0.06             6.8      0.042   \n",
              "1            8.8             0.610         0.14             2.4      0.067   \n",
              "2            7.9             0.210         0.39             2.0      0.057   \n",
              "3            7.0             0.210         0.31             6.0      0.046   \n",
              "4            7.8             0.400         0.26             9.5      0.059   \n",
              "\n",
              "   free sulfur dioxide  total sulfur dioxide  density    pH  sulphates  \\\n",
              "0                  9.0                  84.0  0.99432  3.44       0.44   \n",
              "1                 10.0                  42.0  0.99690  3.19       0.59   \n",
              "2                 21.0                 138.0  0.99176  3.05       0.52   \n",
              "3                 29.0                 108.0  0.99390  3.26       0.50   \n",
              "4                 32.0                 178.0  0.99550  3.04       0.43   \n",
              "\n",
              "   alcohol  \n",
              "0     10.2  \n",
              "1      9.5  \n",
              "2     10.9  \n",
              "3     10.8  \n",
              "4     10.9  "
            ]
          },
          "execution_count": 2,
          "metadata": {},
          "output_type": "execute_result"
        }
      ],
      "source": [
        "train_data.head()"
      ]
    },
    {
      "cell_type": "markdown",
      "id": "87fbce34",
      "metadata": {
        "id": "87fbce34"
      },
      "source": [
        "### 1-1 (8점)\n",
        "train_data 에는 feature dataset 이 , train_label 에는 품질 label 입니다.\n",
        "\n",
        "전체 데이터 세트 중에 테스트 데이터 셋의 비율이 0.3 이 되게 하여 테스트 데이터와 학습데이터를 분류 하세요. (힌트 : train_test_split() 함수를 이용하세요.)\n",
        "  \n",
        " - random_state=11로 설정해주세요"
      ]
    },
    {
      "cell_type": "code",
      "execution_count": 2,
      "id": "1175d60d",
      "metadata": {
        "id": "1175d60d"
      },
      "outputs": [],
      "source": [
        "Xtrain, Xtest, ytrain, ytest = train_test_split(train_data, train_label, test_size=0.3, random_state=11)"
      ]
    },
    {
      "cell_type": "markdown",
      "id": "ce1b2afe",
      "metadata": {
        "id": "ce1b2afe"
      },
      "source": [
        "### 1-2 (7점)\n",
        "랜덤포레스트 분류를 위한 사이킷런 Classifier 클래스를 생성하세요."
      ]
    },
    {
      "cell_type": "code",
      "execution_count": 3,
      "id": "b14f8d7e",
      "metadata": {
        "id": "b14f8d7e"
      },
      "outputs": [],
      "source": [
        "rf_clf = RandomForestClassifier(random_state=11)"
      ]
    },
    {
      "cell_type": "markdown",
      "id": "c05167b2",
      "metadata": {
        "id": "c05167b2"
      },
      "source": [
        "### 1-3. (8점)\n",
        "위에서 생성한 클래스를 활용하여 데이터를 학습하고 예측하고 평가하는 코드를 작성하세요 (힌트 : 평가할때는, accuracy_score 을 사용하세요.)"
      ]
    },
    {
      "cell_type": "code",
      "execution_count": 4,
      "id": "6747a8ba",
      "metadata": {
        "id": "6747a8ba"
      },
      "outputs": [
        {
          "name": "stdout",
          "output_type": "stream",
          "text": [
            "0.6630303030303031\n"
          ]
        }
      ],
      "source": [
        "# 학습\n",
        "rf_clf.fit(Xtrain, ytrain)\n",
        "# 예측\n",
        "pred = rf_clf.predict(Xtest)\n",
        "# 평가\n",
        "print(accuracy_score(ytest, pred))"
      ]
    },
    {
      "cell_type": "markdown",
      "id": "e46928a0",
      "metadata": {
        "id": "e46928a0"
      },
      "source": [
        "### 1-4 (13점)\n",
        "KFold 클래스를 이용하여 랜덤 포레스트의 평균 정확도를 소수점 4째 자리까지 출력하세요.\n",
        "- 폴드 개수는 3개로 설정합니다.\n",
        "- 분류기는 위에서 사용한 랜덤포레스트를 이용합니다"
      ]
    },
    {
      "cell_type": "code",
      "execution_count": 5,
      "id": "22507a59",
      "metadata": {
        "id": "22507a59"
      },
      "outputs": [
        {
          "data": {
            "text/plain": [
              "0.6481718391037354"
            ]
          },
          "execution_count": 5,
          "metadata": {},
          "output_type": "execute_result"
        }
      ],
      "source": [
        "from sklearn.model_selection import KFold\n",
        "\n",
        "#폴드세트를 3개인 KFold객체를 생성하세요\n",
        "kfold = KFold(n_splits=3)\n",
        "\n",
        "#폴드 수만큼 예측결과를 저장을 위한 리스트 객체 생성\n",
        "cv_accuracy = []\n",
        "\n",
        "#for문을 이용하여 KFold교차 검증을 수행하는 코드를 작성하세요\n",
        "for train_index, test_index in kfold.split(train_data):\n",
        "\n",
        "   #kfold.spilt()로 반환된 인덱스를 이용해 학습용, 검증용 테스트 데이터 추출\n",
        "    X_train, X_test = train_data.values[train_index], train_data.values[test_index]\n",
        "    y_train, y_test = train_label.values[train_index], train_label.values[test_index]\n",
        "    \n",
        "    #학습 및 예측\n",
        "    rf_clf.fit(X_train, y_train)\n",
        "    pred = rf_clf.predict(X_test)\n",
        "    accuracy = accuracy_score(y_test, pred)\n",
        "\n",
        "    cv_accuracy.append(accuracy)\n",
        "\n",
        "# 3개의 fold에서의 평균 정확도 계산후 출력\n",
        "\n",
        "np.mean(cv_accuracy)"
      ]
    },
    {
      "cell_type": "markdown",
      "id": "567b40da",
      "metadata": {
        "id": "567b40da"
      },
      "source": [
        "### 1-5 (10점)\n",
        "cross_val_score() 을 이용하여 평균 정확도를 구해보세요.\n",
        "- 폴드개수는 3개로 설정합니다."
      ]
    },
    {
      "cell_type": "code",
      "execution_count": 6,
      "id": "0a98db67",
      "metadata": {
        "id": "0a98db67"
      },
      "outputs": [
        {
          "data": {
            "text/plain": [
              "0.6518079706433325"
            ]
          },
          "execution_count": 6,
          "metadata": {},
          "output_type": "execute_result"
        }
      ],
      "source": [
        "from sklearn.model_selection import cross_val_score\n",
        "\n",
        "cross_val_score(rf_clf, train_data, train_label, scoring='accuracy', cv=3).mean()\n"
      ]
    },
    {
      "cell_type": "markdown",
      "id": "0f998582",
      "metadata": {
        "id": "0f998582"
      },
      "source": [
        "### 1-6 (13점)\n",
        "GridSearchCV를 이용하여 랜덤포레스트의 최적하이퍼파라미터 찾고 예측성능을 측정해보세요.\n",
        "- 폴드개수는 3개로 설정합니다."
      ]
    },
    {
      "cell_type": "code",
      "execution_count": 7,
      "id": "767341bd",
      "metadata": {
        "id": "767341bd"
      },
      "outputs": [
        {
          "name": "stdout",
          "output_type": "stream",
          "text": [
            "0.6479257641921398\n"
          ]
        }
      ],
      "source": [
        "from sklearn.model_selection import GridSearchCV\n",
        "\n",
        "params = {'n_estimators' : [90,100,150],\n",
        "          'max_features' : [1,3,5]\n",
        "         }\n",
        "\n",
        "grid = GridSearchCV(rf_clf, param_grid=params, refit=True, cv=3)\n",
        "grid.fit(X_train, y_train)\n",
        "grid.best_params_\n",
        "\n",
        "#GridSearchCV의 refit으로 이미 학습된 최적성능을 나타내는 모델로 테스트 데이터 세트의 정학도 출력\n",
        "estimator_final = grid.best_estimator_\n",
        "pred_final = estimator_final.predict(X_test)\n",
        "accuracy_final = accuracy_score(y_test, pred_final)\n",
        "print(accuracy_final)"
      ]
    },
    {
      "cell_type": "markdown",
      "id": "0f4b5b64",
      "metadata": {
        "id": "0f4b5b64"
      },
      "source": [
        "### 1-7 (13점) StandardScaler(평균이 0이고 분산이 1인지 확인하는 작업이 필요)"
      ]
    },
    {
      "cell_type": "code",
      "execution_count": 32,
      "id": "8b914c67",
      "metadata": {},
      "outputs": [
        {
          "data": {
            "text/html": [
              "<div>\n",
              "<style scoped>\n",
              "    .dataframe tbody tr th:only-of-type {\n",
              "        vertical-align: middle;\n",
              "    }\n",
              "\n",
              "    .dataframe tbody tr th {\n",
              "        vertical-align: top;\n",
              "    }\n",
              "\n",
              "    .dataframe thead th {\n",
              "        text-align: right;\n",
              "    }\n",
              "</style>\n",
              "<table border=\"1\" class=\"dataframe\">\n",
              "  <thead>\n",
              "    <tr style=\"text-align: right;\">\n",
              "      <th></th>\n",
              "      <th>quality</th>\n",
              "      <th>fixed acidity</th>\n",
              "      <th>volatile acidity</th>\n",
              "      <th>citric acid</th>\n",
              "      <th>residual sugar</th>\n",
              "      <th>chlorides</th>\n",
              "      <th>free sulfur dioxide</th>\n",
              "      <th>total sulfur dioxide</th>\n",
              "      <th>density</th>\n",
              "      <th>pH</th>\n",
              "      <th>sulphates</th>\n",
              "      <th>alcohol</th>\n",
              "    </tr>\n",
              "  </thead>\n",
              "  <tbody>\n",
              "    <tr>\n",
              "      <th>0</th>\n",
              "      <td>5</td>\n",
              "      <td>5.6</td>\n",
              "      <td>0.695</td>\n",
              "      <td>0.06</td>\n",
              "      <td>6.8</td>\n",
              "      <td>0.042</td>\n",
              "      <td>9.0</td>\n",
              "      <td>84.0</td>\n",
              "      <td>0.99432</td>\n",
              "      <td>3.44</td>\n",
              "      <td>0.44</td>\n",
              "      <td>10.2</td>\n",
              "    </tr>\n",
              "    <tr>\n",
              "      <th>1</th>\n",
              "      <td>5</td>\n",
              "      <td>8.8</td>\n",
              "      <td>0.610</td>\n",
              "      <td>0.14</td>\n",
              "      <td>2.4</td>\n",
              "      <td>0.067</td>\n",
              "      <td>10.0</td>\n",
              "      <td>42.0</td>\n",
              "      <td>0.99690</td>\n",
              "      <td>3.19</td>\n",
              "      <td>0.59</td>\n",
              "      <td>9.5</td>\n",
              "    </tr>\n",
              "    <tr>\n",
              "      <th>2</th>\n",
              "      <td>5</td>\n",
              "      <td>7.9</td>\n",
              "      <td>0.210</td>\n",
              "      <td>0.39</td>\n",
              "      <td>2.0</td>\n",
              "      <td>0.057</td>\n",
              "      <td>21.0</td>\n",
              "      <td>138.0</td>\n",
              "      <td>0.99176</td>\n",
              "      <td>3.05</td>\n",
              "      <td>0.52</td>\n",
              "      <td>10.9</td>\n",
              "    </tr>\n",
              "    <tr>\n",
              "      <th>3</th>\n",
              "      <td>6</td>\n",
              "      <td>7.0</td>\n",
              "      <td>0.210</td>\n",
              "      <td>0.31</td>\n",
              "      <td>6.0</td>\n",
              "      <td>0.046</td>\n",
              "      <td>29.0</td>\n",
              "      <td>108.0</td>\n",
              "      <td>0.99390</td>\n",
              "      <td>3.26</td>\n",
              "      <td>0.50</td>\n",
              "      <td>10.8</td>\n",
              "    </tr>\n",
              "    <tr>\n",
              "      <th>4</th>\n",
              "      <td>6</td>\n",
              "      <td>7.8</td>\n",
              "      <td>0.400</td>\n",
              "      <td>0.26</td>\n",
              "      <td>9.5</td>\n",
              "      <td>0.059</td>\n",
              "      <td>32.0</td>\n",
              "      <td>178.0</td>\n",
              "      <td>0.99550</td>\n",
              "      <td>3.04</td>\n",
              "      <td>0.43</td>\n",
              "      <td>10.9</td>\n",
              "    </tr>\n",
              "  </tbody>\n",
              "</table>\n",
              "</div>"
            ],
            "text/plain": [
              "   quality  fixed acidity  volatile acidity  citric acid  residual sugar  \\\n",
              "0        5            5.6             0.695         0.06             6.8   \n",
              "1        5            8.8             0.610         0.14             2.4   \n",
              "2        5            7.9             0.210         0.39             2.0   \n",
              "3        6            7.0             0.210         0.31             6.0   \n",
              "4        6            7.8             0.400         0.26             9.5   \n",
              "\n",
              "   chlorides  free sulfur dioxide  total sulfur dioxide  density    pH  \\\n",
              "0      0.042                  9.0                  84.0  0.99432  3.44   \n",
              "1      0.067                 10.0                  42.0  0.99690  3.19   \n",
              "2      0.057                 21.0                 138.0  0.99176  3.05   \n",
              "3      0.046                 29.0                 108.0  0.99390  3.26   \n",
              "4      0.059                 32.0                 178.0  0.99550  3.04   \n",
              "\n",
              "   sulphates  alcohol  \n",
              "0       0.44     10.2  \n",
              "1       0.59      9.5  \n",
              "2       0.52     10.9  \n",
              "3       0.50     10.8  \n",
              "4       0.43     10.9  "
            ]
          },
          "execution_count": 32,
          "metadata": {},
          "output_type": "execute_result"
        }
      ],
      "source": [
        "train.head()"
      ]
    },
    {
      "cell_type": "code",
      "execution_count": 8,
      "id": "d1c05cb5",
      "metadata": {},
      "outputs": [
        {
          "data": {
            "text/plain": [
              "['quality',\n",
              " 'fixed acidity',\n",
              " 'volatile acidity',\n",
              " 'citric acid',\n",
              " 'residual sugar',\n",
              " 'chlorides',\n",
              " 'free sulfur dioxide',\n",
              " 'total sulfur dioxide',\n",
              " 'density',\n",
              " 'pH',\n",
              " 'sulphates',\n",
              " 'alcohol']"
            ]
          },
          "execution_count": 8,
          "metadata": {},
          "output_type": "execute_result"
        }
      ],
      "source": [
        "columns = train.columns.to_list()\n",
        "columns"
      ]
    },
    {
      "cell_type": "code",
      "execution_count": 9,
      "id": "adb1ec55",
      "metadata": {
        "id": "adb1ec55",
        "outputId": "db3839e5-1be6-4cd6-ae43-5c7a22d40055"
      },
      "outputs": [
        {
          "name": "stdout",
          "output_type": "stream",
          "text": [
            "train mean :  quality                   5.818992\n",
            "fixed acidity             7.210115\n",
            "volatile acidity          0.338163\n",
            "citric acid               0.318543\n",
            "residual sugar            5.438075\n",
            "chlorides                 0.055808\n",
            "free sulfur dioxide      30.417682\n",
            "total sulfur dioxide    115.566491\n",
            "density                   0.994673\n",
            "pH                        3.219502\n",
            "sulphates                 0.530524\n",
            "alcohol                  10.504918\n",
            "dtype: float64\n",
            "train var :  quality                    0.757441\n",
            "fixed acidity              1.657860\n",
            "volatile acidity           0.026642\n",
            "citric acid                0.021055\n",
            "residual sugar            22.625968\n",
            "chlorides                  0.001201\n",
            "free sulfur dioxide      312.366085\n",
            "total sulfur dioxide    3168.364073\n",
            "density                    0.000009\n",
            "pH                         0.025829\n",
            "sulphates                  0.022319\n",
            "alcohol                    1.426887\n",
            "dtype: float64\n"
          ]
        }
      ],
      "source": [
        "from sklearn.preprocessing import StandardScaler\n",
        "\n",
        "# train데이터에 각 변수의 평균값과 분산값을 출력해주세요\n",
        "print('train mean : ', train.mean())\n",
        "print('train var : ', train.var())\n",
        "\n",
        "# StandardScaler객체를 이용해서 평균이 0, 분산이 1이 되는지 확인해주세요\n",
        "\n",
        "scaler = StandardScaler()   #객체 생성\n",
        "train_scaled = train.copy()\n",
        "\n",
        "train_scaled[columns] = scaler.fit_transform(train[columns])"
      ]
    },
    {
      "cell_type": "code",
      "execution_count": 10,
      "id": "18ebdebe",
      "metadata": {},
      "outputs": [
        {
          "name": "stdout",
          "output_type": "stream",
          "text": [
            "train_scaled mean :  quality                -3.742080e-16\n",
            "fixed acidity          -4.524103e-18\n",
            "volatile acidity       -1.900123e-16\n",
            "citric acid            -5.816704e-17\n",
            "residual sugar         -1.809641e-17\n",
            "chlorides               1.454176e-17\n",
            "free sulfur dioxide    -7.884866e-17\n",
            "total sulfur dioxide    8.014126e-17\n",
            "density                 1.981105e-14\n",
            "pH                      2.274978e-15\n",
            "sulphates               3.877803e-18\n",
            "alcohol                -2.329913e-16\n",
            "dtype: float64\n",
            "train_scaled var :  quality                 1.000182\n",
            "fixed acidity           1.000182\n",
            "volatile acidity        1.000182\n",
            "citric acid             1.000182\n",
            "residual sugar          1.000182\n",
            "chlorides               1.000182\n",
            "free sulfur dioxide     1.000182\n",
            "total sulfur dioxide    1.000182\n",
            "density                 1.000182\n",
            "pH                      1.000182\n",
            "sulphates               1.000182\n",
            "alcohol                 1.000182\n",
            "dtype: float64\n"
          ]
        }
      ],
      "source": [
        "print('train_scaled mean : ', train_scaled.mean())\n",
        "print('train_scaled var : ', train_scaled.var())"
      ]
    },
    {
      "cell_type": "code",
      "execution_count": 11,
      "id": "73c37f50",
      "metadata": {},
      "outputs": [
        {
          "data": {
            "text/html": [
              "<div>\n",
              "<style scoped>\n",
              "    .dataframe tbody tr th:only-of-type {\n",
              "        vertical-align: middle;\n",
              "    }\n",
              "\n",
              "    .dataframe tbody tr th {\n",
              "        vertical-align: top;\n",
              "    }\n",
              "\n",
              "    .dataframe thead th {\n",
              "        text-align: right;\n",
              "    }\n",
              "</style>\n",
              "<table border=\"1\" class=\"dataframe\">\n",
              "  <thead>\n",
              "    <tr style=\"text-align: right;\">\n",
              "      <th></th>\n",
              "      <th>quality</th>\n",
              "      <th>fixed acidity</th>\n",
              "      <th>volatile acidity</th>\n",
              "      <th>citric acid</th>\n",
              "      <th>residual sugar</th>\n",
              "      <th>chlorides</th>\n",
              "      <th>free sulfur dioxide</th>\n",
              "      <th>total sulfur dioxide</th>\n",
              "      <th>density</th>\n",
              "      <th>pH</th>\n",
              "      <th>sulphates</th>\n",
              "      <th>alcohol</th>\n",
              "    </tr>\n",
              "  </thead>\n",
              "  <tbody>\n",
              "    <tr>\n",
              "      <th>0</th>\n",
              "      <td>-0.94112</td>\n",
              "      <td>-1.250611</td>\n",
              "      <td>2.186377</td>\n",
              "      <td>-1.781940</td>\n",
              "      <td>0.286345</td>\n",
              "      <td>-0.398500</td>\n",
              "      <td>-1.211937</td>\n",
              "      <td>-0.560852</td>\n",
              "      <td>-0.117252</td>\n",
              "      <td>1.372128</td>\n",
              "      <td>-0.605988</td>\n",
              "      <td>-0.255287</td>\n",
              "    </tr>\n",
              "    <tr>\n",
              "      <th>1</th>\n",
              "      <td>-0.94112</td>\n",
              "      <td>1.234899</td>\n",
              "      <td>1.665574</td>\n",
              "      <td>-1.230560</td>\n",
              "      <td>-0.638755</td>\n",
              "      <td>0.322998</td>\n",
              "      <td>-1.155351</td>\n",
              "      <td>-1.307080</td>\n",
              "      <td>0.738864</td>\n",
              "      <td>-0.183584</td>\n",
              "      <td>0.398147</td>\n",
              "      <td>-0.841348</td>\n",
              "    </tr>\n",
              "    <tr>\n",
              "      <th>2</th>\n",
              "      <td>-0.94112</td>\n",
              "      <td>0.535849</td>\n",
              "      <td>-0.785265</td>\n",
              "      <td>0.492500</td>\n",
              "      <td>-0.722855</td>\n",
              "      <td>0.034399</td>\n",
              "      <td>-0.532907</td>\n",
              "      <td>0.398583</td>\n",
              "      <td>-0.966732</td>\n",
              "      <td>-1.054782</td>\n",
              "      <td>-0.070450</td>\n",
              "      <td>0.330774</td>\n",
              "    </tr>\n",
              "    <tr>\n",
              "      <th>3</th>\n",
              "      <td>0.20800</td>\n",
              "      <td>-0.163201</td>\n",
              "      <td>-0.785265</td>\n",
              "      <td>-0.058879</td>\n",
              "      <td>0.118145</td>\n",
              "      <td>-0.283060</td>\n",
              "      <td>-0.080221</td>\n",
              "      <td>-0.134436</td>\n",
              "      <td>-0.256620</td>\n",
              "      <td>0.252016</td>\n",
              "      <td>-0.204334</td>\n",
              "      <td>0.247051</td>\n",
              "    </tr>\n",
              "    <tr>\n",
              "      <th>4</th>\n",
              "      <td>0.20800</td>\n",
              "      <td>0.458177</td>\n",
              "      <td>0.378883</td>\n",
              "      <td>-0.403491</td>\n",
              "      <td>0.854020</td>\n",
              "      <td>0.092119</td>\n",
              "      <td>0.089537</td>\n",
              "      <td>1.109276</td>\n",
              "      <td>0.274305</td>\n",
              "      <td>-1.117010</td>\n",
              "      <td>-0.672931</td>\n",
              "      <td>0.330774</td>\n",
              "    </tr>\n",
              "  </tbody>\n",
              "</table>\n",
              "</div>"
            ],
            "text/plain": [
              "   quality  fixed acidity  volatile acidity  citric acid  residual sugar  \\\n",
              "0 -0.94112      -1.250611          2.186377    -1.781940        0.286345   \n",
              "1 -0.94112       1.234899          1.665574    -1.230560       -0.638755   \n",
              "2 -0.94112       0.535849         -0.785265     0.492500       -0.722855   \n",
              "3  0.20800      -0.163201         -0.785265    -0.058879        0.118145   \n",
              "4  0.20800       0.458177          0.378883    -0.403491        0.854020   \n",
              "\n",
              "   chlorides  free sulfur dioxide  total sulfur dioxide   density        pH  \\\n",
              "0  -0.398500            -1.211937             -0.560852 -0.117252  1.372128   \n",
              "1   0.322998            -1.155351             -1.307080  0.738864 -0.183584   \n",
              "2   0.034399            -0.532907              0.398583 -0.966732 -1.054782   \n",
              "3  -0.283060            -0.080221             -0.134436 -0.256620  0.252016   \n",
              "4   0.092119             0.089537              1.109276  0.274305 -1.117010   \n",
              "\n",
              "   sulphates   alcohol  \n",
              "0  -0.605988 -0.255287  \n",
              "1   0.398147 -0.841348  \n",
              "2  -0.070450  0.330774  \n",
              "3  -0.204334  0.247051  \n",
              "4  -0.672931  0.330774  "
            ]
          },
          "execution_count": 11,
          "metadata": {},
          "output_type": "execute_result"
        }
      ],
      "source": [
        "# variable 변수에 train열의 변수명들을 반환한 다음 scaledTrainDf에 데이터프레임 만들고, 값들은 StandardScaler객체로 스케일링 한 값으로 채워주시고, 열의 변수들은 variable변수를 이용해주세요\n",
        "\n",
        "variable = list(train.columns)\n",
        "scaledTrainDf = pd.DataFrame(data = scaler.fit_transform(train[variable]), columns = variable)\n",
        "scaledTrainDf.head()\n"
      ]
    },
    {
      "cell_type": "markdown",
      "id": "24899614",
      "metadata": {
        "id": "24899614"
      },
      "source": [
        "### 1-8. (10점) MinMaxScaler (최소값 : 0 , 최대값 : 1이 중요)\n",
        "\n",
        "  MinMaxScaler객체를 이용해서 최소값이 0, 최대값이 1이 되는지 확인해주세요.\n",
        "    \n",
        "결과 값은 앞에서와 같이 데이터프레임으로 만들고 각 변수의 최소값, 최대값을 확인해주세요.\n"
      ]
    },
    {
      "cell_type": "code",
      "execution_count": 12,
      "id": "c7243356",
      "metadata": {
        "id": "c7243356"
      },
      "outputs": [
        {
          "data": {
            "text/html": [
              "<div>\n",
              "<style scoped>\n",
              "    .dataframe tbody tr th:only-of-type {\n",
              "        vertical-align: middle;\n",
              "    }\n",
              "\n",
              "    .dataframe tbody tr th {\n",
              "        vertical-align: top;\n",
              "    }\n",
              "\n",
              "    .dataframe thead th {\n",
              "        text-align: right;\n",
              "    }\n",
              "</style>\n",
              "<table border=\"1\" class=\"dataframe\">\n",
              "  <thead>\n",
              "    <tr style=\"text-align: right;\">\n",
              "      <th></th>\n",
              "      <th>quality</th>\n",
              "      <th>fixed acidity</th>\n",
              "      <th>volatile acidity</th>\n",
              "      <th>citric acid</th>\n",
              "      <th>residual sugar</th>\n",
              "      <th>chlorides</th>\n",
              "      <th>free sulfur dioxide</th>\n",
              "      <th>total sulfur dioxide</th>\n",
              "      <th>density</th>\n",
              "      <th>pH</th>\n",
              "      <th>sulphates</th>\n",
              "      <th>alcohol</th>\n",
              "    </tr>\n",
              "  </thead>\n",
              "  <tbody>\n",
              "    <tr>\n",
              "      <th>0</th>\n",
              "      <td>0.333333</td>\n",
              "      <td>0.148760</td>\n",
              "      <td>0.410000</td>\n",
              "      <td>0.036145</td>\n",
              "      <td>0.095092</td>\n",
              "      <td>0.054908</td>\n",
              "      <td>0.027778</td>\n",
              "      <td>0.179724</td>\n",
              "      <td>0.139001</td>\n",
              "      <td>0.551181</td>\n",
              "      <td>0.123596</td>\n",
              "      <td>0.318841</td>\n",
              "    </tr>\n",
              "    <tr>\n",
              "      <th>1</th>\n",
              "      <td>0.333333</td>\n",
              "      <td>0.413223</td>\n",
              "      <td>0.353333</td>\n",
              "      <td>0.084337</td>\n",
              "      <td>0.027607</td>\n",
              "      <td>0.096506</td>\n",
              "      <td>0.031250</td>\n",
              "      <td>0.082949</td>\n",
              "      <td>0.188741</td>\n",
              "      <td>0.354331</td>\n",
              "      <td>0.207865</td>\n",
              "      <td>0.217391</td>\n",
              "    </tr>\n",
              "    <tr>\n",
              "      <th>2</th>\n",
              "      <td>0.333333</td>\n",
              "      <td>0.338843</td>\n",
              "      <td>0.086667</td>\n",
              "      <td>0.234940</td>\n",
              "      <td>0.021472</td>\n",
              "      <td>0.079867</td>\n",
              "      <td>0.069444</td>\n",
              "      <td>0.304147</td>\n",
              "      <td>0.089647</td>\n",
              "      <td>0.244094</td>\n",
              "      <td>0.168539</td>\n",
              "      <td>0.420290</td>\n",
              "    </tr>\n",
              "    <tr>\n",
              "      <th>3</th>\n",
              "      <td>0.500000</td>\n",
              "      <td>0.264463</td>\n",
              "      <td>0.086667</td>\n",
              "      <td>0.186747</td>\n",
              "      <td>0.082822</td>\n",
              "      <td>0.061564</td>\n",
              "      <td>0.097222</td>\n",
              "      <td>0.235023</td>\n",
              "      <td>0.130904</td>\n",
              "      <td>0.409449</td>\n",
              "      <td>0.157303</td>\n",
              "      <td>0.405797</td>\n",
              "    </tr>\n",
              "    <tr>\n",
              "      <th>4</th>\n",
              "      <td>0.500000</td>\n",
              "      <td>0.330579</td>\n",
              "      <td>0.213333</td>\n",
              "      <td>0.156627</td>\n",
              "      <td>0.136503</td>\n",
              "      <td>0.083195</td>\n",
              "      <td>0.107639</td>\n",
              "      <td>0.396313</td>\n",
              "      <td>0.161751</td>\n",
              "      <td>0.236220</td>\n",
              "      <td>0.117978</td>\n",
              "      <td>0.420290</td>\n",
              "    </tr>\n",
              "  </tbody>\n",
              "</table>\n",
              "</div>"
            ],
            "text/plain": [
              "    quality  fixed acidity  volatile acidity  citric acid  residual sugar  \\\n",
              "0  0.333333       0.148760          0.410000     0.036145        0.095092   \n",
              "1  0.333333       0.413223          0.353333     0.084337        0.027607   \n",
              "2  0.333333       0.338843          0.086667     0.234940        0.021472   \n",
              "3  0.500000       0.264463          0.086667     0.186747        0.082822   \n",
              "4  0.500000       0.330579          0.213333     0.156627        0.136503   \n",
              "\n",
              "   chlorides  free sulfur dioxide  total sulfur dioxide   density        pH  \\\n",
              "0   0.054908             0.027778              0.179724  0.139001  0.551181   \n",
              "1   0.096506             0.031250              0.082949  0.188741  0.354331   \n",
              "2   0.079867             0.069444              0.304147  0.089647  0.244094   \n",
              "3   0.061564             0.097222              0.235023  0.130904  0.409449   \n",
              "4   0.083195             0.107639              0.396313  0.161751  0.236220   \n",
              "\n",
              "   sulphates   alcohol  \n",
              "0   0.123596  0.318841  \n",
              "1   0.207865  0.217391  \n",
              "2   0.168539  0.420290  \n",
              "3   0.157303  0.405797  \n",
              "4   0.117978  0.420290  "
            ]
          },
          "execution_count": 12,
          "metadata": {},
          "output_type": "execute_result"
        }
      ],
      "source": [
        "from sklearn.preprocessing import MinMaxScaler\n",
        "m_scaler = MinMaxScaler()\n",
        "scaledTrainDf_2 = pd.DataFrame(data = m_scaler.fit_transform(train[variable]), columns=variable)\n",
        "scaledTrainDf_2.head()"
      ]
    },
    {
      "cell_type": "code",
      "execution_count": 13,
      "id": "364539ef",
      "metadata": {},
      "outputs": [
        {
          "data": {
            "text/plain": [
              "quality                 0.0\n",
              "fixed acidity           0.0\n",
              "volatile acidity        0.0\n",
              "citric acid             0.0\n",
              "residual sugar          0.0\n",
              "chlorides               0.0\n",
              "free sulfur dioxide     0.0\n",
              "total sulfur dioxide    0.0\n",
              "density                 0.0\n",
              "pH                      0.0\n",
              "sulphates               0.0\n",
              "alcohol                 0.0\n",
              "dtype: float64"
            ]
          },
          "execution_count": 13,
          "metadata": {},
          "output_type": "execute_result"
        }
      ],
      "source": [
        "scaledTrainDf_2.min()"
      ]
    },
    {
      "cell_type": "code",
      "execution_count": 14,
      "id": "19c10a5a",
      "metadata": {},
      "outputs": [
        {
          "data": {
            "text/plain": [
              "quality                 1.0\n",
              "fixed acidity           1.0\n",
              "volatile acidity        1.0\n",
              "citric acid             1.0\n",
              "residual sugar          1.0\n",
              "chlorides               1.0\n",
              "free sulfur dioxide     1.0\n",
              "total sulfur dioxide    1.0\n",
              "density                 1.0\n",
              "pH                      1.0\n",
              "sulphates               1.0\n",
              "alcohol                 1.0\n",
              "dtype: float64"
            ]
          },
          "execution_count": 14,
          "metadata": {},
          "output_type": "execute_result"
        }
      ],
      "source": [
        "scaledTrainDf_2.max()"
      ]
    },
    {
      "cell_type": "markdown",
      "id": "8ZeshFahBw1j",
      "metadata": {
        "id": "8ZeshFahBw1j"
      },
      "source": [
        "## 실습2"
      ]
    },
    {
      "cell_type": "markdown",
      "id": "98420dfb",
      "metadata": {
        "id": "98420dfb"
      },
      "source": [
        "### 문제 2\n",
        "### 2-1. (8점) 데이터 인코딩"
      ]
    },
    {
      "cell_type": "code",
      "execution_count": 15,
      "id": "ae272fc3",
      "metadata": {
        "id": "ae272fc3"
      },
      "outputs": [
        {
          "name": "stdout",
          "output_type": "stream",
          "text": [
            "인코딩한 결과값: [7 6 2 8 9 3 1 0 5 4]\n",
            "인코딩 순서 확인: ['Ankle boot' 'Bag' 'Coat' 'Dress' 'Pullover' 'Sandal' 'Shirt' 'Sneaker'\n",
            " 'T-shirt/top' 'Trouser']\n",
            "디코딩: ['Ankle boot' 'Bag' 'Coat' 'Dress' 'Pullover' 'Sandal']\n"
          ]
        }
      ],
      "source": [
        "# clothes 데이터를 인코딩하세요.(clothes 데이터는 이미 주어져있음)\n",
        "clothes = ['T-shirt/top', 'Trouser', 'Pullover', 'Dress', 'Coat', 'Sandal', 'Shirt', 'Sneaker', 'Bag', 'Ankle boot','T-shirt/top', 'Sneaker', 'Bag']\n",
        "\n",
        "# items에서 중복된 값을 없애고 clothes변수에 list 자료형으로 반환하세요\n",
        "clothes = list(set(clothes))\n",
        "\n",
        "# items를 LabelEncoder를 이용해서 인코딩해주고 인코딩 한 결과 값을 객체의 classes_ 속성값으로 확인해주세요(from sklearn.preprocessing import LabelEncoder)\n",
        "from sklearn.preprocessing import LabelEncoder\n",
        "encoder = LabelEncoder()\n",
        "encoded_clothes = encoder.fit_transform(clothes)\n",
        "print('인코딩한 결과값:', encoded_clothes)\n",
        "print('인코딩 순서 확인:', encoder.classes_)\n",
        "\n",
        "# 디코딩으로 인코딩이 제대로 되었는지 출력해서 확인해주세요(0,1,2,3,4,5 만 확인해주세요)\n",
        "print('디코딩:', encoder.inverse_transform([0,1,2,3,4,5]))"
      ]
    },
    {
      "cell_type": "markdown",
      "id": "86f0e3fa",
      "metadata": {
        "id": "86f0e3fa"
      },
      "source": [
        "### 2-2. (10점) 데이터 원 핫 인코딩"
      ]
    },
    {
      "cell_type": "code",
      "execution_count": 71,
      "id": "5ecf32c5",
      "metadata": {},
      "outputs": [
        {
          "data": {
            "text/plain": [
              "array([['Sneaker'],\n",
              "       ['Pullover'],\n",
              "       ['Dress'],\n",
              "       ['T-shirt/top'],\n",
              "       ['Trouser'],\n",
              "       ['Bag'],\n",
              "       ['Coat'],\n",
              "       ['Sandal'],\n",
              "       ['Shirt'],\n",
              "       ['Ankle boot']], dtype='<U11')"
            ]
          },
          "execution_count": 71,
          "metadata": {},
          "output_type": "execute_result"
        }
      ],
      "source": [
        "clothes"
      ]
    },
    {
      "cell_type": "code",
      "execution_count": 74,
      "id": "a14e6553",
      "metadata": {
        "id": "a14e6553"
      },
      "outputs": [
        {
          "name": "stdout",
          "output_type": "stream",
          "text": [
            "(10, 1)\n",
            "[[0. 0. 0. 0. 0. 0. 0. 1. 0. 0.]\n",
            " [0. 0. 0. 0. 1. 0. 0. 0. 0. 0.]\n",
            " [0. 0. 0. 1. 0. 0. 0. 0. 0. 0.]\n",
            " [0. 0. 0. 0. 0. 0. 0. 0. 1. 0.]\n",
            " [0. 0. 0. 0. 0. 0. 0. 0. 0. 1.]\n",
            " [0. 1. 0. 0. 0. 0. 0. 0. 0. 0.]\n",
            " [0. 0. 1. 0. 0. 0. 0. 0. 0. 0.]\n",
            " [0. 0. 0. 0. 0. 1. 0. 0. 0. 0.]\n",
            " [0. 0. 0. 0. 0. 0. 1. 0. 0. 0.]\n",
            " [1. 0. 0. 0. 0. 0. 0. 0. 0. 0.]]\n"
          ]
        },
        {
          "data": {
            "text/html": [
              "<div>\n",
              "<style scoped>\n",
              "    .dataframe tbody tr th:only-of-type {\n",
              "        vertical-align: middle;\n",
              "    }\n",
              "\n",
              "    .dataframe tbody tr th {\n",
              "        vertical-align: top;\n",
              "    }\n",
              "\n",
              "    .dataframe thead th {\n",
              "        text-align: right;\n",
              "    }\n",
              "</style>\n",
              "<table border=\"1\" class=\"dataframe\">\n",
              "  <thead>\n",
              "    <tr style=\"text-align: right;\">\n",
              "      <th></th>\n",
              "      <th>0</th>\n",
              "    </tr>\n",
              "  </thead>\n",
              "  <tbody>\n",
              "    <tr>\n",
              "      <th>0</th>\n",
              "      <td>Sneaker</td>\n",
              "    </tr>\n",
              "    <tr>\n",
              "      <th>1</th>\n",
              "      <td>Pullover</td>\n",
              "    </tr>\n",
              "    <tr>\n",
              "      <th>2</th>\n",
              "      <td>Dress</td>\n",
              "    </tr>\n",
              "    <tr>\n",
              "      <th>3</th>\n",
              "      <td>T-shirt/top</td>\n",
              "    </tr>\n",
              "    <tr>\n",
              "      <th>4</th>\n",
              "      <td>Trouser</td>\n",
              "    </tr>\n",
              "    <tr>\n",
              "      <th>5</th>\n",
              "      <td>Bag</td>\n",
              "    </tr>\n",
              "    <tr>\n",
              "      <th>6</th>\n",
              "      <td>Coat</td>\n",
              "    </tr>\n",
              "    <tr>\n",
              "      <th>7</th>\n",
              "      <td>Sandal</td>\n",
              "    </tr>\n",
              "    <tr>\n",
              "      <th>8</th>\n",
              "      <td>Shirt</td>\n",
              "    </tr>\n",
              "    <tr>\n",
              "      <th>9</th>\n",
              "      <td>Ankle boot</td>\n",
              "    </tr>\n",
              "  </tbody>\n",
              "</table>\n",
              "</div>"
            ],
            "text/plain": [
              "             0\n",
              "0      Sneaker\n",
              "1     Pullover\n",
              "2        Dress\n",
              "3  T-shirt/top\n",
              "4      Trouser\n",
              "5          Bag\n",
              "6         Coat\n",
              "7       Sandal\n",
              "8        Shirt\n",
              "9   Ankle boot"
            ]
          },
          "metadata": {},
          "output_type": "display_data"
        },
        {
          "data": {
            "text/html": [
              "<div>\n",
              "<style scoped>\n",
              "    .dataframe tbody tr th:only-of-type {\n",
              "        vertical-align: middle;\n",
              "    }\n",
              "\n",
              "    .dataframe tbody tr th {\n",
              "        vertical-align: top;\n",
              "    }\n",
              "\n",
              "    .dataframe thead th {\n",
              "        text-align: right;\n",
              "    }\n",
              "</style>\n",
              "<table border=\"1\" class=\"dataframe\">\n",
              "  <thead>\n",
              "    <tr style=\"text-align: right;\">\n",
              "      <th></th>\n",
              "      <th>0_Ankle boot</th>\n",
              "      <th>0_Bag</th>\n",
              "      <th>0_Coat</th>\n",
              "      <th>0_Dress</th>\n",
              "      <th>0_Pullover</th>\n",
              "      <th>0_Sandal</th>\n",
              "      <th>0_Shirt</th>\n",
              "      <th>0_Sneaker</th>\n",
              "      <th>0_T-shirt/top</th>\n",
              "      <th>0_Trouser</th>\n",
              "    </tr>\n",
              "  </thead>\n",
              "  <tbody>\n",
              "    <tr>\n",
              "      <th>0</th>\n",
              "      <td>0</td>\n",
              "      <td>0</td>\n",
              "      <td>0</td>\n",
              "      <td>0</td>\n",
              "      <td>0</td>\n",
              "      <td>0</td>\n",
              "      <td>0</td>\n",
              "      <td>1</td>\n",
              "      <td>0</td>\n",
              "      <td>0</td>\n",
              "    </tr>\n",
              "    <tr>\n",
              "      <th>1</th>\n",
              "      <td>0</td>\n",
              "      <td>0</td>\n",
              "      <td>0</td>\n",
              "      <td>0</td>\n",
              "      <td>1</td>\n",
              "      <td>0</td>\n",
              "      <td>0</td>\n",
              "      <td>0</td>\n",
              "      <td>0</td>\n",
              "      <td>0</td>\n",
              "    </tr>\n",
              "    <tr>\n",
              "      <th>2</th>\n",
              "      <td>0</td>\n",
              "      <td>0</td>\n",
              "      <td>0</td>\n",
              "      <td>1</td>\n",
              "      <td>0</td>\n",
              "      <td>0</td>\n",
              "      <td>0</td>\n",
              "      <td>0</td>\n",
              "      <td>0</td>\n",
              "      <td>0</td>\n",
              "    </tr>\n",
              "    <tr>\n",
              "      <th>3</th>\n",
              "      <td>0</td>\n",
              "      <td>0</td>\n",
              "      <td>0</td>\n",
              "      <td>0</td>\n",
              "      <td>0</td>\n",
              "      <td>0</td>\n",
              "      <td>0</td>\n",
              "      <td>0</td>\n",
              "      <td>1</td>\n",
              "      <td>0</td>\n",
              "    </tr>\n",
              "    <tr>\n",
              "      <th>4</th>\n",
              "      <td>0</td>\n",
              "      <td>0</td>\n",
              "      <td>0</td>\n",
              "      <td>0</td>\n",
              "      <td>0</td>\n",
              "      <td>0</td>\n",
              "      <td>0</td>\n",
              "      <td>0</td>\n",
              "      <td>0</td>\n",
              "      <td>1</td>\n",
              "    </tr>\n",
              "    <tr>\n",
              "      <th>5</th>\n",
              "      <td>0</td>\n",
              "      <td>1</td>\n",
              "      <td>0</td>\n",
              "      <td>0</td>\n",
              "      <td>0</td>\n",
              "      <td>0</td>\n",
              "      <td>0</td>\n",
              "      <td>0</td>\n",
              "      <td>0</td>\n",
              "      <td>0</td>\n",
              "    </tr>\n",
              "    <tr>\n",
              "      <th>6</th>\n",
              "      <td>0</td>\n",
              "      <td>0</td>\n",
              "      <td>1</td>\n",
              "      <td>0</td>\n",
              "      <td>0</td>\n",
              "      <td>0</td>\n",
              "      <td>0</td>\n",
              "      <td>0</td>\n",
              "      <td>0</td>\n",
              "      <td>0</td>\n",
              "    </tr>\n",
              "    <tr>\n",
              "      <th>7</th>\n",
              "      <td>0</td>\n",
              "      <td>0</td>\n",
              "      <td>0</td>\n",
              "      <td>0</td>\n",
              "      <td>0</td>\n",
              "      <td>1</td>\n",
              "      <td>0</td>\n",
              "      <td>0</td>\n",
              "      <td>0</td>\n",
              "      <td>0</td>\n",
              "    </tr>\n",
              "    <tr>\n",
              "      <th>8</th>\n",
              "      <td>0</td>\n",
              "      <td>0</td>\n",
              "      <td>0</td>\n",
              "      <td>0</td>\n",
              "      <td>0</td>\n",
              "      <td>0</td>\n",
              "      <td>1</td>\n",
              "      <td>0</td>\n",
              "      <td>0</td>\n",
              "      <td>0</td>\n",
              "    </tr>\n",
              "    <tr>\n",
              "      <th>9</th>\n",
              "      <td>1</td>\n",
              "      <td>0</td>\n",
              "      <td>0</td>\n",
              "      <td>0</td>\n",
              "      <td>0</td>\n",
              "      <td>0</td>\n",
              "      <td>0</td>\n",
              "      <td>0</td>\n",
              "      <td>0</td>\n",
              "      <td>0</td>\n",
              "    </tr>\n",
              "  </tbody>\n",
              "</table>\n",
              "</div>"
            ],
            "text/plain": [
              "   0_Ankle boot  0_Bag  0_Coat  0_Dress  0_Pullover  0_Sandal  0_Shirt  \\\n",
              "0             0      0       0        0           0         0        0   \n",
              "1             0      0       0        0           1         0        0   \n",
              "2             0      0       0        1           0         0        0   \n",
              "3             0      0       0        0           0         0        0   \n",
              "4             0      0       0        0           0         0        0   \n",
              "5             0      1       0        0           0         0        0   \n",
              "6             0      0       1        0           0         0        0   \n",
              "7             0      0       0        0           0         1        0   \n",
              "8             0      0       0        0           0         0        1   \n",
              "9             1      0       0        0           0         0        0   \n",
              "\n",
              "   0_Sneaker  0_T-shirt/top  0_Trouser  \n",
              "0          1              0          0  \n",
              "1          0              0          0  \n",
              "2          0              0          0  \n",
              "3          0              1          0  \n",
              "4          0              0          1  \n",
              "5          0              0          0  \n",
              "6          0              0          0  \n",
              "7          0              0          0  \n",
              "8          0              0          0  \n",
              "9          0              0          0  "
            ]
          },
          "execution_count": 74,
          "metadata": {},
          "output_type": "execute_result"
        }
      ],
      "source": [
        "# clothes를 2D numpy array로 변환해주고 clothes변수에 반환해주고 데이터 크기를 출력해주세요.\n",
        "clothes = np.array(clothes).reshape(-1, 1)\n",
        "print(clothes.shape)\n",
        "\n",
        "# clothes를 원 핫 인코딩 해서 결과 값을 확인해주고, df 변수에 DataFrame으로 반환해주세요\n",
        "from sklearn.preprocessing import OneHotEncoder\n",
        "oh_encoder = OneHotEncoder()\n",
        "result = oh_encoder.fit_transform(clothes).toarray()\n",
        "print(result)\n",
        "\n",
        "df = pd.DataFrame(data = clothes)\n",
        "display(df)\n",
        "\n",
        "# df 데이터프레임으로 원 핫 인코딩을 해주세요\n",
        "pd.get_dummies(df)\n"
      ]
    },
    {
      "cell_type": "markdown",
      "id": "loBwDFzhB3LD",
      "metadata": {
        "id": "loBwDFzhB3LD"
      },
      "source": [
        "## 실습3"
      ]
    },
    {
      "cell_type": "markdown",
      "id": "pdsx3G6FB9PL",
      "metadata": {
        "id": "pdsx3G6FB9PL"
      },
      "source": [
        "### 3. Data Loading (3점)"
      ]
    },
    {
      "cell_type": "markdown",
      "id": "8hQInrfJCAnF",
      "metadata": {
        "id": "8hQInrfJCAnF"
      },
      "source": [
        "**a)** 본 과제에서는 대출신청서에 작성한 정보를 바탕으로 **대출신청 승인여부 (Loan_Status)** 가 결정된 이력 데이터로 사이킷런 머신러닝 학습을 진행합니다.\n",
        "\n",
        "주어진 데이터 *loan.csv* 를 *pandas dataframe* 으로 불러온 후, **loan**으로 저장하고, 확인해주세요.  **(1점)**"
      ]
    },
    {
      "cell_type": "code",
      "execution_count": 42,
      "id": "kK9EBmhdCA5c",
      "metadata": {
        "id": "kK9EBmhdCA5c"
      },
      "outputs": [
        {
          "data": {
            "text/html": [
              "<div>\n",
              "<style scoped>\n",
              "    .dataframe tbody tr th:only-of-type {\n",
              "        vertical-align: middle;\n",
              "    }\n",
              "\n",
              "    .dataframe tbody tr th {\n",
              "        vertical-align: top;\n",
              "    }\n",
              "\n",
              "    .dataframe thead th {\n",
              "        text-align: right;\n",
              "    }\n",
              "</style>\n",
              "<table border=\"1\" class=\"dataframe\">\n",
              "  <thead>\n",
              "    <tr style=\"text-align: right;\">\n",
              "      <th></th>\n",
              "      <th>Loan_ID</th>\n",
              "      <th>Gender</th>\n",
              "      <th>Married</th>\n",
              "      <th>Dependents</th>\n",
              "      <th>Education</th>\n",
              "      <th>Self_Employed</th>\n",
              "      <th>ApplicantIncome</th>\n",
              "      <th>CoapplicantIncome</th>\n",
              "      <th>LoanAmount</th>\n",
              "      <th>Loan_Amount_Term</th>\n",
              "      <th>Credit_History</th>\n",
              "      <th>Property_Area</th>\n",
              "      <th>Loan_Status</th>\n",
              "    </tr>\n",
              "  </thead>\n",
              "  <tbody>\n",
              "    <tr>\n",
              "      <th>0</th>\n",
              "      <td>LP001002</td>\n",
              "      <td>Male</td>\n",
              "      <td>No</td>\n",
              "      <td>0</td>\n",
              "      <td>Graduate</td>\n",
              "      <td>No</td>\n",
              "      <td>5849</td>\n",
              "      <td>0.0</td>\n",
              "      <td>NaN</td>\n",
              "      <td>360.0</td>\n",
              "      <td>1.0</td>\n",
              "      <td>Urban</td>\n",
              "      <td>Y</td>\n",
              "    </tr>\n",
              "    <tr>\n",
              "      <th>1</th>\n",
              "      <td>LP001003</td>\n",
              "      <td>Male</td>\n",
              "      <td>Yes</td>\n",
              "      <td>1</td>\n",
              "      <td>Graduate</td>\n",
              "      <td>No</td>\n",
              "      <td>4583</td>\n",
              "      <td>1508.0</td>\n",
              "      <td>128.0</td>\n",
              "      <td>360.0</td>\n",
              "      <td>1.0</td>\n",
              "      <td>Rural</td>\n",
              "      <td>N</td>\n",
              "    </tr>\n",
              "    <tr>\n",
              "      <th>2</th>\n",
              "      <td>LP001005</td>\n",
              "      <td>Male</td>\n",
              "      <td>Yes</td>\n",
              "      <td>0</td>\n",
              "      <td>Graduate</td>\n",
              "      <td>Yes</td>\n",
              "      <td>3000</td>\n",
              "      <td>0.0</td>\n",
              "      <td>66.0</td>\n",
              "      <td>360.0</td>\n",
              "      <td>1.0</td>\n",
              "      <td>Urban</td>\n",
              "      <td>Y</td>\n",
              "    </tr>\n",
              "    <tr>\n",
              "      <th>3</th>\n",
              "      <td>LP001006</td>\n",
              "      <td>Male</td>\n",
              "      <td>Yes</td>\n",
              "      <td>0</td>\n",
              "      <td>Not Graduate</td>\n",
              "      <td>No</td>\n",
              "      <td>2583</td>\n",
              "      <td>2358.0</td>\n",
              "      <td>120.0</td>\n",
              "      <td>360.0</td>\n",
              "      <td>1.0</td>\n",
              "      <td>Urban</td>\n",
              "      <td>Y</td>\n",
              "    </tr>\n",
              "    <tr>\n",
              "      <th>4</th>\n",
              "      <td>LP001008</td>\n",
              "      <td>Male</td>\n",
              "      <td>No</td>\n",
              "      <td>0</td>\n",
              "      <td>Graduate</td>\n",
              "      <td>No</td>\n",
              "      <td>6000</td>\n",
              "      <td>0.0</td>\n",
              "      <td>141.0</td>\n",
              "      <td>360.0</td>\n",
              "      <td>1.0</td>\n",
              "      <td>Urban</td>\n",
              "      <td>Y</td>\n",
              "    </tr>\n",
              "  </tbody>\n",
              "</table>\n",
              "</div>"
            ],
            "text/plain": [
              "    Loan_ID Gender Married Dependents     Education Self_Employed  \\\n",
              "0  LP001002   Male      No          0      Graduate            No   \n",
              "1  LP001003   Male     Yes          1      Graduate            No   \n",
              "2  LP001005   Male     Yes          0      Graduate           Yes   \n",
              "3  LP001006   Male     Yes          0  Not Graduate            No   \n",
              "4  LP001008   Male      No          0      Graduate            No   \n",
              "\n",
              "   ApplicantIncome  CoapplicantIncome  LoanAmount  Loan_Amount_Term  \\\n",
              "0             5849                0.0         NaN             360.0   \n",
              "1             4583             1508.0       128.0             360.0   \n",
              "2             3000                0.0        66.0             360.0   \n",
              "3             2583             2358.0       120.0             360.0   \n",
              "4             6000                0.0       141.0             360.0   \n",
              "\n",
              "   Credit_History Property_Area Loan_Status  \n",
              "0             1.0         Urban           Y  \n",
              "1             1.0         Rural           N  \n",
              "2             1.0         Urban           Y  \n",
              "3             1.0         Urban           Y  \n",
              "4             1.0         Urban           Y  "
            ]
          },
          "execution_count": 42,
          "metadata": {},
          "output_type": "execute_result"
        }
      ],
      "source": [
        "import pandas as pd\n",
        "loan = pd.read_csv('loan.csv')\n",
        "loan.head()"
      ]
    },
    {
      "cell_type": "markdown",
      "id": "D8z3o0V6CD0D",
      "metadata": {
        "id": "D8z3o0V6CD0D"
      },
      "source": [
        "**Feature Information**\n",
        "* *Loan_ID* :  대출 ID\n",
        "* *Gender* :  성별\n",
        "* *Married* :  결혼 여부\n",
        "* *Dependents* :  부양자 수\n",
        "* *Education*:  대학졸업 여부\n",
        "* *Self_Employed*:  자영업 여부\n",
        "* *ApplicantIncome*:  소득수준\n",
        "* *CoapplicantIncome*:  배우자 소득수준\n",
        "* *LoanAmount*:  대출금액\n",
        "* *Loan_Amount_Term*:  대출 상환 기간\n",
        "* *Credit_History*:  신용(대출 상환, 신용카드 등) 기록 여부\n",
        "* *Property_Area*:  주거 지역\n",
        "* *Loan_Status*:  대출 가능 여부"
      ]
    },
    {
      "cell_type": "markdown",
      "id": "3Fcnjd3tCGHy",
      "metadata": {
        "id": "3Fcnjd3tCGHy"
      },
      "source": [
        "**b)** loan data 정보를 출력하고 (`info` 이용) loan data의 숫자형 변수의 분포를 알아봅시다. (`describe` 이용) **(1점)**"
      ]
    },
    {
      "cell_type": "code",
      "execution_count": 2,
      "id": "bWABxnfBCGh7",
      "metadata": {
        "id": "bWABxnfBCGh7"
      },
      "outputs": [
        {
          "name": "stdout",
          "output_type": "stream",
          "text": [
            "<class 'pandas.core.frame.DataFrame'>\n",
            "RangeIndex: 614 entries, 0 to 613\n",
            "Data columns (total 13 columns):\n",
            " #   Column             Non-Null Count  Dtype  \n",
            "---  ------             --------------  -----  \n",
            " 0   Loan_ID            614 non-null    object \n",
            " 1   Gender             601 non-null    object \n",
            " 2   Married            611 non-null    object \n",
            " 3   Dependents         599 non-null    object \n",
            " 4   Education          614 non-null    object \n",
            " 5   Self_Employed      582 non-null    object \n",
            " 6   ApplicantIncome    614 non-null    int64  \n",
            " 7   CoapplicantIncome  614 non-null    float64\n",
            " 8   LoanAmount         592 non-null    float64\n",
            " 9   Loan_Amount_Term   600 non-null    float64\n",
            " 10  Credit_History     564 non-null    float64\n",
            " 11  Property_Area      614 non-null    object \n",
            " 12  Loan_Status        614 non-null    object \n",
            "dtypes: float64(4), int64(1), object(8)\n",
            "memory usage: 62.5+ KB\n"
          ]
        }
      ],
      "source": [
        "# loan 데이터 프레임 정보 출력\n",
        "loan.info()"
      ]
    },
    {
      "cell_type": "code",
      "execution_count": 3,
      "id": "8GywCY1ICED6",
      "metadata": {
        "id": "8GywCY1ICED6"
      },
      "outputs": [
        {
          "data": {
            "text/html": [
              "<div>\n",
              "<style scoped>\n",
              "    .dataframe tbody tr th:only-of-type {\n",
              "        vertical-align: middle;\n",
              "    }\n",
              "\n",
              "    .dataframe tbody tr th {\n",
              "        vertical-align: top;\n",
              "    }\n",
              "\n",
              "    .dataframe thead th {\n",
              "        text-align: right;\n",
              "    }\n",
              "</style>\n",
              "<table border=\"1\" class=\"dataframe\">\n",
              "  <thead>\n",
              "    <tr style=\"text-align: right;\">\n",
              "      <th></th>\n",
              "      <th>ApplicantIncome</th>\n",
              "      <th>CoapplicantIncome</th>\n",
              "      <th>LoanAmount</th>\n",
              "      <th>Loan_Amount_Term</th>\n",
              "      <th>Credit_History</th>\n",
              "    </tr>\n",
              "  </thead>\n",
              "  <tbody>\n",
              "    <tr>\n",
              "      <th>count</th>\n",
              "      <td>614.000000</td>\n",
              "      <td>614.000000</td>\n",
              "      <td>592.000000</td>\n",
              "      <td>600.00000</td>\n",
              "      <td>564.000000</td>\n",
              "    </tr>\n",
              "    <tr>\n",
              "      <th>mean</th>\n",
              "      <td>5403.459283</td>\n",
              "      <td>1621.245798</td>\n",
              "      <td>146.412162</td>\n",
              "      <td>342.00000</td>\n",
              "      <td>0.842199</td>\n",
              "    </tr>\n",
              "    <tr>\n",
              "      <th>std</th>\n",
              "      <td>6109.041673</td>\n",
              "      <td>2926.248369</td>\n",
              "      <td>85.587325</td>\n",
              "      <td>65.12041</td>\n",
              "      <td>0.364878</td>\n",
              "    </tr>\n",
              "    <tr>\n",
              "      <th>min</th>\n",
              "      <td>150.000000</td>\n",
              "      <td>0.000000</td>\n",
              "      <td>9.000000</td>\n",
              "      <td>12.00000</td>\n",
              "      <td>0.000000</td>\n",
              "    </tr>\n",
              "    <tr>\n",
              "      <th>25%</th>\n",
              "      <td>2877.500000</td>\n",
              "      <td>0.000000</td>\n",
              "      <td>100.000000</td>\n",
              "      <td>360.00000</td>\n",
              "      <td>1.000000</td>\n",
              "    </tr>\n",
              "    <tr>\n",
              "      <th>50%</th>\n",
              "      <td>3812.500000</td>\n",
              "      <td>1188.500000</td>\n",
              "      <td>128.000000</td>\n",
              "      <td>360.00000</td>\n",
              "      <td>1.000000</td>\n",
              "    </tr>\n",
              "    <tr>\n",
              "      <th>75%</th>\n",
              "      <td>5795.000000</td>\n",
              "      <td>2297.250000</td>\n",
              "      <td>168.000000</td>\n",
              "      <td>360.00000</td>\n",
              "      <td>1.000000</td>\n",
              "    </tr>\n",
              "    <tr>\n",
              "      <th>max</th>\n",
              "      <td>81000.000000</td>\n",
              "      <td>41667.000000</td>\n",
              "      <td>700.000000</td>\n",
              "      <td>480.00000</td>\n",
              "      <td>1.000000</td>\n",
              "    </tr>\n",
              "  </tbody>\n",
              "</table>\n",
              "</div>"
            ],
            "text/plain": [
              "       ApplicantIncome  CoapplicantIncome  LoanAmount  Loan_Amount_Term  \\\n",
              "count       614.000000         614.000000  592.000000         600.00000   \n",
              "mean       5403.459283        1621.245798  146.412162         342.00000   \n",
              "std        6109.041673        2926.248369   85.587325          65.12041   \n",
              "min         150.000000           0.000000    9.000000          12.00000   \n",
              "25%        2877.500000           0.000000  100.000000         360.00000   \n",
              "50%        3812.500000        1188.500000  128.000000         360.00000   \n",
              "75%        5795.000000        2297.250000  168.000000         360.00000   \n",
              "max       81000.000000       41667.000000  700.000000         480.00000   \n",
              "\n",
              "       Credit_History  \n",
              "count      564.000000  \n",
              "mean         0.842199  \n",
              "std          0.364878  \n",
              "min          0.000000  \n",
              "25%          1.000000  \n",
              "50%          1.000000  \n",
              "75%          1.000000  \n",
              "max          1.000000  "
            ]
          },
          "execution_count": 3,
          "metadata": {},
          "output_type": "execute_result"
        }
      ],
      "source": [
        "# loan 데이터 프레임의 숫자형 변수의 분포 출력\n",
        "loan.describe()"
      ]
    },
    {
      "cell_type": "markdown",
      "id": "gpHOJhWeCLi2",
      "metadata": {
        "id": "gpHOJhWeCLi2"
      },
      "source": [
        " **c)** 'Dependents' 열의 항목별 분포를 출력해보고, '3+'라고 입력되어 있는 행에 대하여 그 값을 '3'으로 바꿔주세요. (`replace` 이용) **(1점)**"
      ]
    },
    {
      "cell_type": "code",
      "execution_count": 43,
      "id": "tILRZ7UhCLvC",
      "metadata": {
        "id": "tILRZ7UhCLvC"
      },
      "outputs": [
        {
          "data": {
            "text/plain": [
              "0     345\n",
              "1     102\n",
              "2     101\n",
              "3+     51\n",
              "Name: Dependents, dtype: int64"
            ]
          },
          "execution_count": 43,
          "metadata": {},
          "output_type": "execute_result"
        }
      ],
      "source": [
        "# 'Dependents'열의 항목별 분포 출력\n",
        "loan['Dependents'].value_counts()"
      ]
    },
    {
      "cell_type": "code",
      "execution_count": 44,
      "id": "tMLwpTWFB-wh",
      "metadata": {
        "id": "tMLwpTWFB-wh"
      },
      "outputs": [],
      "source": [
        "# replace 처리\n",
        "loan['Dependents'] = loan['Dependents'].replace('3+', '3')"
      ]
    },
    {
      "cell_type": "code",
      "execution_count": 6,
      "id": "11c5b4d0",
      "metadata": {},
      "outputs": [
        {
          "data": {
            "text/plain": [
              "0    345\n",
              "1    102\n",
              "2    101\n",
              "3     51\n",
              "Name: Dependents, dtype: int64"
            ]
          },
          "execution_count": 6,
          "metadata": {},
          "output_type": "execute_result"
        }
      ],
      "source": [
        "loan['Dependents'].value_counts()"
      ]
    },
    {
      "cell_type": "markdown",
      "id": "GHuYkU2iCgwO",
      "metadata": {
        "id": "GHuYkU2iCgwO"
      },
      "source": [
        "## 실습4"
      ]
    },
    {
      "cell_type": "markdown",
      "id": "vyfbhE74CRPC",
      "metadata": {
        "id": "vyfbhE74CRPC"
      },
      "source": [
        "### 4. 결측값 처리 (3점)"
      ]
    },
    {
      "cell_type": "markdown",
      "id": "XS7YaySDCk38",
      "metadata": {
        "id": "XS7YaySDCk38"
      },
      "source": [
        "숫자형 변수에 대해서는 null값을 각 열의 **평균값**으로, 문자형 변수에 대해서는 null값을 각 열의 **최빈값**으로 채워주세요"
      ]
    },
    {
      "cell_type": "code",
      "execution_count": 26,
      "id": "9c604d3b",
      "metadata": {},
      "outputs": [
        {
          "name": "stdout",
          "output_type": "stream",
          "text": [
            "<class 'pandas.core.frame.DataFrame'>\n",
            "RangeIndex: 614 entries, 0 to 613\n",
            "Data columns (total 13 columns):\n",
            " #   Column             Non-Null Count  Dtype  \n",
            "---  ------             --------------  -----  \n",
            " 0   Loan_ID            614 non-null    object \n",
            " 1   Gender             601 non-null    object \n",
            " 2   Married            611 non-null    object \n",
            " 3   Dependents         599 non-null    object \n",
            " 4   Education          614 non-null    object \n",
            " 5   Self_Employed      582 non-null    object \n",
            " 6   ApplicantIncome    614 non-null    int64  \n",
            " 7   CoapplicantIncome  614 non-null    float64\n",
            " 8   LoanAmount         592 non-null    float64\n",
            " 9   Loan_Amount_Term   600 non-null    float64\n",
            " 10  Credit_History     564 non-null    float64\n",
            " 11  Property_Area      614 non-null    object \n",
            " 12  Loan_Status        614 non-null    object \n",
            "dtypes: float64(4), int64(1), object(8)\n",
            "memory usage: 62.5+ KB\n"
          ]
        }
      ],
      "source": [
        "loan.info()"
      ]
    },
    {
      "cell_type": "code",
      "execution_count": 45,
      "id": "I-Q14IsgClEy",
      "metadata": {
        "id": "I-Q14IsgClEy"
      },
      "outputs": [],
      "source": [
        "# 숫자형 변수 컬럼 평균값 계산\n",
        "numeric_featuers = ['CoapplicantIncome', 'LoanAmount', 'Loan_Amount_Term', 'Credit_History']\n",
        "\n",
        "# 결측치 컬럼별 평균으로 대체\n",
        "for feature in numeric_featuers:\n",
        "    loan[feature].fillna(loan[feature].mean(), inplace=True)\n",
        "\n",
        "# 문자형 변수 컬럼 최빈값 계산\n",
        "object_features = ['Gender', 'Married', 'Dependents', 'Self_Employed']\n",
        "\n",
        "# 결측치 컬럼별 최빈값으로 대체\n",
        "for feature in object_features:\n",
        "    loan[feature].fillna(loan[feature].mode().iloc[0], inplace=True)"
      ]
    },
    {
      "cell_type": "code",
      "execution_count": 46,
      "id": "2e47b658",
      "metadata": {},
      "outputs": [
        {
          "name": "stdout",
          "output_type": "stream",
          "text": [
            "<class 'pandas.core.frame.DataFrame'>\n",
            "RangeIndex: 614 entries, 0 to 613\n",
            "Data columns (total 13 columns):\n",
            " #   Column             Non-Null Count  Dtype  \n",
            "---  ------             --------------  -----  \n",
            " 0   Loan_ID            614 non-null    object \n",
            " 1   Gender             614 non-null    object \n",
            " 2   Married            614 non-null    object \n",
            " 3   Dependents         614 non-null    object \n",
            " 4   Education          614 non-null    object \n",
            " 5   Self_Employed      614 non-null    object \n",
            " 6   ApplicantIncome    614 non-null    int64  \n",
            " 7   CoapplicantIncome  614 non-null    float64\n",
            " 8   LoanAmount         614 non-null    float64\n",
            " 9   Loan_Amount_Term   614 non-null    float64\n",
            " 10  Credit_History     614 non-null    float64\n",
            " 11  Property_Area      614 non-null    object \n",
            " 12  Loan_Status        614 non-null    object \n",
            "dtypes: float64(4), int64(1), object(8)\n",
            "memory usage: 62.5+ KB\n"
          ]
        }
      ],
      "source": [
        "loan.info()"
      ]
    },
    {
      "cell_type": "markdown",
      "id": "D4GHmg7aCpgH",
      "metadata": {
        "id": "D4GHmg7aCpgH"
      },
      "source": [
        "## 실습5"
      ]
    },
    {
      "cell_type": "markdown",
      "id": "Kwytvgi8Cne2",
      "metadata": {
        "id": "Kwytvgi8Cne2"
      },
      "source": [
        "### 5. 이상치 처리 (4점)"
      ]
    },
    {
      "cell_type": "markdown",
      "id": "Qlc8VcSqCsdk",
      "metadata": {
        "id": "Qlc8VcSqCsdk"
      },
      "source": [
        "**a)** ApplicantIncome, CoapplicantIncome, LoanAmount의 분포를 시각화하세요. (`boxplot` 이용)"
      ]
    },
    {
      "cell_type": "code",
      "execution_count": 37,
      "id": "8HHlM_ZJCstr",
      "metadata": {
        "id": "8HHlM_ZJCstr"
      },
      "outputs": [
        {
          "data": {
            "text/plain": [
              "<AxesSubplot:>"
            ]
          },
          "execution_count": 37,
          "metadata": {},
          "output_type": "execute_result"
        },
        {
          "data": {
            "image/png": "[encoded data removed]",
            "text/plain": [
              "<Figure size 432x288 with 1 Axes>"
            ]
          },
          "metadata": {
            "needs_background": "light"
          },
          "output_type": "display_data"
        }
      ],
      "source": [
        "#이상치 확인을 위해 사분위수 정보를 포함하는 박스플롯으로 시각화\n",
        "loan.boxplot(column=['ApplicantIncome', 'CoapplicantIncome', 'LoanAmount'])"
      ]
    },
    {
      "cell_type": "markdown",
      "id": "UK7XoFz9CxiN",
      "metadata": {
        "id": "UK7XoFz9CxiN"
      },
      "source": [
        "**b)** ApplicantIncome, CoapplicantIncome, LoanAmount의 분포를 확인 후, 이상치를 탐색하여 drop하세요.\n",
        "\n",
        "각 column에 대하여 이상치가 있다고 판단되는 **모든 행** 을 drop해주시면 됩니다.\n",
        "\n",
        "(이상치 제거는 본인이 선호하는 방법으로 하시거나, *Tukey Fences* 방법 (답안에서 이용 예정) 을 이용해주세요. )"
      ]
    },
    {
      "cell_type": "code",
      "execution_count": 47,
      "id": "clhgzINZCx2a",
      "metadata": {
        "id": "clhgzINZCx2a"
      },
      "outputs": [
        {
          "data": {
            "text/html": [
              "<div>\n",
              "<style scoped>\n",
              "    .dataframe tbody tr th:only-of-type {\n",
              "        vertical-align: middle;\n",
              "    }\n",
              "\n",
              "    .dataframe tbody tr th {\n",
              "        vertical-align: top;\n",
              "    }\n",
              "\n",
              "    .dataframe thead th {\n",
              "        text-align: right;\n",
              "    }\n",
              "</style>\n",
              "<table border=\"1\" class=\"dataframe\">\n",
              "  <thead>\n",
              "    <tr style=\"text-align: right;\">\n",
              "      <th></th>\n",
              "      <th>Loan_ID</th>\n",
              "      <th>Gender</th>\n",
              "      <th>Married</th>\n",
              "      <th>Dependents</th>\n",
              "      <th>Education</th>\n",
              "      <th>Self_Employed</th>\n",
              "      <th>ApplicantIncome</th>\n",
              "      <th>CoapplicantIncome</th>\n",
              "      <th>LoanAmount</th>\n",
              "      <th>Loan_Amount_Term</th>\n",
              "      <th>Credit_History</th>\n",
              "      <th>Property_Area</th>\n",
              "      <th>Loan_Status</th>\n",
              "    </tr>\n",
              "  </thead>\n",
              "  <tbody>\n",
              "    <tr>\n",
              "      <th>0</th>\n",
              "      <td>LP001002</td>\n",
              "      <td>Male</td>\n",
              "      <td>No</td>\n",
              "      <td>0</td>\n",
              "      <td>Graduate</td>\n",
              "      <td>No</td>\n",
              "      <td>5849</td>\n",
              "      <td>0.0</td>\n",
              "      <td>146.412162</td>\n",
              "      <td>360.0</td>\n",
              "      <td>1.0</td>\n",
              "      <td>Urban</td>\n",
              "      <td>Y</td>\n",
              "    </tr>\n",
              "    <tr>\n",
              "      <th>1</th>\n",
              "      <td>LP001003</td>\n",
              "      <td>Male</td>\n",
              "      <td>Yes</td>\n",
              "      <td>1</td>\n",
              "      <td>Graduate</td>\n",
              "      <td>No</td>\n",
              "      <td>4583</td>\n",
              "      <td>1508.0</td>\n",
              "      <td>128.000000</td>\n",
              "      <td>360.0</td>\n",
              "      <td>1.0</td>\n",
              "      <td>Rural</td>\n",
              "      <td>N</td>\n",
              "    </tr>\n",
              "    <tr>\n",
              "      <th>2</th>\n",
              "      <td>LP001005</td>\n",
              "      <td>Male</td>\n",
              "      <td>Yes</td>\n",
              "      <td>0</td>\n",
              "      <td>Graduate</td>\n",
              "      <td>Yes</td>\n",
              "      <td>3000</td>\n",
              "      <td>0.0</td>\n",
              "      <td>66.000000</td>\n",
              "      <td>360.0</td>\n",
              "      <td>1.0</td>\n",
              "      <td>Urban</td>\n",
              "      <td>Y</td>\n",
              "    </tr>\n",
              "    <tr>\n",
              "      <th>3</th>\n",
              "      <td>LP001006</td>\n",
              "      <td>Male</td>\n",
              "      <td>Yes</td>\n",
              "      <td>0</td>\n",
              "      <td>Not Graduate</td>\n",
              "      <td>No</td>\n",
              "      <td>2583</td>\n",
              "      <td>2358.0</td>\n",
              "      <td>120.000000</td>\n",
              "      <td>360.0</td>\n",
              "      <td>1.0</td>\n",
              "      <td>Urban</td>\n",
              "      <td>Y</td>\n",
              "    </tr>\n",
              "    <tr>\n",
              "      <th>4</th>\n",
              "      <td>LP001008</td>\n",
              "      <td>Male</td>\n",
              "      <td>No</td>\n",
              "      <td>0</td>\n",
              "      <td>Graduate</td>\n",
              "      <td>No</td>\n",
              "      <td>6000</td>\n",
              "      <td>0.0</td>\n",
              "      <td>141.000000</td>\n",
              "      <td>360.0</td>\n",
              "      <td>1.0</td>\n",
              "      <td>Urban</td>\n",
              "      <td>Y</td>\n",
              "    </tr>\n",
              "    <tr>\n",
              "      <th>...</th>\n",
              "      <td>...</td>\n",
              "      <td>...</td>\n",
              "      <td>...</td>\n",
              "      <td>...</td>\n",
              "      <td>...</td>\n",
              "      <td>...</td>\n",
              "      <td>...</td>\n",
              "      <td>...</td>\n",
              "      <td>...</td>\n",
              "      <td>...</td>\n",
              "      <td>...</td>\n",
              "      <td>...</td>\n",
              "      <td>...</td>\n",
              "    </tr>\n",
              "    <tr>\n",
              "      <th>608</th>\n",
              "      <td>LP002974</td>\n",
              "      <td>Male</td>\n",
              "      <td>Yes</td>\n",
              "      <td>0</td>\n",
              "      <td>Graduate</td>\n",
              "      <td>No</td>\n",
              "      <td>3232</td>\n",
              "      <td>1950.0</td>\n",
              "      <td>108.000000</td>\n",
              "      <td>360.0</td>\n",
              "      <td>1.0</td>\n",
              "      <td>Rural</td>\n",
              "      <td>Y</td>\n",
              "    </tr>\n",
              "    <tr>\n",
              "      <th>609</th>\n",
              "      <td>LP002978</td>\n",
              "      <td>Female</td>\n",
              "      <td>No</td>\n",
              "      <td>0</td>\n",
              "      <td>Graduate</td>\n",
              "      <td>No</td>\n",
              "      <td>2900</td>\n",
              "      <td>0.0</td>\n",
              "      <td>71.000000</td>\n",
              "      <td>360.0</td>\n",
              "      <td>1.0</td>\n",
              "      <td>Rural</td>\n",
              "      <td>Y</td>\n",
              "    </tr>\n",
              "    <tr>\n",
              "      <th>610</th>\n",
              "      <td>LP002979</td>\n",
              "      <td>Male</td>\n",
              "      <td>Yes</td>\n",
              "      <td>3</td>\n",
              "      <td>Graduate</td>\n",
              "      <td>No</td>\n",
              "      <td>4106</td>\n",
              "      <td>0.0</td>\n",
              "      <td>40.000000</td>\n",
              "      <td>180.0</td>\n",
              "      <td>1.0</td>\n",
              "      <td>Rural</td>\n",
              "      <td>Y</td>\n",
              "    </tr>\n",
              "    <tr>\n",
              "      <th>612</th>\n",
              "      <td>LP002984</td>\n",
              "      <td>Male</td>\n",
              "      <td>Yes</td>\n",
              "      <td>2</td>\n",
              "      <td>Graduate</td>\n",
              "      <td>No</td>\n",
              "      <td>7583</td>\n",
              "      <td>0.0</td>\n",
              "      <td>187.000000</td>\n",
              "      <td>360.0</td>\n",
              "      <td>1.0</td>\n",
              "      <td>Urban</td>\n",
              "      <td>Y</td>\n",
              "    </tr>\n",
              "    <tr>\n",
              "      <th>613</th>\n",
              "      <td>LP002990</td>\n",
              "      <td>Female</td>\n",
              "      <td>No</td>\n",
              "      <td>0</td>\n",
              "      <td>Graduate</td>\n",
              "      <td>Yes</td>\n",
              "      <td>4583</td>\n",
              "      <td>0.0</td>\n",
              "      <td>133.000000</td>\n",
              "      <td>360.0</td>\n",
              "      <td>0.0</td>\n",
              "      <td>Semiurban</td>\n",
              "      <td>N</td>\n",
              "    </tr>\n",
              "  </tbody>\n",
              "</table>\n",
              "<p>520 rows × 13 columns</p>\n",
              "</div>"
            ],
            "text/plain": [
              "      Loan_ID  Gender Married Dependents     Education Self_Employed  \\\n",
              "0    LP001002    Male      No          0      Graduate            No   \n",
              "1    LP001003    Male     Yes          1      Graduate            No   \n",
              "2    LP001005    Male     Yes          0      Graduate           Yes   \n",
              "3    LP001006    Male     Yes          0  Not Graduate            No   \n",
              "4    LP001008    Male      No          0      Graduate            No   \n",
              "..        ...     ...     ...        ...           ...           ...   \n",
              "608  LP002974    Male     Yes          0      Graduate            No   \n",
              "609  LP002978  Female      No          0      Graduate            No   \n",
              "610  LP002979    Male     Yes          3      Graduate            No   \n",
              "612  LP002984    Male     Yes          2      Graduate            No   \n",
              "613  LP002990  Female      No          0      Graduate           Yes   \n",
              "\n",
              "     ApplicantIncome  CoapplicantIncome  LoanAmount  Loan_Amount_Term  \\\n",
              "0               5849                0.0  146.412162             360.0   \n",
              "1               4583             1508.0  128.000000             360.0   \n",
              "2               3000                0.0   66.000000             360.0   \n",
              "3               2583             2358.0  120.000000             360.0   \n",
              "4               6000                0.0  141.000000             360.0   \n",
              "..               ...                ...         ...               ...   \n",
              "608             3232             1950.0  108.000000             360.0   \n",
              "609             2900                0.0   71.000000             360.0   \n",
              "610             4106                0.0   40.000000             180.0   \n",
              "612             7583                0.0  187.000000             360.0   \n",
              "613             4583                0.0  133.000000             360.0   \n",
              "\n",
              "     Credit_History Property_Area Loan_Status  \n",
              "0               1.0         Urban           Y  \n",
              "1               1.0         Rural           N  \n",
              "2               1.0         Urban           Y  \n",
              "3               1.0         Urban           Y  \n",
              "4               1.0         Urban           Y  \n",
              "..              ...           ...         ...  \n",
              "608             1.0         Rural           Y  \n",
              "609             1.0         Rural           Y  \n",
              "610             1.0         Rural           Y  \n",
              "612             1.0         Urban           Y  \n",
              "613             0.0     Semiurban           N  \n",
              "\n",
              "[520 rows x 13 columns]"
            ]
          },
          "execution_count": 47,
          "metadata": {},
          "output_type": "execute_result"
        }
      ],
      "source": [
        "def handle_outliers(df, column):\n",
        "    q1 = df[column].quantile(0.25)\n",
        "    q3 = df[column].quantile(0.75)\n",
        "    iqr = q3 - q1\n",
        "    lower_bound = q1 - iqr * 1.5\n",
        "    upper_bound = q3 + iqr * 1.5\n",
        "    df = df[(df[column]>lower_bound) & (df[column]<upper_bound)]\n",
        "    return df\n",
        "\n",
        "loan = handle_outliers(loan, 'ApplicantIncome')\n",
        "loan = handle_outliers(loan, 'CoapplicantIncome')\n",
        "loan = handle_outliers(loan, 'LoanAmount')\n",
        "\n",
        "loan"
      ]
    },
    {
      "cell_type": "code",
      "execution_count": 48,
      "id": "q_uGhXyAB9hp",
      "metadata": {
        "id": "q_uGhXyAB9hp"
      },
      "outputs": [
        {
          "name": "stdout",
          "output_type": "stream",
          "text": [
            "<class 'pandas.core.frame.DataFrame'>\n",
            "Int64Index: 520 entries, 0 to 613\n",
            "Data columns (total 13 columns):\n",
            " #   Column             Non-Null Count  Dtype  \n",
            "---  ------             --------------  -----  \n",
            " 0   Loan_ID            520 non-null    object \n",
            " 1   Gender             520 non-null    object \n",
            " 2   Married            520 non-null    object \n",
            " 3   Dependents         520 non-null    object \n",
            " 4   Education          520 non-null    object \n",
            " 5   Self_Employed      520 non-null    object \n",
            " 6   ApplicantIncome    520 non-null    int64  \n",
            " 7   CoapplicantIncome  520 non-null    float64\n",
            " 8   LoanAmount         520 non-null    float64\n",
            " 9   Loan_Amount_Term   520 non-null    float64\n",
            " 10  Credit_History     520 non-null    float64\n",
            " 11  Property_Area      520 non-null    object \n",
            " 12  Loan_Status        520 non-null    object \n",
            "dtypes: float64(4), int64(1), object(8)\n",
            "memory usage: 56.9+ KB\n"
          ]
        }
      ],
      "source": [
        "loan.info()"
      ]
    },
    {
      "cell_type": "markdown",
      "id": "-t_G6XnlC0qN",
      "metadata": {
        "id": "-t_G6XnlC0qN"
      },
      "source": [
        "## 실습6"
      ]
    },
    {
      "cell_type": "markdown",
      "id": "XVI4xUfpC3Ro",
      "metadata": {
        "id": "XVI4xUfpC3Ro"
      },
      "source": [
        "### 6. 인코딩 (20점)"
      ]
    },
    {
      "cell_type": "markdown",
      "id": "etiOOckgC56H",
      "metadata": {
        "id": "etiOOckgC56H"
      },
      "source": [
        "머신러닝 모델이 데이터를 학습할 수 있도록, Dtype이 **'object'** 인 컬럼들에 대하여 인코딩을 실행해줍니다."
      ]
    },
    {
      "cell_type": "markdown",
      "id": "SZCsYn6nC7v5",
      "metadata": {
        "id": "SZCsYn6nC7v5"
      },
      "source": [
        "**a)** 먼저, 부양가족의 수를 의미하는 'Dependent'열의 dtype을 **object**에서 **int**로 바꿔주세요. (`.astype` 이용) **(4점)**"
      ]
    },
    {
      "cell_type": "code",
      "execution_count": 49,
      "id": "7dQafnJbC787",
      "metadata": {
        "id": "7dQafnJbC787"
      },
      "outputs": [
        {
          "data": {
            "text/plain": [
              "0    315\n",
              "2     86\n",
              "1     81\n",
              "3     38\n",
              "Name: Dependents, dtype: int64"
            ]
          },
          "execution_count": 49,
          "metadata": {},
          "output_type": "execute_result"
        }
      ],
      "source": [
        "loan['Dependents'] = loan['Dependents'].astype('int')\n",
        "loan['Dependents'].value_counts()"
      ]
    },
    {
      "cell_type": "markdown",
      "id": "fAyXWCuXC9yF",
      "metadata": {
        "id": "fAyXWCuXC9yF"
      },
      "source": [
        "**b)** 'Yes/No'의 형태로 기록되어 있는 열들 ('Married', 'Education', 'Self_Employed', 'Loan_Status')에 대하여 **Label Encoding**을 시행하세요. **(6점)**"
      ]
    },
    {
      "cell_type": "code",
      "execution_count": 50,
      "id": "cMcR6Zw5C9_6",
      "metadata": {
        "id": "cMcR6Zw5C9_6"
      },
      "outputs": [
        {
          "data": {
            "text/html": [
              "<div>\n",
              "<style scoped>\n",
              "    .dataframe tbody tr th:only-of-type {\n",
              "        vertical-align: middle;\n",
              "    }\n",
              "\n",
              "    .dataframe tbody tr th {\n",
              "        vertical-align: top;\n",
              "    }\n",
              "\n",
              "    .dataframe thead th {\n",
              "        text-align: right;\n",
              "    }\n",
              "</style>\n",
              "<table border=\"1\" class=\"dataframe\">\n",
              "  <thead>\n",
              "    <tr style=\"text-align: right;\">\n",
              "      <th></th>\n",
              "      <th>Loan_ID</th>\n",
              "      <th>Gender</th>\n",
              "      <th>Married</th>\n",
              "      <th>Dependents</th>\n",
              "      <th>Education</th>\n",
              "      <th>Self_Employed</th>\n",
              "      <th>ApplicantIncome</th>\n",
              "      <th>CoapplicantIncome</th>\n",
              "      <th>LoanAmount</th>\n",
              "      <th>Loan_Amount_Term</th>\n",
              "      <th>Credit_History</th>\n",
              "      <th>Property_Area</th>\n",
              "      <th>Loan_Status</th>\n",
              "    </tr>\n",
              "  </thead>\n",
              "  <tbody>\n",
              "    <tr>\n",
              "      <th>0</th>\n",
              "      <td>LP001002</td>\n",
              "      <td>Male</td>\n",
              "      <td>0</td>\n",
              "      <td>0</td>\n",
              "      <td>0</td>\n",
              "      <td>0</td>\n",
              "      <td>5849</td>\n",
              "      <td>0.0</td>\n",
              "      <td>146.412162</td>\n",
              "      <td>360.0</td>\n",
              "      <td>1.0</td>\n",
              "      <td>Urban</td>\n",
              "      <td>1</td>\n",
              "    </tr>\n",
              "    <tr>\n",
              "      <th>1</th>\n",
              "      <td>LP001003</td>\n",
              "      <td>Male</td>\n",
              "      <td>1</td>\n",
              "      <td>1</td>\n",
              "      <td>0</td>\n",
              "      <td>0</td>\n",
              "      <td>4583</td>\n",
              "      <td>1508.0</td>\n",
              "      <td>128.000000</td>\n",
              "      <td>360.0</td>\n",
              "      <td>1.0</td>\n",
              "      <td>Rural</td>\n",
              "      <td>0</td>\n",
              "    </tr>\n",
              "    <tr>\n",
              "      <th>2</th>\n",
              "      <td>LP001005</td>\n",
              "      <td>Male</td>\n",
              "      <td>1</td>\n",
              "      <td>0</td>\n",
              "      <td>0</td>\n",
              "      <td>1</td>\n",
              "      <td>3000</td>\n",
              "      <td>0.0</td>\n",
              "      <td>66.000000</td>\n",
              "      <td>360.0</td>\n",
              "      <td>1.0</td>\n",
              "      <td>Urban</td>\n",
              "      <td>1</td>\n",
              "    </tr>\n",
              "    <tr>\n",
              "      <th>3</th>\n",
              "      <td>LP001006</td>\n",
              "      <td>Male</td>\n",
              "      <td>1</td>\n",
              "      <td>0</td>\n",
              "      <td>1</td>\n",
              "      <td>0</td>\n",
              "      <td>2583</td>\n",
              "      <td>2358.0</td>\n",
              "      <td>120.000000</td>\n",
              "      <td>360.0</td>\n",
              "      <td>1.0</td>\n",
              "      <td>Urban</td>\n",
              "      <td>1</td>\n",
              "    </tr>\n",
              "    <tr>\n",
              "      <th>4</th>\n",
              "      <td>LP001008</td>\n",
              "      <td>Male</td>\n",
              "      <td>0</td>\n",
              "      <td>0</td>\n",
              "      <td>0</td>\n",
              "      <td>0</td>\n",
              "      <td>6000</td>\n",
              "      <td>0.0</td>\n",
              "      <td>141.000000</td>\n",
              "      <td>360.0</td>\n",
              "      <td>1.0</td>\n",
              "      <td>Urban</td>\n",
              "      <td>1</td>\n",
              "    </tr>\n",
              "  </tbody>\n",
              "</table>\n",
              "</div>"
            ],
            "text/plain": [
              "    Loan_ID Gender  Married  Dependents  Education  Self_Employed  \\\n",
              "0  LP001002   Male        0           0          0              0   \n",
              "1  LP001003   Male        1           1          0              0   \n",
              "2  LP001005   Male        1           0          0              1   \n",
              "3  LP001006   Male        1           0          1              0   \n",
              "4  LP001008   Male        0           0          0              0   \n",
              "\n",
              "   ApplicantIncome  CoapplicantIncome  LoanAmount  Loan_Amount_Term  \\\n",
              "0             5849                0.0  146.412162             360.0   \n",
              "1             4583             1508.0  128.000000             360.0   \n",
              "2             3000                0.0   66.000000             360.0   \n",
              "3             2583             2358.0  120.000000             360.0   \n",
              "4             6000                0.0  141.000000             360.0   \n",
              "\n",
              "   Credit_History Property_Area  Loan_Status  \n",
              "0             1.0         Urban            1  \n",
              "1             1.0         Rural            0  \n",
              "2             1.0         Urban            1  \n",
              "3             1.0         Urban            1  \n",
              "4             1.0         Urban            1  "
            ]
          },
          "execution_count": 50,
          "metadata": {},
          "output_type": "execute_result"
        }
      ],
      "source": [
        "from sklearn.preprocessing import LabelEncoder\n",
        "\n",
        "def encode_features(df):\n",
        "    features = ['Married', 'Education', 'Self_Employed','Loan_Status']\n",
        "    le = LabelEncoder()\n",
        "    for feature in features:\n",
        "        le.fit(df[feature])\n",
        "        df[feature] = le.transform(df[feature])\n",
        "    \n",
        "    return df\n",
        "\n",
        "loan = encode_features(loan)\n",
        "\n",
        "loan.head()"
      ]
    },
    {
      "cell_type": "markdown",
      "id": "0MJYWkv-C_xw",
      "metadata": {
        "id": "0MJYWkv-C_xw"
      },
      "source": [
        "**c)** 머신러닝 알고리즘에 불필요한 열을 제거해주세요. (*힌트 : 1개의 열만 제거하면 됩니다.*  ) **(3점)**"
      ]
    },
    {
      "cell_type": "code",
      "execution_count": 51,
      "id": "tpi8ZOuBDBBN",
      "metadata": {
        "id": "tpi8ZOuBDBBN"
      },
      "outputs": [],
      "source": [
        "# 'Loan_ID' column 삭제\n",
        "loan.drop(columns = 'Loan_ID', axis = 1, inplace = True)"
      ]
    },
    {
      "cell_type": "markdown",
      "id": "skENNWosDCnq",
      "metadata": {
        "id": "skENNWosDCnq"
      },
      "source": [
        "**d)** 나머지 문자형 변수 ('Gender'와 'Property_Area')에 대해서는 **OneHotEncoding**을 시행하세요. **(6점)**\n",
        "\n",
        "(`OneHotEncoder` 또는 `pd.get_dummies` 모두 이용 가능)"
      ]
    },
    {
      "cell_type": "code",
      "execution_count": 52,
      "id": "SHuUdWwfDC0c",
      "metadata": {
        "id": "SHuUdWwfDC0c"
      },
      "outputs": [
        {
          "data": {
            "text/html": [
              "<div>\n",
              "<style scoped>\n",
              "    .dataframe tbody tr th:only-of-type {\n",
              "        vertical-align: middle;\n",
              "    }\n",
              "\n",
              "    .dataframe tbody tr th {\n",
              "        vertical-align: top;\n",
              "    }\n",
              "\n",
              "    .dataframe thead th {\n",
              "        text-align: right;\n",
              "    }\n",
              "</style>\n",
              "<table border=\"1\" class=\"dataframe\">\n",
              "  <thead>\n",
              "    <tr style=\"text-align: right;\">\n",
              "      <th></th>\n",
              "      <th>Married</th>\n",
              "      <th>Dependents</th>\n",
              "      <th>Education</th>\n",
              "      <th>Self_Employed</th>\n",
              "      <th>ApplicantIncome</th>\n",
              "      <th>CoapplicantIncome</th>\n",
              "      <th>LoanAmount</th>\n",
              "      <th>Loan_Amount_Term</th>\n",
              "      <th>Credit_History</th>\n",
              "      <th>Loan_Status</th>\n",
              "      <th>Gender_Female</th>\n",
              "      <th>Gender_Male</th>\n",
              "      <th>Property_Area_Rural</th>\n",
              "      <th>Property_Area_Semiurban</th>\n",
              "      <th>Property_Area_Urban</th>\n",
              "    </tr>\n",
              "  </thead>\n",
              "  <tbody>\n",
              "    <tr>\n",
              "      <th>0</th>\n",
              "      <td>0</td>\n",
              "      <td>0</td>\n",
              "      <td>0</td>\n",
              "      <td>0</td>\n",
              "      <td>5849</td>\n",
              "      <td>0.0</td>\n",
              "      <td>146.412162</td>\n",
              "      <td>360.0</td>\n",
              "      <td>1.0</td>\n",
              "      <td>1</td>\n",
              "      <td>0</td>\n",
              "      <td>1</td>\n",
              "      <td>0</td>\n",
              "      <td>0</td>\n",
              "      <td>1</td>\n",
              "    </tr>\n",
              "    <tr>\n",
              "      <th>1</th>\n",
              "      <td>1</td>\n",
              "      <td>1</td>\n",
              "      <td>0</td>\n",
              "      <td>0</td>\n",
              "      <td>4583</td>\n",
              "      <td>1508.0</td>\n",
              "      <td>128.000000</td>\n",
              "      <td>360.0</td>\n",
              "      <td>1.0</td>\n",
              "      <td>0</td>\n",
              "      <td>0</td>\n",
              "      <td>1</td>\n",
              "      <td>1</td>\n",
              "      <td>0</td>\n",
              "      <td>0</td>\n",
              "    </tr>\n",
              "    <tr>\n",
              "      <th>2</th>\n",
              "      <td>1</td>\n",
              "      <td>0</td>\n",
              "      <td>0</td>\n",
              "      <td>1</td>\n",
              "      <td>3000</td>\n",
              "      <td>0.0</td>\n",
              "      <td>66.000000</td>\n",
              "      <td>360.0</td>\n",
              "      <td>1.0</td>\n",
              "      <td>1</td>\n",
              "      <td>0</td>\n",
              "      <td>1</td>\n",
              "      <td>0</td>\n",
              "      <td>0</td>\n",
              "      <td>1</td>\n",
              "    </tr>\n",
              "    <tr>\n",
              "      <th>3</th>\n",
              "      <td>1</td>\n",
              "      <td>0</td>\n",
              "      <td>1</td>\n",
              "      <td>0</td>\n",
              "      <td>2583</td>\n",
              "      <td>2358.0</td>\n",
              "      <td>120.000000</td>\n",
              "      <td>360.0</td>\n",
              "      <td>1.0</td>\n",
              "      <td>1</td>\n",
              "      <td>0</td>\n",
              "      <td>1</td>\n",
              "      <td>0</td>\n",
              "      <td>0</td>\n",
              "      <td>1</td>\n",
              "    </tr>\n",
              "    <tr>\n",
              "      <th>4</th>\n",
              "      <td>0</td>\n",
              "      <td>0</td>\n",
              "      <td>0</td>\n",
              "      <td>0</td>\n",
              "      <td>6000</td>\n",
              "      <td>0.0</td>\n",
              "      <td>141.000000</td>\n",
              "      <td>360.0</td>\n",
              "      <td>1.0</td>\n",
              "      <td>1</td>\n",
              "      <td>0</td>\n",
              "      <td>1</td>\n",
              "      <td>0</td>\n",
              "      <td>0</td>\n",
              "      <td>1</td>\n",
              "    </tr>\n",
              "  </tbody>\n",
              "</table>\n",
              "</div>"
            ],
            "text/plain": [
              "   Married  Dependents  Education  Self_Employed  ApplicantIncome  \\\n",
              "0        0           0          0              0             5849   \n",
              "1        1           1          0              0             4583   \n",
              "2        1           0          0              1             3000   \n",
              "3        1           0          1              0             2583   \n",
              "4        0           0          0              0             6000   \n",
              "\n",
              "   CoapplicantIncome  LoanAmount  Loan_Amount_Term  Credit_History  \\\n",
              "0                0.0  146.412162             360.0             1.0   \n",
              "1             1508.0  128.000000             360.0             1.0   \n",
              "2                0.0   66.000000             360.0             1.0   \n",
              "3             2358.0  120.000000             360.0             1.0   \n",
              "4                0.0  141.000000             360.0             1.0   \n",
              "\n",
              "   Loan_Status  Gender_Female  Gender_Male  Property_Area_Rural  \\\n",
              "0            1              0            1                    0   \n",
              "1            0              0            1                    1   \n",
              "2            1              0            1                    0   \n",
              "3            1              0            1                    0   \n",
              "4            1              0            1                    0   \n",
              "\n",
              "   Property_Area_Semiurban  Property_Area_Urban  \n",
              "0                        0                    1  \n",
              "1                        0                    0  \n",
              "2                        0                    1  \n",
              "3                        0                    1  \n",
              "4                        0                    1  "
            ]
          },
          "execution_count": 52,
          "metadata": {},
          "output_type": "execute_result"
        }
      ],
      "source": [
        "loan=pd.get_dummies(loan)\n",
        "loan.head()"
      ]
    },
    {
      "cell_type": "markdown",
      "id": "oFaIjtT8DEbj",
      "metadata": {
        "id": "oFaIjtT8DEbj"
      },
      "source": [
        "**e)** 마지막으로 `.info()`를 이용하여 object type, null값 확인 등을 통해 모델링에 쓰일 수 있는 data인지 최종 검토합니다! **(1점)**"
      ]
    },
    {
      "cell_type": "code",
      "execution_count": 53,
      "id": "1XZDzUhwDEns",
      "metadata": {
        "id": "1XZDzUhwDEns"
      },
      "outputs": [
        {
          "name": "stdout",
          "output_type": "stream",
          "text": [
            "<class 'pandas.core.frame.DataFrame'>\n",
            "Int64Index: 520 entries, 0 to 613\n",
            "Data columns (total 15 columns):\n",
            " #   Column                   Non-Null Count  Dtype  \n",
            "---  ------                   --------------  -----  \n",
            " 0   Married                  520 non-null    int32  \n",
            " 1   Dependents               520 non-null    int32  \n",
            " 2   Education                520 non-null    int32  \n",
            " 3   Self_Employed            520 non-null    int32  \n",
            " 4   ApplicantIncome          520 non-null    int64  \n",
            " 5   CoapplicantIncome        520 non-null    float64\n",
            " 6   LoanAmount               520 non-null    float64\n",
            " 7   Loan_Amount_Term         520 non-null    float64\n",
            " 8   Credit_History           520 non-null    float64\n",
            " 9   Loan_Status              520 non-null    int32  \n",
            " 10  Gender_Female            520 non-null    uint8  \n",
            " 11  Gender_Male              520 non-null    uint8  \n",
            " 12  Property_Area_Rural      520 non-null    uint8  \n",
            " 13  Property_Area_Semiurban  520 non-null    uint8  \n",
            " 14  Property_Area_Urban      520 non-null    uint8  \n",
            "dtypes: float64(4), int32(5), int64(1), uint8(5)\n",
            "memory usage: 37.1 KB\n"
          ]
        }
      ],
      "source": [
        "loan.info()"
      ]
    },
    {
      "cell_type": "markdown",
      "id": "qpY0RoOODHkq",
      "metadata": {
        "id": "qpY0RoOODHkq"
      },
      "source": [
        "## 실습7"
      ]
    },
    {
      "cell_type": "markdown",
      "id": "AXG7ntqUDIvS",
      "metadata": {
        "id": "AXG7ntqUDIvS"
      },
      "source": [
        "### 7. Train Test Split (15점)"
      ]
    },
    {
      "cell_type": "markdown",
      "id": "MkQpOfxaDMZh",
      "metadata": {
        "id": "MkQpOfxaDMZh"
      },
      "source": [
        "**a)** feature 데이터를 x라는 새로운 데이터프레임으로 불러오고, 테스트용 데이터셋의 사이즈는 0.25로 설정하여 train_test_split을 실행하세요. **(10점)**"
      ]
    },
    {
      "cell_type": "code",
      "execution_count": 54,
      "id": "3wKohQkXDM1g",
      "metadata": {
        "id": "3wKohQkXDM1g"
      },
      "outputs": [],
      "source": [
        "#Spliting the dataset into features and target\n",
        "\n",
        "x = loan.drop('Loan_Status', axis=1)\n",
        "y = loan['Loan_Status']"
      ]
    },
    {
      "cell_type": "code",
      "execution_count": 55,
      "id": "VlGIUZmnDKHa",
      "metadata": {
        "id": "VlGIUZmnDKHa"
      },
      "outputs": [],
      "source": [
        "#Train & Test data split\n",
        "from sklearn.model_selection import train_test_split\n",
        "\n",
        "xtrain, xtest, ytrain, ytest = train_test_split(x, y, test_size=0.25)"
      ]
    },
    {
      "cell_type": "markdown",
      "id": "PfeqnsMrDQBO",
      "metadata": {
        "id": "PfeqnsMrDQBO"
      },
      "source": [
        "**b)** 아래 코드를 실행해주세요."
      ]
    },
    {
      "cell_type": "code",
      "execution_count": 56,
      "id": "Y0bX45-2DQP3",
      "metadata": {
        "id": "Y0bX45-2DQP3"
      },
      "outputs": [],
      "source": [
        "from sklearn.tree import DecisionTreeClassifier\n",
        "from sklearn.metrics import accuracy_score\n",
        "dt=DecisionTreeClassifier(random_state=10)"
      ]
    },
    {
      "cell_type": "markdown",
      "id": "xxBUQQN_DSt6",
      "metadata": {
        "id": "xxBUQQN_DSt6"
      },
      "source": [
        "**c)** DecisionTreeClassifier를 이용하여 학습/예측/평가를 해주세요. (`.fit()`, `.predict()`, `accuracy_score()` 이용)  **(5점)**"
      ]
    },
    {
      "cell_type": "code",
      "execution_count": 57,
      "id": "N-CiN17QDTBb",
      "metadata": {
        "id": "N-CiN17QDTBb"
      },
      "outputs": [
        {
          "name": "stdout",
          "output_type": "stream",
          "text": [
            "0.6692307692307692\n"
          ]
        }
      ],
      "source": [
        "dt.fit(xtrain, ytrain)\n",
        "dt_pred = dt.predict(xtest)\n",
        "print(accuracy_score(ytest, dt_pred))"
      ]
    },
    {
      "cell_type": "markdown",
      "id": "JD0SaU42DV1g",
      "metadata": {
        "id": "JD0SaU42DV1g"
      },
      "source": [
        "## 실습8"
      ]
    },
    {
      "cell_type": "markdown",
      "id": "ZusXf_fTDXDC",
      "metadata": {
        "id": "ZusXf_fTDXDC"
      },
      "source": [
        "### 8.1. Stratified KFold  (20점)"
      ]
    },
    {
      "cell_type": "markdown",
      "id": "On9arzZjDZyY",
      "metadata": {
        "id": "On9arzZjDZyY"
      },
      "source": [
        "**a)** 아래 코드를 실행 후 진행해주세요."
      ]
    },
    {
      "cell_type": "code",
      "execution_count": 58,
      "id": "KZLGxGHIDaFG",
      "metadata": {
        "id": "KZLGxGHIDaFG"
      },
      "outputs": [],
      "source": [
        "from sklearn.tree import DecisionTreeClassifier\n",
        "from sklearn.model_selection import KFold\n",
        "from sklearn.metrics import accuracy_score\n",
        "from sklearn.model_selection import StratifiedKFold\n",
        "dt=DecisionTreeClassifier(random_state=10)"
      ]
    },
    {
      "cell_type": "markdown",
      "id": "9QWXR9mrDcvR",
      "metadata": {
        "id": "9QWXR9mrDcvR"
      },
      "source": [
        "**b)** loan data의 index를 재정렬하고 변수 **x**에 loan의 \"Loan_Status\"열을 제외한 모든 데이터를, 변수 **y**에 loan의 \"Loan_Status\"열의 데이터를 저장한 다음 x,y의 길이를 확인해주세요.**(4점, `shape`사용)**"
      ]
    },
    {
      "cell_type": "code",
      "execution_count": 59,
      "id": "AFAGYP_FDc7S",
      "metadata": {
        "id": "AFAGYP_FDc7S"
      },
      "outputs": [
        {
          "name": "stdout",
          "output_type": "stream",
          "text": [
            "520 520\n"
          ]
        }
      ],
      "source": [
        "loan.reset_index(drop=True, inplace=True)\n",
        "x=loan.drop('Loan_Status',axis=1)\n",
        "y=loan['Loan_Status']\n",
        "\n",
        "print(x.shape[0], y.shape[0])"
      ]
    },
    {
      "cell_type": "markdown",
      "id": "lcDUStMLDeKp",
      "metadata": {
        "id": "lcDUStMLDeKp"
      },
      "source": [
        "**c)** 변수 **kfold**에 k=4인 KFold 객체를 만들어 주고 **cv_accuracy_1** 리스트에 각 반복의 정확도를 소수점 5째 자리에서 반올림 한 다음 저장한 후 평균을 출력해주세요. **(6점, `split` 이용)**"
      ]
    },
    {
      "cell_type": "code",
      "execution_count": 61,
      "id": "FS61MDDzDeWy",
      "metadata": {
        "id": "FS61MDDzDeWy"
      },
      "outputs": [
        {
          "name": "stdout",
          "output_type": "stream",
          "text": [
            "0.755775\n"
          ]
        }
      ],
      "source": [
        "kfold = KFold(n_splits=4)\n",
        "cv_accuracy_1 = []\n",
        "import numpy as np\n",
        "\n",
        "for train_index, test_index in kfold.split(x):\n",
        "    x_train, x_test = x.iloc[train_index], x.iloc[test_index]\n",
        "    y_train, y_test = y[train_index], y[test_index]\n",
        "    dt.fit(x_train, y_train)\n",
        "    pred=dt.predict(x_test)\n",
        "    accuracy=np.round(accuracy_score(y_test, pred),4)\n",
        "    cv_accuracy_1.append(accuracy)\n",
        "print(np.mean(cv_accuracy_1))"
      ]
    },
    {
      "cell_type": "markdown",
      "id": "GnALpryFDgW4",
      "metadata": {
        "id": "GnALpryFDgW4"
      },
      "source": [
        "**d)** 레이블 값의 분포도를 확인해 주세요. **(2점)**"
      ]
    },
    {
      "cell_type": "code",
      "execution_count": 62,
      "id": "SdMJtedmDgka",
      "metadata": {
        "id": "SdMJtedmDgka"
      },
      "outputs": [
        {
          "data": {
            "text/plain": [
              "1    362\n",
              "0    158\n",
              "Name: Loan_Status, dtype: int64"
            ]
          },
          "execution_count": 62,
          "metadata": {},
          "output_type": "execute_result"
        }
      ],
      "source": [
        "y.value_counts()"
      ]
    },
    {
      "cell_type": "markdown",
      "id": "IkLX1Ez-DjfR",
      "metadata": {
        "id": "IkLX1Ez-DjfR"
      },
      "source": [
        "**e)** 변수 **skf**에 k=4인 StratifedKFold 객체를 만들어 주고 **cv_accuracy_2**리스트에 각 반복의 정확도를 소수점 5째 자리에서 반올림 한 다음 저장한 후 평균을 출력해주세요. **(8점, `split` 이용)**"
      ]
    },
    {
      "cell_type": "code",
      "execution_count": 63,
      "id": "Gy2oAZYkDjt7",
      "metadata": {
        "id": "Gy2oAZYkDjt7"
      },
      "outputs": [
        {
          "name": "stdout",
          "output_type": "stream",
          "text": [
            "0.7519250000000001\n"
          ]
        }
      ],
      "source": [
        "skf = StratifiedKFold(n_splits=4)\n",
        "cv_accuracy_2 = []\n",
        "\n",
        "for train_index, test_index in skf.split(x,y):\n",
        "    label_train=y[train_index]\n",
        "    label_test=y[test_index]\n",
        "    x_train, x_test = x.iloc[train_index], x.iloc[test_index]\n",
        "    y_train, y_test = y[train_index], y[test_index]\n",
        "    dt.fit(x_train, y_train)\n",
        "    pred=dt.predict(x_test)\n",
        "    accuracy=np.round(accuracy_score(y_test, pred),4)\n",
        "    cv_accuracy_2.append(accuracy)\n",
        "print(np.mean(cv_accuracy_2))"
      ]
    },
    {
      "cell_type": "markdown",
      "id": "-T7DI0LNDlvA",
      "metadata": {
        "id": "-T7DI0LNDlvA"
      },
      "source": [
        "## 8.2. Cross val score  (10점)"
      ]
    },
    {
      "cell_type": "markdown",
      "id": "JnzttNi6DodK",
      "metadata": {
        "id": "JnzttNi6DodK"
      },
      "source": [
        "위에서 진행한 교차검증을 cross_val_score API를 이용하여 같은 결과를 내세요, 평가지표는 accuaracy를 사용하세요. **(10점)**"
      ]
    },
    {
      "cell_type": "code",
      "execution_count": 65,
      "id": "xAcqJqf8DowD",
      "metadata": {
        "id": "xAcqJqf8DowD"
      },
      "outputs": [
        {
          "name": "stdout",
          "output_type": "stream",
          "text": [
            "정확도 평균: 0.7519230769230769\n"
          ]
        }
      ],
      "source": [
        "from sklearn.model_selection import cross_val_score\n",
        "\n",
        "scores=cross_val_score(dt,x,y,scoring='accuracy',cv=4)\n",
        "\n",
        "print('정확도 평균:',np.mean(scores))"
      ]
    },
    {
      "cell_type": "markdown",
      "id": "TFCgz6vhDq1E",
      "metadata": {
        "id": "TFCgz6vhDq1E"
      },
      "source": [
        "## 실습9"
      ]
    },
    {
      "cell_type": "markdown",
      "id": "GiEb0xyoDsUM",
      "metadata": {
        "id": "GiEb0xyoDsUM"
      },
      "source": [
        "### 9. GridSearchCV  (25점)"
      ]
    },
    {
      "cell_type": "markdown",
      "id": "MulpvE8KDvjG",
      "metadata": {
        "id": "MulpvE8KDvjG"
      },
      "source": [
        "**a)** 결정트리 모델(dt)의 하이퍼 파라미터를 찾는 코드를 작성하세요.(max_depth 값 3개(값은 자유), min_samples_split 값 3개(값은 자유), cv=3, refit=True 으로 설정) **(15점)**"
      ]
    },
    {
      "cell_type": "markdown",
      "id": "I1ahzIRlDxor",
      "metadata": {
        "id": "I1ahzIRlDxor"
      },
      "source": [
        "fitting은 **6번 문제** 에서 train_test_split을 통해 만든 **train dataset**에 대하여 적용해주시면 됩니다."
      ]
    },
    {
      "cell_type": "code",
      "execution_count": 66,
      "id": "dVboyX7FDx2Q",
      "metadata": {
        "id": "dVboyX7FDx2Q"
      },
      "outputs": [
        {
          "data": {
            "text/html": [
              "<div>\n",
              "<style scoped>\n",
              "    .dataframe tbody tr th:only-of-type {\n",
              "        vertical-align: middle;\n",
              "    }\n",
              "\n",
              "    .dataframe tbody tr th {\n",
              "        vertical-align: top;\n",
              "    }\n",
              "\n",
              "    .dataframe thead th {\n",
              "        text-align: right;\n",
              "    }\n",
              "</style>\n",
              "<table border=\"1\" class=\"dataframe\">\n",
              "  <thead>\n",
              "    <tr style=\"text-align: right;\">\n",
              "      <th></th>\n",
              "      <th>mean_fit_time</th>\n",
              "      <th>std_fit_time</th>\n",
              "      <th>mean_score_time</th>\n",
              "      <th>std_score_time</th>\n",
              "      <th>param_max_depth</th>\n",
              "      <th>param_min_samples_split</th>\n",
              "      <th>params</th>\n",
              "      <th>split0_test_score</th>\n",
              "      <th>split1_test_score</th>\n",
              "      <th>split2_test_score</th>\n",
              "      <th>mean_test_score</th>\n",
              "      <th>std_test_score</th>\n",
              "      <th>rank_test_score</th>\n",
              "    </tr>\n",
              "  </thead>\n",
              "  <tbody>\n",
              "    <tr>\n",
              "      <th>0</th>\n",
              "      <td>0.005318</td>\n",
              "      <td>0.001244</td>\n",
              "      <td>0.002661</td>\n",
              "      <td>4.714310e-04</td>\n",
              "      <td>2</td>\n",
              "      <td>4</td>\n",
              "      <td>{'max_depth': 2, 'min_samples_split': 4}</td>\n",
              "      <td>0.830769</td>\n",
              "      <td>0.853846</td>\n",
              "      <td>0.815385</td>\n",
              "      <td>0.833333</td>\n",
              "      <td>0.015806</td>\n",
              "      <td>1</td>\n",
              "    </tr>\n",
              "    <tr>\n",
              "      <th>1</th>\n",
              "      <td>0.003657</td>\n",
              "      <td>0.000471</td>\n",
              "      <td>0.002660</td>\n",
              "      <td>4.710448e-04</td>\n",
              "      <td>2</td>\n",
              "      <td>5</td>\n",
              "      <td>{'max_depth': 2, 'min_samples_split': 5}</td>\n",
              "      <td>0.830769</td>\n",
              "      <td>0.853846</td>\n",
              "      <td>0.815385</td>\n",
              "      <td>0.833333</td>\n",
              "      <td>0.015806</td>\n",
              "      <td>1</td>\n",
              "    </tr>\n",
              "    <tr>\n",
              "      <th>2</th>\n",
              "      <td>0.004267</td>\n",
              "      <td>0.001094</td>\n",
              "      <td>0.002182</td>\n",
              "      <td>2.664251e-04</td>\n",
              "      <td>2</td>\n",
              "      <td>6</td>\n",
              "      <td>{'max_depth': 2, 'min_samples_split': 6}</td>\n",
              "      <td>0.830769</td>\n",
              "      <td>0.853846</td>\n",
              "      <td>0.815385</td>\n",
              "      <td>0.833333</td>\n",
              "      <td>0.015806</td>\n",
              "      <td>1</td>\n",
              "    </tr>\n",
              "    <tr>\n",
              "      <th>3</th>\n",
              "      <td>0.003743</td>\n",
              "      <td>0.000562</td>\n",
              "      <td>0.002249</td>\n",
              "      <td>5.594312e-04</td>\n",
              "      <td>3</td>\n",
              "      <td>4</td>\n",
              "      <td>{'max_depth': 3, 'min_samples_split': 4}</td>\n",
              "      <td>0.792308</td>\n",
              "      <td>0.846154</td>\n",
              "      <td>0.769231</td>\n",
              "      <td>0.802564</td>\n",
              "      <td>0.032230</td>\n",
              "      <td>5</td>\n",
              "    </tr>\n",
              "    <tr>\n",
              "      <th>4</th>\n",
              "      <td>0.004170</td>\n",
              "      <td>0.000607</td>\n",
              "      <td>0.001983</td>\n",
              "      <td>1.573603e-05</td>\n",
              "      <td>3</td>\n",
              "      <td>5</td>\n",
              "      <td>{'max_depth': 3, 'min_samples_split': 5}</td>\n",
              "      <td>0.792308</td>\n",
              "      <td>0.846154</td>\n",
              "      <td>0.769231</td>\n",
              "      <td>0.802564</td>\n",
              "      <td>0.032230</td>\n",
              "      <td>5</td>\n",
              "    </tr>\n",
              "    <tr>\n",
              "      <th>5</th>\n",
              "      <td>0.004163</td>\n",
              "      <td>0.000245</td>\n",
              "      <td>0.002993</td>\n",
              "      <td>8.991328e-07</td>\n",
              "      <td>3</td>\n",
              "      <td>6</td>\n",
              "      <td>{'max_depth': 3, 'min_samples_split': 6}</td>\n",
              "      <td>0.792308</td>\n",
              "      <td>0.838462</td>\n",
              "      <td>0.769231</td>\n",
              "      <td>0.800000</td>\n",
              "      <td>0.028782</td>\n",
              "      <td>7</td>\n",
              "    </tr>\n",
              "    <tr>\n",
              "      <th>6</th>\n",
              "      <td>0.003657</td>\n",
              "      <td>0.000940</td>\n",
              "      <td>0.001995</td>\n",
              "      <td>3.893359e-07</td>\n",
              "      <td>4</td>\n",
              "      <td>4</td>\n",
              "      <td>{'max_depth': 4, 'min_samples_split': 4}</td>\n",
              "      <td>0.800000</td>\n",
              "      <td>0.823077</td>\n",
              "      <td>0.800000</td>\n",
              "      <td>0.807692</td>\n",
              "      <td>0.010879</td>\n",
              "      <td>4</td>\n",
              "    </tr>\n",
              "    <tr>\n",
              "      <th>7</th>\n",
              "      <td>0.003656</td>\n",
              "      <td>0.000470</td>\n",
              "      <td>0.001994</td>\n",
              "      <td>1.296163e-06</td>\n",
              "      <td>4</td>\n",
              "      <td>5</td>\n",
              "      <td>{'max_depth': 4, 'min_samples_split': 5}</td>\n",
              "      <td>0.800000</td>\n",
              "      <td>0.823077</td>\n",
              "      <td>0.769231</td>\n",
              "      <td>0.797436</td>\n",
              "      <td>0.022057</td>\n",
              "      <td>8</td>\n",
              "    </tr>\n",
              "    <tr>\n",
              "      <th>8</th>\n",
              "      <td>0.004225</td>\n",
              "      <td>0.000590</td>\n",
              "      <td>0.002409</td>\n",
              "      <td>4.807422e-04</td>\n",
              "      <td>4</td>\n",
              "      <td>6</td>\n",
              "      <td>{'max_depth': 4, 'min_samples_split': 6}</td>\n",
              "      <td>0.800000</td>\n",
              "      <td>0.807692</td>\n",
              "      <td>0.769231</td>\n",
              "      <td>0.792308</td>\n",
              "      <td>0.016617</td>\n",
              "      <td>9</td>\n",
              "    </tr>\n",
              "  </tbody>\n",
              "</table>\n",
              "</div>"
            ],
            "text/plain": [
              "   mean_fit_time  std_fit_time  mean_score_time  std_score_time  \\\n",
              "0       0.005318      0.001244         0.002661    4.714310e-04   \n",
              "1       0.003657      0.000471         0.002660    4.710448e-04   \n",
              "2       0.004267      0.001094         0.002182    2.664251e-04   \n",
              "3       0.003743      0.000562         0.002249    5.594312e-04   \n",
              "4       0.004170      0.000607         0.001983    1.573603e-05   \n",
              "5       0.004163      0.000245         0.002993    8.991328e-07   \n",
              "6       0.003657      0.000940         0.001995    3.893359e-07   \n",
              "7       0.003656      0.000470         0.001994    1.296163e-06   \n",
              "8       0.004225      0.000590         0.002409    4.807422e-04   \n",
              "\n",
              "  param_max_depth param_min_samples_split  \\\n",
              "0               2                       4   \n",
              "1               2                       5   \n",
              "2               2                       6   \n",
              "3               3                       4   \n",
              "4               3                       5   \n",
              "5               3                       6   \n",
              "6               4                       4   \n",
              "7               4                       5   \n",
              "8               4                       6   \n",
              "\n",
              "                                     params  split0_test_score  \\\n",
              "0  {'max_depth': 2, 'min_samples_split': 4}           0.830769   \n",
              "1  {'max_depth': 2, 'min_samples_split': 5}           0.830769   \n",
              "2  {'max_depth': 2, 'min_samples_split': 6}           0.830769   \n",
              "3  {'max_depth': 3, 'min_samples_split': 4}           0.792308   \n",
              "4  {'max_depth': 3, 'min_samples_split': 5}           0.792308   \n",
              "5  {'max_depth': 3, 'min_samples_split': 6}           0.792308   \n",
              "6  {'max_depth': 4, 'min_samples_split': 4}           0.800000   \n",
              "7  {'max_depth': 4, 'min_samples_split': 5}           0.800000   \n",
              "8  {'max_depth': 4, 'min_samples_split': 6}           0.800000   \n",
              "\n",
              "   split1_test_score  split2_test_score  mean_test_score  std_test_score  \\\n",
              "0           0.853846           0.815385         0.833333        0.015806   \n",
              "1           0.853846           0.815385         0.833333        0.015806   \n",
              "2           0.853846           0.815385         0.833333        0.015806   \n",
              "3           0.846154           0.769231         0.802564        0.032230   \n",
              "4           0.846154           0.769231         0.802564        0.032230   \n",
              "5           0.838462           0.769231         0.800000        0.028782   \n",
              "6           0.823077           0.800000         0.807692        0.010879   \n",
              "7           0.823077           0.769231         0.797436        0.022057   \n",
              "8           0.807692           0.769231         0.792308        0.016617   \n",
              "\n",
              "   rank_test_score  \n",
              "0                1  \n",
              "1                1  \n",
              "2                1  \n",
              "3                5  \n",
              "4                5  \n",
              "5                7  \n",
              "6                4  \n",
              "7                8  \n",
              "8                9  "
            ]
          },
          "execution_count": 66,
          "metadata": {},
          "output_type": "execute_result"
        }
      ],
      "source": [
        "from sklearn.model_selection import GridSearchCV\n",
        "\n",
        "parameters={'max_depth':[2,3,4],'min_samples_split':[4,5,6]}    #숫자는 자유\n",
        "grid=GridSearchCV(dt,param_grid=parameters,cv=3,refit=True)\n",
        "grid.fit(xtrain,ytrain)\n",
        "pd.DataFrame(grid.cv_results_)"
      ]
    },
    {
      "cell_type": "markdown",
      "id": "XIDaG7YTDz4h",
      "metadata": {
        "id": "XIDaG7YTDz4h"
      },
      "source": [
        "**b)** 위에서 진행한 GridSearchCV의 결과를 출력하고 그를 해석하세요.\n",
        "\n",
        "(최적의 하이퍼파라미터가 무엇인지, 출력되는 정확도의 개수 및 어떻게 그 개수가 나오는지 등..) **(10점)**"
      ]
    },
    {
      "cell_type": "markdown",
      "id": "P242P82TD0eT",
      "metadata": {
        "id": "P242P82TD0eT"
      },
      "source": [
        "답: 최적의 하이퍼파라미터는 max_depth=3인 경우,\n",
        "정확도의 개수는 각각 파라미터 3개씩, fold수 3개로 3x3x3=27개가 출력됨"
      ]
    }
  ],
  "metadata": {
    "colab": {
      "provenance": []
    },
    "kernelspec": {
      "display_name": "Python 3 (ipykernel)",
      "language": "python",
      "name": "python3"
    },
    "language_info": {
      "codemirror_mode": {
        "name": "ipython",
        "version": 3
      },
      "file_extension": ".py",
      "mimetype": "text/x-python",
      "name": "python",
      "nbconvert_exporter": "python",
      "pygments_lexer": "ipython3",
      "version": "3.9.13"
    }
  },
  "nbformat": 4,
  "nbformat_minor": 5
}
