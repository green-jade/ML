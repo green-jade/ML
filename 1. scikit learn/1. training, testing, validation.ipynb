{
 "cells": [
  {
   "cell_type": "markdown",
   "id": "96551398",
   "metadata": {},
   "source": [
    "### 학습/테스트 데이터 셋 분리 : train_test_split()"
   ]
  },
  {
   "cell_type": "code",
   "execution_count": 1,
   "id": "b4ab4b15",
   "metadata": {},
   "outputs": [],
   "source": [
    "from sklearn.datasets import load_iris\n",
    "from sklearn.tree import DecisionTreeClassifier\n",
    "from sklearn.metrics import accuracy_score"
   ]
  },
  {
   "cell_type": "code",
   "execution_count": 2,
   "id": "47e6083d",
   "metadata": {},
   "outputs": [
    {
     "data": {
      "text/html": [
       "<style>#sk-container-id-1 {color: black;background-color: white;}#sk-container-id-1 pre{padding: 0;}#sk-container-id-1 div.sk-toggleable {background-color: white;}#sk-container-id-1 label.sk-toggleable__label {cursor: pointer;display: block;width: 100%;margin-bottom: 0;padding: 0.3em;box-sizing: border-box;text-align: center;}#sk-container-id-1 label.sk-toggleable__label-arrow:before {content: \"▸\";float: left;margin-right: 0.25em;color: #696969;}#sk-container-id-1 label.sk-toggleable__label-arrow:hover:before {color: black;}#sk-container-id-1 div.sk-estimator:hover label.sk-toggleable__label-arrow:before {color: black;}#sk-container-id-1 div.sk-toggleable__content {max-height: 0;max-width: 0;overflow: hidden;text-align: left;background-color: #f0f8ff;}#sk-container-id-1 div.sk-toggleable__content pre {margin: 0.2em;color: black;border-radius: 0.25em;background-color: #f0f8ff;}#sk-container-id-1 input.sk-toggleable__control:checked~div.sk-toggleable__content {max-height: 200px;max-width: 100%;overflow: auto;}#sk-container-id-1 input.sk-toggleable__control:checked~label.sk-toggleable__label-arrow:before {content: \"▾\";}#sk-container-id-1 div.sk-estimator input.sk-toggleable__control:checked~label.sk-toggleable__label {background-color: #d4ebff;}#sk-container-id-1 div.sk-label input.sk-toggleable__control:checked~label.sk-toggleable__label {background-color: #d4ebff;}#sk-container-id-1 input.sk-hidden--visually {border: 0;clip: rect(1px 1px 1px 1px);clip: rect(1px, 1px, 1px, 1px);height: 1px;margin: -1px;overflow: hidden;padding: 0;position: absolute;width: 1px;}#sk-container-id-1 div.sk-estimator {font-family: monospace;background-color: #f0f8ff;border: 1px dotted black;border-radius: 0.25em;box-sizing: border-box;margin-bottom: 0.5em;}#sk-container-id-1 div.sk-estimator:hover {background-color: #d4ebff;}#sk-container-id-1 div.sk-parallel-item::after {content: \"\";width: 100%;border-bottom: 1px solid gray;flex-grow: 1;}#sk-container-id-1 div.sk-label:hover label.sk-toggleable__label {background-color: #d4ebff;}#sk-container-id-1 div.sk-serial::before {content: \"\";position: absolute;border-left: 1px solid gray;box-sizing: border-box;top: 0;bottom: 0;left: 50%;z-index: 0;}#sk-container-id-1 div.sk-serial {display: flex;flex-direction: column;align-items: center;background-color: white;padding-right: 0.2em;padding-left: 0.2em;position: relative;}#sk-container-id-1 div.sk-item {position: relative;z-index: 1;}#sk-container-id-1 div.sk-parallel {display: flex;align-items: stretch;justify-content: center;background-color: white;position: relative;}#sk-container-id-1 div.sk-item::before, #sk-container-id-1 div.sk-parallel-item::before {content: \"\";position: absolute;border-left: 1px solid gray;box-sizing: border-box;top: 0;bottom: 0;left: 50%;z-index: -1;}#sk-container-id-1 div.sk-parallel-item {display: flex;flex-direction: column;z-index: 1;position: relative;background-color: white;}#sk-container-id-1 div.sk-parallel-item:first-child::after {align-self: flex-end;width: 50%;}#sk-container-id-1 div.sk-parallel-item:last-child::after {align-self: flex-start;width: 50%;}#sk-container-id-1 div.sk-parallel-item:only-child::after {width: 0;}#sk-container-id-1 div.sk-dashed-wrapped {border: 1px dashed gray;margin: 0 0.4em 0.5em 0.4em;box-sizing: border-box;padding-bottom: 0.4em;background-color: white;}#sk-container-id-1 div.sk-label label {font-family: monospace;font-weight: bold;display: inline-block;line-height: 1.2em;}#sk-container-id-1 div.sk-label-container {text-align: center;}#sk-container-id-1 div.sk-container {/* jupyter's `normalize.less` sets `[hidden] { display: none; }` but bootstrap.min.css set `[hidden] { display: none !important; }` so we also need the `!important` here to be able to override the default hidden behavior on the sphinx rendered scikit-learn.org. See: https://github.com/scikit-learn/scikit-learn/issues/21755 */display: inline-block !important;position: relative;}#sk-container-id-1 div.sk-text-repr-fallback {display: none;}</style><div id=\"sk-container-id-1\" class=\"sk-top-container\"><div class=\"sk-text-repr-fallback\"><pre>DecisionTreeClassifier()</pre><b>In a Jupyter environment, please rerun this cell to show the HTML representation or trust the notebook. <br />On GitHub, the HTML representation is unable to render, please try loading this page with nbviewer.org.</b></div><div class=\"sk-container\" hidden><div class=\"sk-item\"><div class=\"sk-estimator sk-toggleable\"><input class=\"sk-toggleable__control sk-hidden--visually\" id=\"sk-estimator-id-1\" type=\"checkbox\" checked><label for=\"sk-estimator-id-1\" class=\"sk-toggleable__label sk-toggleable__label-arrow\">DecisionTreeClassifier</label><div class=\"sk-toggleable__content\"><pre>DecisionTreeClassifier()</pre></div></div></div></div></div>"
      ],
      "text/plain": [
       "DecisionTreeClassifier()"
      ]
     },
     "execution_count": 2,
     "metadata": {},
     "output_type": "execute_result"
    }
   ],
   "source": [
    "iris = load_iris()\n",
    "dt = DecisionTreeClassifier()\n",
    "train_data = iris.data\n",
    "train_label = iris.target\n",
    "dt.fit(train_data, train_label)"
   ]
  },
  {
   "cell_type": "markdown",
   "id": "bcc83be4",
   "metadata": {},
   "source": [
    "**학습 데이터 셋으로 예측을 수행한다면?**"
   ]
  },
  {
   "cell_type": "code",
   "execution_count": 3,
   "id": "d698d57e",
   "metadata": {},
   "outputs": [
    {
     "name": "stdout",
     "output_type": "stream",
     "text": [
      "예측 정확도: 1.0\n"
     ]
    }
   ],
   "source": [
    "# 학습 데이터 셋으로 예측을 수행한다면?\n",
    "pred = dt.predict(train_data)\n",
    "print('예측 정확도:', accuracy_score(train_label, pred))  #당연히 예측 정확도는 1.0"
   ]
  },
  {
   "cell_type": "markdown",
   "id": "35f36d71",
   "metadata": {},
   "source": [
    "**따라서 train/test data set을 분리한다**"
   ]
  },
  {
   "cell_type": "code",
   "execution_count": 4,
   "id": "46e6cc5e",
   "metadata": {},
   "outputs": [],
   "source": [
    "from sklearn.model_selection import train_test_split\n",
    "\n",
    "dt = DecisionTreeClassifier()\n",
    "iris_data = load_iris()\n",
    "\n",
    "# 학습 데이터 세트를 70%, 테스트 데이터 세트를 30%로 분리 \n",
    "X_train, X_test, y_train, y_test = train_test_split(iris_data.data, iris_data.target,\n",
    "                                                   test_size = 0.3, random_state = 10)\n",
    "\n",
    "# cf. shuffle 인자: default는 shuffle=True / 데이터를 한 번 섞어줄 지 정하는 인자"
   ]
  },
  {
   "cell_type": "code",
   "execution_count": 5,
   "id": "227aae6e",
   "metadata": {},
   "outputs": [
    {
     "data": {
      "text/plain": [
       "0.9777777777777777"
      ]
     },
     "execution_count": 5,
     "metadata": {},
     "output_type": "execute_result"
    }
   ],
   "source": [
    "dt.fit(X_train, y_train)\n",
    "pred = dt.predict(X_test)\n",
    "accuracy_score(y_test, pred)"
   ]
  },
  {
   "cell_type": "markdown",
   "id": "fa49e5b8",
   "metadata": {},
   "source": [
    "**넘파이 ndarray 뿐만 아니라 판다스 DataFrame/series도 train_test_split() 가능**"
   ]
  },
  {
   "cell_type": "code",
   "execution_count": 6,
   "id": "9317bd01",
   "metadata": {},
   "outputs": [
    {
     "data": {
      "text/html": [
       "<div>\n",
       "<style scoped>\n",
       "    .dataframe tbody tr th:only-of-type {\n",
       "        vertical-align: middle;\n",
       "    }\n",
       "\n",
       "    .dataframe tbody tr th {\n",
       "        vertical-align: top;\n",
       "    }\n",
       "\n",
       "    .dataframe thead th {\n",
       "        text-align: right;\n",
       "    }\n",
       "</style>\n",
       "<table border=\"1\" class=\"dataframe\">\n",
       "  <thead>\n",
       "    <tr style=\"text-align: right;\">\n",
       "      <th></th>\n",
       "      <th>sepal length (cm)</th>\n",
       "      <th>sepal width (cm)</th>\n",
       "      <th>petal length (cm)</th>\n",
       "      <th>petal width (cm)</th>\n",
       "      <th>target</th>\n",
       "    </tr>\n",
       "  </thead>\n",
       "  <tbody>\n",
       "    <tr>\n",
       "      <th>0</th>\n",
       "      <td>5.1</td>\n",
       "      <td>3.5</td>\n",
       "      <td>1.4</td>\n",
       "      <td>0.2</td>\n",
       "      <td>0</td>\n",
       "    </tr>\n",
       "    <tr>\n",
       "      <th>1</th>\n",
       "      <td>4.9</td>\n",
       "      <td>3.0</td>\n",
       "      <td>1.4</td>\n",
       "      <td>0.2</td>\n",
       "      <td>0</td>\n",
       "    </tr>\n",
       "    <tr>\n",
       "      <th>2</th>\n",
       "      <td>4.7</td>\n",
       "      <td>3.2</td>\n",
       "      <td>1.3</td>\n",
       "      <td>0.2</td>\n",
       "      <td>0</td>\n",
       "    </tr>\n",
       "  </tbody>\n",
       "</table>\n",
       "</div>"
      ],
      "text/plain": [
       "   sepal length (cm)  sepal width (cm)  petal length (cm)  petal width (cm)  \\\n",
       "0                5.1               3.5                1.4               0.2   \n",
       "1                4.9               3.0                1.4               0.2   \n",
       "2                4.7               3.2                1.3               0.2   \n",
       "\n",
       "   target  \n",
       "0       0  \n",
       "1       0  \n",
       "2       0  "
      ]
     },
     "execution_count": 6,
     "metadata": {},
     "output_type": "execute_result"
    }
   ],
   "source": [
    "import pandas as pd\n",
    "\n",
    "iris_df = pd.DataFrame(data = iris_data.data, columns=iris_data.feature_names)\n",
    "iris_df['target'] = iris_data.target\n",
    "iris_df.head(3)"
   ]
  },
  {
   "cell_type": "code",
   "execution_count": 7,
   "id": "c736d8e6",
   "metadata": {},
   "outputs": [],
   "source": [
    "iris_df_x = iris_df.iloc[:, :-1]\n",
    "iris_df_y = iris_df.iloc[:, -1]\n",
    "\n",
    "X_train, X_test, Y_train, Y_test = train_test_split(iris_df_x, iris_df_y, test_size = 0.3)"
   ]
  },
  {
   "cell_type": "code",
   "execution_count": 8,
   "id": "48ecce43",
   "metadata": {},
   "outputs": [
    {
     "name": "stdout",
     "output_type": "stream",
     "text": [
      "1.0\n"
     ]
    }
   ],
   "source": [
    "dt = DecisionTreeClassifier()\n",
    "dt.fit(X_train, Y_train)\n",
    "pred = dt.predict(X_test)\n",
    "print(accuracy_score(Y_test, pred))"
   ]
  },
  {
   "cell_type": "markdown",
   "id": "e108fdd0",
   "metadata": {},
   "source": [
    "하지만 붓꽃 데이터의 양 (150개)이 크지 않아 예측 성능을 판단하기에는 적절하지 않다. \n",
    "\n",
    "**충분한 학습 데이터 양 보장**과 **다양한 데이터를 활용한 예측 성능 확인**이 중요함!"
   ]
  },
  {
   "cell_type": "markdown",
   "id": "d9a983d8",
   "metadata": {},
   "source": [
    "### Cross Validation"
   ]
  },
  {
   "cell_type": "markdown",
   "id": "9818745b",
   "metadata": {},
   "source": [
    "이미 데이터가 적다면...? kfold를 통해 교차 검증을 해보자. "
   ]
  },
  {
   "cell_type": "markdown",
   "id": "3100046d",
   "metadata": {},
   "source": [
    "#### K fold"
   ]
  },
  {
   "cell_type": "code",
   "execution_count": 7,
   "id": "a60b3bb3",
   "metadata": {},
   "outputs": [],
   "source": [
    "from sklearn.model_selection import KFold # K-Fold 교차 검증을 위한 라이브러리\n",
    "import numpy as np"
   ]
  },
  {
   "cell_type": "code",
   "execution_count": 8,
   "id": "9b06076c",
   "metadata": {},
   "outputs": [],
   "source": [
    "iris = load_iris()\n",
    "features = iris.data\n",
    "label = iris.target\n",
    "classifier = DecisionTreeClassifier(random_state = 10)"
   ]
  },
  {
   "cell_type": "code",
   "execution_count": 10,
   "id": "574e51ed",
   "metadata": {},
   "outputs": [
    {
     "data": {
      "text/plain": [
       "(150, 4)"
      ]
     },
     "execution_count": 10,
     "metadata": {},
     "output_type": "execute_result"
    }
   ],
   "source": [
    "# n = 5\n",
    "# 5개의 폴드 세트로 분리하는 kfold와 폴드 세트별 정확도를 담을 리스트 객체 생성\n",
    "\n",
    "kfold = KFold(n_splits = 5)\n",
    "cv_accuracy = []\n",
    "features.shape   # 150 rows, 4 columns"
   ]
  },
  {
   "cell_type": "code",
   "execution_count": 17,
   "id": "ce898c99",
   "metadata": {},
   "outputs": [
    {
     "data": {
      "text/plain": [
       "<generator object _BaseKFold.split at 0x000001C2A59D59E0>"
      ]
     },
     "execution_count": 17,
     "metadata": {},
     "output_type": "execute_result"
    }
   ],
   "source": [
    "kfold.split(features)"
   ]
  },
  {
   "cell_type": "code",
   "execution_count": 12,
   "id": "41369bd2",
   "metadata": {},
   "outputs": [
    {
     "name": "stdout",
     "output_type": "stream",
     "text": [
      "\n",
      "#1 교차 검증 정확도 :1.0, 학습 데이터 크기: 120, 검증 데이터 크기: 30\n",
      "#1 검증 세트 인덱스:[ 0  1  2  3  4  5  6  7  8  9 10 11 12 13 14 15 16 17 18 19 20 21 22 23\n",
      " 24 25 26 27 28 29]\n",
      "\n",
      "#2 교차 검증 정확도 :0.9667, 학습 데이터 크기: 120, 검증 데이터 크기: 30\n",
      "#2 검증 세트 인덱스:[30 31 32 33 34 35 36 37 38 39 40 41 42 43 44 45 46 47 48 49 50 51 52 53\n",
      " 54 55 56 57 58 59]\n",
      "\n",
      "#3 교차 검증 정확도 :0.9, 학습 데이터 크기: 120, 검증 데이터 크기: 30\n",
      "#3 검증 세트 인덱스:[60 61 62 63 64 65 66 67 68 69 70 71 72 73 74 75 76 77 78 79 80 81 82 83\n",
      " 84 85 86 87 88 89]\n",
      "\n",
      "#4 교차 검증 정확도 :0.9333, 학습 데이터 크기: 120, 검증 데이터 크기: 30\n",
      "#4 검증 세트 인덱스:[ 90  91  92  93  94  95  96  97  98  99 100 101 102 103 104 105 106 107\n",
      " 108 109 110 111 112 113 114 115 116 117 118 119]\n",
      "\n",
      "#5 교차 검증 정확도 :0.7333, 학습 데이터 크기: 120, 검증 데이터 크기: 30\n",
      "#5 검증 세트 인덱스:[120 121 122 123 124 125 126 127 128 129 130 131 132 133 134 135 136 137\n",
      " 138 139 140 141 142 143 144 145 146 147 148 149]\n"
     ]
    }
   ],
   "source": [
    "# KFold 객체의 split( ) 호출 : fold별 train, test data의 row index를 array로 반환\n",
    "n = 0\n",
    "for train_index, test_index in kfold.split(features):\n",
    "      \n",
    "    # kfold.split( )으로 반환된 인덱스로 train/test data 추출\n",
    "    X_train, X_test = features[train_index], features[test_index]\n",
    "    y_train, y_test = label[train_index], label[test_index]\n",
    "    \n",
    "    # training and prediction\n",
    "    classifier.fit(X_train, y_train)\n",
    "    pred = classifier.predict(X_test)\n",
    "    n += 1\n",
    "    \n",
    "    # print accuracy per every iteration\n",
    "    accuracy = np.round(accuracy_score(y_test, pred), 4)\n",
    "    train_size = X_train.shape[0]\n",
    "    test_size = X_test.shape[0]\n",
    "    print('\\n#{0} 교차 검증 정확도 :{1}, 학습 데이터 크기: {2}, 검증 데이터 크기: {3}'\n",
    "          .format(n, accuracy, train_size, test_size))\n",
    "    print('#{0} 검증 세트 인덱스:{1}'.format(n,test_index))\n",
    "    \n",
    "    cv_accuracy.append(accuracy)"
   ]
  },
  {
   "cell_type": "code",
   "execution_count": 13,
   "id": "5a5d78c5",
   "metadata": {},
   "outputs": [
    {
     "data": {
      "text/plain": [
       "0.9066599999999999"
      ]
     },
     "execution_count": 13,
     "metadata": {},
     "output_type": "execute_result"
    }
   ],
   "source": [
    "np.mean(cv_accuracy)"
   ]
  },
  {
   "cell_type": "markdown",
   "id": "eb480ba4",
   "metadata": {},
   "source": [
    "#### Stratified Kfold"
   ]
  },
  {
   "cell_type": "code",
   "execution_count": 19,
   "id": "4279fda8",
   "metadata": {},
   "outputs": [
    {
     "data": {
      "text/plain": [
       "0    50\n",
       "1    50\n",
       "2    50\n",
       "Name: label, dtype: int64"
      ]
     },
     "execution_count": 19,
     "metadata": {},
     "output_type": "execute_result"
    }
   ],
   "source": [
    "iris_df = pd.DataFrame(data=iris.data, columns=iris.feature_names)\n",
    "iris_df['label'] = iris.target\n",
    "iris_df['label'].value_counts()"
   ]
  },
  {
   "cell_type": "markdown",
   "id": "c16ce21e",
   "metadata": {},
   "source": [
    "위와 같이 label의 분포가 0,1,2 50개씩 있을 때 (심지어 순서대로) k=3인 kfold를 하면?"
   ]
  },
  {
   "cell_type": "code",
   "execution_count": 20,
   "id": "89443f2c",
   "metadata": {},
   "outputs": [
    {
     "name": "stdout",
     "output_type": "stream",
     "text": [
      "교차검증: 1\n",
      "train data label:\n",
      " 1    50\n",
      "2    50\n",
      "Name: label, dtype: int64\n",
      "test data label:\n",
      " 0    50\n",
      "Name: label, dtype: int64\n",
      "교차검증: 2\n",
      "train data label:\n",
      " 0    50\n",
      "2    50\n",
      "Name: label, dtype: int64\n",
      "test data label:\n",
      " 1    50\n",
      "Name: label, dtype: int64\n",
      "교차검증: 3\n",
      "train data label:\n",
      " 0    50\n",
      "1    50\n",
      "Name: label, dtype: int64\n",
      "test data label:\n",
      " 2    50\n",
      "Name: label, dtype: int64\n"
     ]
    }
   ],
   "source": [
    "kfold = KFold(n_splits = 3)\n",
    "n = 0\n",
    "for train_idx, test_idx in kfold.split(iris_df):\n",
    "    label_train = iris_df['label'].iloc[train_idx]\n",
    "    label_test = iris_df['label'].iloc[test_idx]\n",
    "    n += 1\n",
    "    print('교차검증: {0}'.format(n))\n",
    "    print('train data label:\\n', label_train.value_counts())\n",
    "    print('test data label:\\n', label_test.value_counts())"
   ]
  },
  {
   "cell_type": "markdown",
   "id": "692ae090",
   "metadata": {},
   "source": [
    "학습 레이블에는 1,2만 또는 0,2만 또는 0,1만 포함되어 나머지 레이블은 전혀 학습의 기회가 없다 -> 해당 레이블에 대한 예측력 : 0\n",
    "\n",
    "실제 일반화 능력을 정확하게 평가하기 어렵고, 이로 인해 모델의 예측 성능의 신뢰도가 감소할 수 있다. "
   ]
  },
  {
   "cell_type": "markdown",
   "id": "6cbf433e",
   "metadata": {},
   "source": [
    "**StratifiedKFold는 이렇게 KFold로 분할된 레이블 데이터 세트가 전체 레이블 값의 분포도를 반영하지 못하는 문제를 해결해줌**"
   ]
  },
  {
   "cell_type": "code",
   "execution_count": 21,
   "id": "8a3ee816",
   "metadata": {},
   "outputs": [
    {
     "name": "stdout",
     "output_type": "stream",
     "text": [
      "교차검증: 1\n",
      "train data label:\n",
      " 2    34\n",
      "0    33\n",
      "1    33\n",
      "Name: label, dtype: int64\n",
      "test data label:\n",
      " 0    17\n",
      "1    17\n",
      "2    16\n",
      "Name: label, dtype: int64\n",
      "교차검증: 2\n",
      "train data label:\n",
      " 1    34\n",
      "0    33\n",
      "2    33\n",
      "Name: label, dtype: int64\n",
      "test data label:\n",
      " 0    17\n",
      "2    17\n",
      "1    16\n",
      "Name: label, dtype: int64\n",
      "교차검증: 3\n",
      "train data label:\n",
      " 0    34\n",
      "1    33\n",
      "2    33\n",
      "Name: label, dtype: int64\n",
      "test data label:\n",
      " 1    17\n",
      "2    17\n",
      "0    16\n",
      "Name: label, dtype: int64\n"
     ]
    }
   ],
   "source": [
    "from sklearn.model_selection import StratifiedKFold\n",
    "\n",
    "skfold = StratifiedKFold(n_splits = 3)\n",
    "n = 0\n",
    "for train_idx, test_idx in skfold.split(iris_df, iris_df['label']):\n",
    "\n",
    "    # 학습 데이터와 검증 데이터의 레이블 추출\n",
    "    label_train = iris_df['label'].iloc[train_idx]\n",
    "    label_test = iris_df['label'].iloc[test_idx]\n",
    "    n += 1\n",
    "\n",
    "    print('교차검증: {0}'.format(n))\n",
    "    print('train data label:\\n', label_train.value_counts())\n",
    "    print('test data label:\\n', label_test.value_counts())"
   ]
  },
  {
   "cell_type": "markdown",
   "id": "9b25f4a2",
   "metadata": {},
   "source": [
    "* 학습레이블과 검증레이블 데이터 값의 분포도가 **거의 동일하게 할당** 되었음을 확인할 수 있다. "
   ]
  },
  {
   "cell_type": "code",
   "execution_count": 18,
   "id": "69dfcd70",
   "metadata": {},
   "outputs": [
    {
     "name": "stdout",
     "output_type": "stream",
     "text": [
      "\n",
      "#1 교차 검증 정확도 :0.98, 학습 데이터 크기: 100, 검증 데이터 크기: 50\n",
      "#1 검증 세트 인덱스:[  0   1   2   3   4   5   6   7   8   9  10  11  12  13  14  15  16  50\n",
      "  51  52  53  54  55  56  57  58  59  60  61  62  63  64  65  66 100 101\n",
      " 102 103 104 105 106 107 108 109 110 111 112 113 114 115]\n",
      "\n",
      "#2 교차 검증 정확도 :0.92, 학습 데이터 크기: 100, 검증 데이터 크기: 50\n",
      "#2 검증 세트 인덱스:[ 17  18  19  20  21  22  23  24  25  26  27  28  29  30  31  32  33  67\n",
      "  68  69  70  71  72  73  74  75  76  77  78  79  80  81  82 116 117 118\n",
      " 119 120 121 122 123 124 125 126 127 128 129 130 131 132]\n",
      "\n",
      "#3 교차 검증 정확도 :0.96, 학습 데이터 크기: 100, 검증 데이터 크기: 50\n",
      "#3 검증 세트 인덱스:[ 34  35  36  37  38  39  40  41  42  43  44  45  46  47  48  49  83  84\n",
      "  85  86  87  88  89  90  91  92  93  94  95  96  97  98  99 133 134 135\n",
      " 136 137 138 139 140 141 142 143 144 145 146 147 148 149]\n",
      "[0.98 0.92 0.96]\n",
      "0.9533333333333333\n"
     ]
    }
   ],
   "source": [
    "skfold = StratifiedKFold(n_splits=3)\n",
    "cv_accuracy = []\n",
    "\n",
    "# StratifiedKFold 객체의 split( ) 호출 : fold별 train, test data의 row index를 array로 반환\n",
    "n = 0\n",
    "for train_index, test_index in skfold.split(features, label):\n",
    "    # skfold.split( )으로 반환된 인덱스로 train/test data 추출\n",
    "    X_train, X_test = features[train_index], features[test_index]\n",
    "    y_train, y_test = label[train_index], label[test_index]\n",
    "    \n",
    "    # training and prediction\n",
    "    classifier.fit(X_train, y_train)\n",
    "    pred = classifier.predict(X_test)\n",
    "    n += 1\n",
    "    \n",
    "    # print accuracy per every iteration\n",
    "    accuracy = np.round(accuracy_score(y_test, pred), 4)\n",
    "    train_size = X_train.shape[0]\n",
    "    test_size = X_test.shape[0]\n",
    "    print('\\n#{0} 교차 검증 정확도 :{1}, 학습 데이터 크기: {2}, 검증 데이터 크기: {3}'\n",
    "          .format(n, accuracy, train_size, test_size))\n",
    "    print('#{0} 검증 세트 인덱스:{1}'.format(n,test_index))\n",
    "    \n",
    "    cv_accuracy.append(accuracy)\n",
    "\n",
    "print(np.round(cv_accuracy,4))\n",
    "print(np.mean(cv_accuracy))"
   ]
  },
  {
   "cell_type": "markdown",
   "id": "f4563002",
   "metadata": {},
   "source": [
    "**결론**\n",
    "\n",
    "- 왜곡된 레이블 데이터 세트에서는 Stratified K fold를 이용해 교차 검증을 해야 한다\n",
    "- **회귀 분류** 에서는 stratified k fold를 사용할 수 **없다**"
   ]
  },
  {
   "cell_type": "markdown",
   "id": "3ebfca39",
   "metadata": {},
   "source": [
    "#### cross_val_score()\n",
    "* scikit learn 에서 교차 검증을 더 편리하게 수행할 수 있게 해주는 API 제공 : cross_val_score()\n",
    "* cross_val_score(estimator, X, y=None, scoring=None, cv=None)\n",
    "* estimator : 분류 알고리즘 클래스인 Classifier 또는 회귀 알고리즘 클래스인 Regressor\n",
    "* X : 피처 데이터 세트\n",
    "* y : 레이블 데이터 세트\n",
    "* scoring : 예측 성능 평가 지표\n",
    "* cv : 교차 검증 폴드 수\n",
    "* 반환값 : scoring parameter로 지정된 성능 지표 측정값을 배열 형태로 반환"
   ]
  },
  {
   "cell_type": "code",
   "execution_count": 22,
   "id": "c4f720af",
   "metadata": {},
   "outputs": [
    {
     "name": "stdout",
     "output_type": "stream",
     "text": [
      "교차 검증별 정확도: [0.98 0.92 0.96]\n",
      "평균 검증 정확도: 0.9533\n"
     ]
    }
   ],
   "source": [
    "from sklearn.model_selection import cross_val_score, cross_validate\n",
    "\n",
    "iris_data = load_iris()\n",
    "classifier = DecisionTreeClassifier(random_state=100)\n",
    "\n",
    "data = iris_data.data\n",
    "label = iris_data.target\n",
    "\n",
    "# 성능지표 = 정확도, 교차검증 세트 = 3개\n",
    "scores = cross_val_score(classifier, data, y=label, scoring='accuracy', cv=3)\n",
    "\n",
    "print('교차 검증별 정확도:',np.round(scores, 4))\n",
    "print('평균 검증 정확도:', np.round(np.mean(scores), 4))"
   ]
  },
  {
   "cell_type": "markdown",
   "id": "93d4b222",
   "metadata": {},
   "source": [
    "cross_val_score의 결과와 stratified k fold의 결과가 똑같다 !!\n",
    "\n",
    "왜?\n",
    "\n",
    "- cross_val_score( )가 내부적으로 Stratified K Fold를 이용하기 때문에 결과가 같음을 확인할 수 있음"
   ]
  },
  {
   "cell_type": "markdown",
   "id": "e9c93ed9",
   "metadata": {},
   "source": [
    "#### GridSearchCV\n",
    "\n",
    "교차검증과 최적 하이퍼 파라미터 튜닝을 한 번에!!!\n",
    "\n",
    "\n",
    "* GridSearchCV(estimator, param_grid, scoring, cv, refit)\n",
    "* **estimator** : classifier, regressor, pipeline이 사용될 수 있음\n",
    "* **param_grid** : key + 리스트 값을 가지는 딕셔너리. estimator의 튜닝을 위해 파라미터명과 사용될 여러 파라미터 값을 지정함\n",
    "* **scoring** : 예측 성능을 측정할 평가 방법 지정\n",
    "* **cv** : 교차 검증을 위해 분할되는 학습/테스트 세트의 개수를 지정\n",
    "* **refit** : default = 'True', True로 생성 시 가장 최적의 하이퍼 파라미터를 찾은 뒤 입력된 estimator 객체를 해당 하이퍼 파라미터로 재학습시킴"
   ]
  },
  {
   "cell_type": "code",
   "execution_count": 24,
   "id": "3e804edb",
   "metadata": {},
   "outputs": [],
   "source": [
    "from sklearn.model_selection import GridSearchCV, train_test_split\n",
    "from sklearn.metrics import accuracy_score\n",
    "\n",
    "# loading data and splitting train & test data\n",
    "iris = load_iris()\n",
    "X_train, X_test, y_train, y_test = train_test_split(iris.data, iris.target, \n",
    "                                                    test_size=0.2, random_state=120)\n",
    "classifier = DecisionTreeClassifier()\n",
    "\n",
    "# parameter들을 dictionary 형태로 설정\n",
    "parameters = {'max_depth':[1,2,3], 'min_samples_split':[2,3]}"
   ]
  },
  {
   "cell_type": "code",
   "execution_count": 25,
   "id": "19320796",
   "metadata": {},
   "outputs": [
    {
     "data": {
      "text/html": [
       "<div>\n",
       "<style scoped>\n",
       "    .dataframe tbody tr th:only-of-type {\n",
       "        vertical-align: middle;\n",
       "    }\n",
       "\n",
       "    .dataframe tbody tr th {\n",
       "        vertical-align: top;\n",
       "    }\n",
       "\n",
       "    .dataframe thead th {\n",
       "        text-align: right;\n",
       "    }\n",
       "</style>\n",
       "<table border=\"1\" class=\"dataframe\">\n",
       "  <thead>\n",
       "    <tr style=\"text-align: right;\">\n",
       "      <th></th>\n",
       "      <th>mean_fit_time</th>\n",
       "      <th>std_fit_time</th>\n",
       "      <th>mean_score_time</th>\n",
       "      <th>std_score_time</th>\n",
       "      <th>param_max_depth</th>\n",
       "      <th>param_min_samples_split</th>\n",
       "      <th>params</th>\n",
       "      <th>split0_test_score</th>\n",
       "      <th>split1_test_score</th>\n",
       "      <th>split2_test_score</th>\n",
       "      <th>mean_test_score</th>\n",
       "      <th>std_test_score</th>\n",
       "      <th>rank_test_score</th>\n",
       "      <th>split0_train_score</th>\n",
       "      <th>split1_train_score</th>\n",
       "      <th>split2_train_score</th>\n",
       "      <th>mean_train_score</th>\n",
       "      <th>std_train_score</th>\n",
       "    </tr>\n",
       "  </thead>\n",
       "  <tbody>\n",
       "    <tr>\n",
       "      <th>0</th>\n",
       "      <td>0.000668</td>\n",
       "      <td>0.000473</td>\n",
       "      <td>0.000997</td>\n",
       "      <td>5.150430e-07</td>\n",
       "      <td>1</td>\n",
       "      <td>2</td>\n",
       "      <td>{'max_depth': 1, 'min_samples_split': 2}</td>\n",
       "      <td>0.675</td>\n",
       "      <td>0.675</td>\n",
       "      <td>0.650</td>\n",
       "      <td>0.666667</td>\n",
       "      <td>0.011785</td>\n",
       "      <td>5</td>\n",
       "      <td>0.6625</td>\n",
       "      <td>0.6625</td>\n",
       "      <td>0.6750</td>\n",
       "      <td>0.666667</td>\n",
       "      <td>0.005893</td>\n",
       "    </tr>\n",
       "    <tr>\n",
       "      <th>1</th>\n",
       "      <td>0.000665</td>\n",
       "      <td>0.000470</td>\n",
       "      <td>0.000332</td>\n",
       "      <td>4.699093e-04</td>\n",
       "      <td>1</td>\n",
       "      <td>3</td>\n",
       "      <td>{'max_depth': 1, 'min_samples_split': 3}</td>\n",
       "      <td>0.675</td>\n",
       "      <td>0.675</td>\n",
       "      <td>0.650</td>\n",
       "      <td>0.666667</td>\n",
       "      <td>0.011785</td>\n",
       "      <td>5</td>\n",
       "      <td>0.6625</td>\n",
       "      <td>0.6625</td>\n",
       "      <td>0.6750</td>\n",
       "      <td>0.666667</td>\n",
       "      <td>0.005893</td>\n",
       "    </tr>\n",
       "    <tr>\n",
       "      <th>2</th>\n",
       "      <td>0.001152</td>\n",
       "      <td>0.000219</td>\n",
       "      <td>0.000502</td>\n",
       "      <td>4.072768e-04</td>\n",
       "      <td>2</td>\n",
       "      <td>2</td>\n",
       "      <td>{'max_depth': 2, 'min_samples_split': 2}</td>\n",
       "      <td>0.950</td>\n",
       "      <td>0.900</td>\n",
       "      <td>0.875</td>\n",
       "      <td>0.908333</td>\n",
       "      <td>0.031180</td>\n",
       "      <td>3</td>\n",
       "      <td>0.9500</td>\n",
       "      <td>0.9750</td>\n",
       "      <td>0.9625</td>\n",
       "      <td>0.962500</td>\n",
       "      <td>0.010206</td>\n",
       "    </tr>\n",
       "    <tr>\n",
       "      <th>3</th>\n",
       "      <td>0.000333</td>\n",
       "      <td>0.000470</td>\n",
       "      <td>0.000665</td>\n",
       "      <td>4.700217e-04</td>\n",
       "      <td>2</td>\n",
       "      <td>3</td>\n",
       "      <td>{'max_depth': 2, 'min_samples_split': 3}</td>\n",
       "      <td>0.950</td>\n",
       "      <td>0.900</td>\n",
       "      <td>0.875</td>\n",
       "      <td>0.908333</td>\n",
       "      <td>0.031180</td>\n",
       "      <td>3</td>\n",
       "      <td>0.9500</td>\n",
       "      <td>0.9750</td>\n",
       "      <td>0.9625</td>\n",
       "      <td>0.962500</td>\n",
       "      <td>0.010206</td>\n",
       "    </tr>\n",
       "    <tr>\n",
       "      <th>4</th>\n",
       "      <td>0.001001</td>\n",
       "      <td>0.000005</td>\n",
       "      <td>0.000716</td>\n",
       "      <td>5.099904e-04</td>\n",
       "      <td>3</td>\n",
       "      <td>2</td>\n",
       "      <td>{'max_depth': 3, 'min_samples_split': 2}</td>\n",
       "      <td>0.950</td>\n",
       "      <td>0.875</td>\n",
       "      <td>0.975</td>\n",
       "      <td>0.933333</td>\n",
       "      <td>0.042492</td>\n",
       "      <td>1</td>\n",
       "      <td>0.9500</td>\n",
       "      <td>0.9875</td>\n",
       "      <td>0.9750</td>\n",
       "      <td>0.970833</td>\n",
       "      <td>0.015590</td>\n",
       "    </tr>\n",
       "    <tr>\n",
       "      <th>5</th>\n",
       "      <td>0.000838</td>\n",
       "      <td>0.000207</td>\n",
       "      <td>0.000688</td>\n",
       "      <td>4.863113e-04</td>\n",
       "      <td>3</td>\n",
       "      <td>3</td>\n",
       "      <td>{'max_depth': 3, 'min_samples_split': 3}</td>\n",
       "      <td>0.950</td>\n",
       "      <td>0.875</td>\n",
       "      <td>0.975</td>\n",
       "      <td>0.933333</td>\n",
       "      <td>0.042492</td>\n",
       "      <td>1</td>\n",
       "      <td>0.9500</td>\n",
       "      <td>0.9875</td>\n",
       "      <td>0.9750</td>\n",
       "      <td>0.970833</td>\n",
       "      <td>0.015590</td>\n",
       "    </tr>\n",
       "  </tbody>\n",
       "</table>\n",
       "</div>"
      ],
      "text/plain": [
       "   mean_fit_time  std_fit_time  mean_score_time  std_score_time  \\\n",
       "0       0.000668      0.000473         0.000997    5.150430e-07   \n",
       "1       0.000665      0.000470         0.000332    4.699093e-04   \n",
       "2       0.001152      0.000219         0.000502    4.072768e-04   \n",
       "3       0.000333      0.000470         0.000665    4.700217e-04   \n",
       "4       0.001001      0.000005         0.000716    5.099904e-04   \n",
       "5       0.000838      0.000207         0.000688    4.863113e-04   \n",
       "\n",
       "  param_max_depth param_min_samples_split  \\\n",
       "0               1                       2   \n",
       "1               1                       3   \n",
       "2               2                       2   \n",
       "3               2                       3   \n",
       "4               3                       2   \n",
       "5               3                       3   \n",
       "\n",
       "                                     params  split0_test_score  \\\n",
       "0  {'max_depth': 1, 'min_samples_split': 2}              0.675   \n",
       "1  {'max_depth': 1, 'min_samples_split': 3}              0.675   \n",
       "2  {'max_depth': 2, 'min_samples_split': 2}              0.950   \n",
       "3  {'max_depth': 2, 'min_samples_split': 3}              0.950   \n",
       "4  {'max_depth': 3, 'min_samples_split': 2}              0.950   \n",
       "5  {'max_depth': 3, 'min_samples_split': 3}              0.950   \n",
       "\n",
       "   split1_test_score  split2_test_score  mean_test_score  std_test_score  \\\n",
       "0              0.675              0.650         0.666667        0.011785   \n",
       "1              0.675              0.650         0.666667        0.011785   \n",
       "2              0.900              0.875         0.908333        0.031180   \n",
       "3              0.900              0.875         0.908333        0.031180   \n",
       "4              0.875              0.975         0.933333        0.042492   \n",
       "5              0.875              0.975         0.933333        0.042492   \n",
       "\n",
       "   rank_test_score  split0_train_score  split1_train_score  \\\n",
       "0                5              0.6625              0.6625   \n",
       "1                5              0.6625              0.6625   \n",
       "2                3              0.9500              0.9750   \n",
       "3                3              0.9500              0.9750   \n",
       "4                1              0.9500              0.9875   \n",
       "5                1              0.9500              0.9875   \n",
       "\n",
       "   split2_train_score  mean_train_score  std_train_score  \n",
       "0              0.6750          0.666667         0.005893  \n",
       "1              0.6750          0.666667         0.005893  \n",
       "2              0.9625          0.962500         0.010206  \n",
       "3              0.9625          0.962500         0.010206  \n",
       "4              0.9750          0.970833         0.015590  \n",
       "5              0.9750          0.970833         0.015590  "
      ]
     },
     "execution_count": 25,
     "metadata": {},
     "output_type": "execute_result"
    }
   ],
   "source": [
    "grid_dtree = GridSearchCV(classifier, param_grid=parameters, scoring='accuracy', \n",
    "                          cv = 3, refit=True, return_train_score=True)\n",
    "grid_dtree.fit(X_train, y_train)\n",
    "\n",
    "#GridSearchCV 결과는 cv_results_라는 딕셔너리로 저장됨. 이를 DataFrame으로 변환\n",
    "scores_df = pd.DataFrame(grid_dtree.cv_results_)\n",
    "scores_df"
   ]
  },
  {
   "cell_type": "code",
   "execution_count": 26,
   "id": "cf17257e",
   "metadata": {},
   "outputs": [
    {
     "name": "stdout",
     "output_type": "stream",
     "text": [
      "{'max_depth': 3, 'min_samples_split': 2}\n",
      "0.9333333333333332\n",
      "테스트 데이터 세트 정확도: 1.0000\n"
     ]
    }
   ],
   "source": [
    "# GridSearchCV 최적 파라미터\n",
    "print(grid_dtree.best_params_)\n",
    "\n",
    "# GridSearchCV 최고 정확도 (\"mean_test_score\" column 확인하기)\n",
    "print(grid_dtree.best_score_)\n",
    "\n",
    "# refit=True로 설정된 GridSearchCV 객체가 fit()을 수행 시 학습이 완료된 Estimator를 내포하고 있으므로 predict()를 통해 예측도 가능. \n",
    "pred = grid_dtree.predict(X_test)\n",
    "print('테스트 데이터 세트 정확도: {0:.4f}'.format(accuracy_score(y_test,pred)))"
   ]
  },
  {
   "cell_type": "code",
   "execution_count": 24,
   "id": "2d160c4e",
   "metadata": {},
   "outputs": [
    {
     "name": "stdout",
     "output_type": "stream",
     "text": [
      "테스트 데이터 세트 정확도: 1.0000\n"
     ]
    }
   ],
   "source": [
    "# GridSearchCV의 refit으로 이미 학습이 된 estimator 반환\n",
    "estimator = grid_dtree.best_estimator_\n",
    "\n",
    "# GridSearchCV의 best_estimator_는 이미 최적 하이퍼 파라미터로 학습이 됨\n",
    "pred = estimator.predict(X_test)\n",
    "print('테스트 데이터 세트 정확도: {0:.4f}'.format(accuracy_score(y_test,pred)))"
   ]
  }
 ],
 "metadata": {
  "kernelspec": {
   "display_name": "Python 3 (ipykernel)",
   "language": "python",
   "name": "python3"
  },
  "language_info": {
   "codemirror_mode": {
    "name": "ipython",
    "version": 3
   },
   "file_extension": ".py",
   "mimetype": "text/x-python",
   "name": "python",
   "nbconvert_exporter": "python",
   "pygments_lexer": "ipython3",
   "version": "3.9.13"
  }
 },
 "nbformat": 4,
 "nbformat_minor": 5
}
