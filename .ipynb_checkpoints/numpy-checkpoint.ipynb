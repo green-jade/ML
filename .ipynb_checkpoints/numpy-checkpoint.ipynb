{
 "cells": [
  {
   "cell_type": "markdown",
   "id": "af172a84",
   "metadata": {},
   "source": [
    "### Numpy ndarray"
   ]
  },
  {
   "cell_type": "markdown",
   "id": "4f0f9b95",
   "metadata": {},
   "source": [
    "**ndarray : N 차원(dimension) 배열(array) 객체**"
   ]
  },
  {
   "cell_type": "code",
   "execution_count": 1,
   "id": "59804e9c",
   "metadata": {},
   "outputs": [],
   "source": [
    "import numpy as np"
   ]
  },
  {
   "cell_type": "markdown",
   "id": "fc64e492",
   "metadata": {},
   "source": [
    "**ndarray 생성**\n",
    "* Numpy 모듈의 array( ) 함수로 생성\n",
    "* 인자로 주로 python list 또는 ndarray 입력"
   ]
  },
  {
   "cell_type": "markdown",
   "id": "353d5f4d",
   "metadata": {},
   "source": [
    "**ndarray 형태와 차원**\n",
    "* 형태는 ndarray.shape \n",
    "* 차원은 ndarray.ndim"
   ]
  },
  {
   "cell_type": "code",
   "execution_count": 2,
   "id": "5662c95d",
   "metadata": {},
   "outputs": [
    {
     "name": "stdout",
     "output_type": "stream",
     "text": [
      "list1 type: <class 'list'>\n",
      "[1 2 3]\n",
      "array1 type: <class 'numpy.ndarray'>\n",
      "array1 형태: (3,)\n",
      "[[1 2 3]\n",
      " [4 5 6]]\n",
      "array2 type: <class 'numpy.ndarray'>\n",
      "array2 array 형태: (2, 3)\n",
      "[[1 2 3]]\n",
      "array3 type: <class 'numpy.ndarray'>\n",
      "array3 array 형태: (1, 3)\n"
     ]
    }
   ],
   "source": [
    "list1 = [1,2,3]\n",
    "print('list1 type:', type(list1))\n",
    "\n",
    "array1 = np.array(list1)\n",
    "print(array1)\n",
    "print('array1 type:', type(array1))\n",
    "print('array1 형태:', array1.shape)\n",
    "\n",
    "array2 = np.array([[1,2,3],\n",
    "                 [4,5,6]])\n",
    "print(array2)\n",
    "print('array2 type:', type(array2))\n",
    "print('array2 array 형태:', array2.shape)\n",
    "\n",
    "array3 = np.array([[1,2,3]])\n",
    "print(array3)\n",
    "print('array3 type:', type(array3))\n",
    "print('array3 array 형태:', array3.shape)\n"
   ]
  },
  {
   "cell_type": "code",
   "execution_count": 3,
   "id": "f8586b17",
   "metadata": {},
   "outputs": [
    {
     "name": "stdout",
     "output_type": "stream",
     "text": [
      "1\n",
      "2\n",
      "2\n"
     ]
    }
   ],
   "source": [
    "print(array1.ndim)\n",
    "print(array2.ndim)\n",
    "print(array3.ndim)"
   ]
  },
  {
   "cell_type": "markdown",
   "id": "4e2b8b73",
   "metadata": {},
   "source": [
    "**ndarray의 shape**은 axis0, axis1, axis2와 같이 **axis 단위**로 부여됨"
   ]
  },
  {
   "cell_type": "markdown",
   "id": "140cdbc1",
   "metadata": {},
   "source": [
    "**ndarray 타입**\n",
    "* ndarray내의 데이터 값은 숫자 값, 문자열 값, 불리언 모두 가능\n",
    "* 연산 특성상 같은 데이터 타입만 가능함, 즉 한 개의 ndarray객체에 int와 float가 함께 있을 수 없음\n",
    "* 만약 array 생성할 때 다른 dtype을 같이 입력하면 자동 type 변환됨\n",
    "* ndarray.dtype으로 확인"
   ]
  },
  {
   "cell_type": "code",
   "execution_count": 4,
   "id": "6ee37cdd",
   "metadata": {},
   "outputs": [
    {
     "name": "stdout",
     "output_type": "stream",
     "text": [
      "[1 2 3] int32\n"
     ]
    }
   ],
   "source": [
    "print(array1, array1.dtype)"
   ]
  },
  {
   "cell_type": "code",
   "execution_count": 5,
   "id": "60806b9a",
   "metadata": {},
   "outputs": [
    {
     "name": "stdout",
     "output_type": "stream",
     "text": [
      "['1' '2' 'test'] <U11\n",
      "[1. 2. 3.] float64\n"
     ]
    }
   ],
   "source": [
    "# 자동 type 변환의 예\n",
    "\n",
    "array4 = np.array([1, 2, 'test'])\n",
    "print(array4, array4.dtype)\n",
    "\n",
    "array5 = np.array([1, 2, 3.0])\n",
    "print(array5, array5.dtype)\n",
    "\n",
    "# array4의 1, 2가 문자형으로 바뀌고, array5의 1, 2가 실수형으로 바뀜"
   ]
  },
  {
   "cell_type": "markdown",
   "id": "aed41f90",
   "metadata": {},
   "source": [
    "**ndarray 타입 변환**\n",
    "* astype( )을 이용하여 원하는 type으로 변환 가능 (대용량 데이터 다룰 시 메모리 절약을 위해서 64bit float형을 8bit 또는 16bit의 integer 형으로 변환하는 등, 형변환을 특히 고려해야함)"
   ]
  },
  {
   "cell_type": "code",
   "execution_count": 6,
   "id": "fdaf627c",
   "metadata": {},
   "outputs": [
    {
     "name": "stdout",
     "output_type": "stream",
     "text": [
      "[1 2 3] int32\n",
      "[1. 2. 3.] float64\n"
     ]
    }
   ],
   "source": [
    "array_int = np.array([1, 2, 3])\n",
    "array_float = array_int.astype('float64')\n",
    "print(array_int, array_int.dtype)\n",
    "print(array_float, array_float.dtype)"
   ]
  },
  {
   "cell_type": "code",
   "execution_count": 7,
   "id": "1e22baa9",
   "metadata": {},
   "outputs": [
    {
     "name": "stdout",
     "output_type": "stream",
     "text": [
      "[1 2 3] int32\n"
     ]
    }
   ],
   "source": [
    "array_int1 = array_float.astype('int32')\n",
    "print(array_int1, array_int1.dtype)"
   ]
  },
  {
   "cell_type": "code",
   "execution_count": 8,
   "id": "84a4da3a",
   "metadata": {},
   "outputs": [
    {
     "name": "stdout",
     "output_type": "stream",
     "text": [
      "[1 2 3] int32\n"
     ]
    }
   ],
   "source": [
    "array_float1 = np.array([1.1, 2.1, 3.1])\n",
    "array_int2 = array_float1.astype('int32')\n",
    "print(array_int2, array_int.dtype)"
   ]
  },
  {
   "cell_type": "markdown",
   "id": "62c32e0d",
   "metadata": {},
   "source": [
    "**ndarray를 편리하게 생성하기 - arange, zeros, ones**\n",
    "* 특정 크기와 차원을 가진 ndarray를 연속값이나 0 또는 1로 초기화 생성해야 한 경우, arange( ), zeros( ), ones( )를 이용해 생성 가능\n",
    "* 주로 테스트용 데이터를 만들거나 데이터를 일괄적으로 초기화해야 할 경우에 사용"
   ]
  },
  {
   "cell_type": "code",
   "execution_count": 9,
   "id": "e4c5a93a",
   "metadata": {},
   "outputs": [
    {
     "name": "stdout",
     "output_type": "stream",
     "text": [
      "[0 1 2 3 4 5 6 7 8 9]\n",
      "(10,) int32 1\n"
     ]
    }
   ],
   "source": [
    "sequence_array = np.arange(10)\n",
    "print(sequence_array)\n",
    "print(sequence_array.shape, sequence_array.dtype, sequence_array.ndim)"
   ]
  },
  {
   "cell_type": "code",
   "execution_count": 10,
   "id": "d52b1ae0",
   "metadata": {},
   "outputs": [
    {
     "name": "stdout",
     "output_type": "stream",
     "text": [
      "[[0 0]\n",
      " [0 0]\n",
      " [0 0]]\n",
      "int32 (3, 2)\n",
      "[[1. 1.]\n",
      " [1. 1.]\n",
      " [1. 1.]]\n",
      "float64 (3, 2)\n"
     ]
    }
   ],
   "source": [
    "zero_array = np.zeros ((3,2), dtype = 'int32')\n",
    "print(zero_array)\n",
    "print(zero_array.dtype, zero_array.shape)\n",
    "\n",
    "one_array = np.ones((3,2))\n",
    "print(one_array)\n",
    "print(one_array.dtype, one_array.shape)"
   ]
  },
  {
   "cell_type": "markdown",
   "id": "a6a861b9",
   "metadata": {},
   "source": [
    "**ndarray의 차원과 크기를 변경하기 - reshape( )**\n",
    "* 원하는 특정 차원 및 형태로 변환함"
   ]
  },
  {
   "cell_type": "code",
   "execution_count": 11,
   "id": "ad5139d4",
   "metadata": {},
   "outputs": [
    {
     "name": "stdout",
     "output_type": "stream",
     "text": [
      "[0 1 2 3 4 5 6 7 8 9]\n",
      "[[0 1 2 3 4]\n",
      " [5 6 7 8 9]]\n",
      "[[0 1]\n",
      " [2 3]\n",
      " [4 5]\n",
      " [6 7]\n",
      " [8 9]]\n"
     ]
    }
   ],
   "source": [
    "array1 = np.arange(10)\n",
    "print(array1)\n",
    "\n",
    "# (2, 5) shape으로 변환\n",
    "array2 = array1.reshape(2, 5)\n",
    "print(array2)\n",
    "\n",
    "# (5, 2) shape으로 변환\n",
    "array3 = array2.reshape(5, 2)\n",
    "print(array3)"
   ]
  },
  {
   "cell_type": "code",
   "execution_count": 12,
   "id": "9b2a8c50",
   "metadata": {},
   "outputs": [
    {
     "name": "stdout",
     "output_type": "stream",
     "text": [
      "[[0 1 2 3 4]\n",
      " [5 6 7 8 9]]\n",
      "(2, 5)\n",
      "[[0 1]\n",
      " [2 3]\n",
      " [4 5]\n",
      " [6 7]\n",
      " [8 9]]\n",
      "(5, 2)\n"
     ]
    }
   ],
   "source": [
    "# (-1, 5) shape으로 변환\n",
    "array4 = array1.reshape(-1, 5)\n",
    "print(array4)\n",
    "print(array4.shape)\n",
    "\n",
    "# (5, -1) shape으로 변환\n",
    "array5 = array1.reshape(5, -1)\n",
    "print(array5)\n",
    "print(array5.shape)"
   ]
  },
  {
   "cell_type": "code",
   "execution_count": 13,
   "id": "ebc599d8",
   "metadata": {},
   "outputs": [
    {
     "name": "stdout",
     "output_type": "stream",
     "text": [
      "[[[0 1]\n",
      "  [2 3]]\n",
      "\n",
      " [[4 5]\n",
      "  [6 7]]]\n"
     ]
    }
   ],
   "source": [
    "array1 = np.arange(8)\n",
    "array3d = array1.reshape((2,2,2))\n",
    "print(array3d)"
   ]
  },
  {
   "cell_type": "code",
   "execution_count": 14,
   "id": "23224911",
   "metadata": {},
   "outputs": [
    {
     "name": "stdout",
     "output_type": "stream",
     "text": [
      "array6:\n",
      " [[0], [1], [2], [3], [4], [5], [6], [7]]\n",
      "array6 shape: (8, 1)\n",
      "array6:\n",
      " [[0], [1], [2], [3], [4], [5], [6], [7]]\n",
      "array6 shape: (8, 1)\n"
     ]
    }
   ],
   "source": [
    "# 3차원 ndarray를 2차원 ndarray로 변환하되 칼럼 갯수는 1\n",
    "array6 = array3d.reshape(-1, 1)\n",
    "print('array6:\\n',array6.tolist())\n",
    "print('array6 shape:',array6.shape)\n",
    "\n",
    "# 1차원 ndarray를 2차원 ndarray로 변환화되 칼럼 갯수는 1\n",
    "array7 = array1.reshape(-1, 1)\n",
    "print('array6:\\n',array7.tolist())\n",
    "print('array6 shape:',array7.shape)"
   ]
  },
  {
   "cell_type": "code",
   "execution_count": 15,
   "id": "7d441d60",
   "metadata": {},
   "outputs": [
    {
     "name": "stdout",
     "output_type": "stream",
     "text": [
      "[0 1 2 3 4 5 6 7]\n"
     ]
    }
   ],
   "source": [
    "# 3차원 array를 1차원으로 변환\n",
    "array1d = array3d.reshape(-1,)\n",
    "print(array1d)"
   ]
  },
  {
   "cell_type": "markdown",
   "id": "ef315e16",
   "metadata": {},
   "source": [
    "**ndarray indexing**\n",
    "\n",
    "* 특정 위치 단일값 추출\n",
    "* slicing (:) : 연속되게 추출\n",
    "* fancy indexing : 특정 위치 여러 개, list나 ndarray로 인덱스 집합을 지정하면 해당 위치의 인덱스에 해당하는 ndarry 반환\n",
    "* boolean indexing : 조건을 걸어서, 조건 필터링과 추출을 동시에 할 수 있기 때문에 자주 사용됨"
   ]
  },
  {
   "cell_type": "code",
   "execution_count": 28,
   "id": "6d121754",
   "metadata": {},
   "outputs": [
    {
     "data": {
      "text/plain": [
       "array([1, 2, 3, 4, 5, 6, 7, 8, 9])"
      ]
     },
     "execution_count": 28,
     "metadata": {},
     "output_type": "execute_result"
    }
   ],
   "source": [
    "# 단일 값 추출 - 1차원 ndarray\n",
    "array1 = np.arange(start=1, stop=10)\n",
    "array1"
   ]
  },
  {
   "cell_type": "code",
   "execution_count": 17,
   "id": "4165c347",
   "metadata": {},
   "outputs": [
    {
     "name": "stdout",
     "output_type": "stream",
     "text": [
      "4\n",
      "8\n",
      "9\n"
     ]
    }
   ],
   "source": [
    "print(array1[3])\n",
    "print(array1[-2])\n",
    "print(array1[-1])"
   ]
  },
  {
   "cell_type": "code",
   "execution_count": 18,
   "id": "4419adaf",
   "metadata": {},
   "outputs": [
    {
     "data": {
      "text/plain": [
       "array([[1, 2, 3],\n",
       "       [4, 5, 6],\n",
       "       [7, 8, 9]])"
      ]
     },
     "execution_count": 18,
     "metadata": {},
     "output_type": "execute_result"
    }
   ],
   "source": [
    "# 단일 값 추출 - 2차원 ndarray\n",
    "array2 = array1.reshape(3,3)\n",
    "array2"
   ]
  },
  {
   "cell_type": "code",
   "execution_count": 19,
   "id": "473562ec",
   "metadata": {},
   "outputs": [
    {
     "name": "stdout",
     "output_type": "stream",
     "text": [
      "1\n",
      "2\n",
      "4\n",
      "9\n"
     ]
    }
   ],
   "source": [
    "print(array2[0,0])\n",
    "print(array2[0,1])\n",
    "print(array2[1,0])\n",
    "print(array2[2,2])"
   ]
  },
  {
   "cell_type": "code",
   "execution_count": 20,
   "id": "1e28a4ba",
   "metadata": {},
   "outputs": [
    {
     "name": "stdout",
     "output_type": "stream",
     "text": [
      "[1 2 3 4 5 6 7 8 9]\n",
      "[1 2 3]\n",
      "[4 5 6 7 8 9]\n",
      "[1 2 3]\n"
     ]
    }
   ],
   "source": [
    "# slicing - 1차원 ndarray\n",
    "\n",
    "print(array1[:])\n",
    "print(array1[:3])\n",
    "print(array1[3:])\n",
    "print(array1[0:3])"
   ]
  },
  {
   "cell_type": "code",
   "execution_count": 21,
   "id": "5218bdff",
   "metadata": {},
   "outputs": [
    {
     "name": "stdout",
     "output_type": "stream",
     "text": [
      "[[1 2 3]\n",
      " [4 5 6]\n",
      " [7 8 9]]\n",
      "[[1 2]\n",
      " [4 5]]\n",
      "[[4 5 6]\n",
      " [7 8 9]]\n",
      "[1 4]\n"
     ]
    }
   ],
   "source": [
    "# slicing - 2차원 ndarray\n",
    "\n",
    "print(array2[:,:])\n",
    "print(array2[0:2,0:2])\n",
    "print(array2[1:3,0:3])\n",
    "print(array2[:2,0])  ## 결과 : 1차원 array (shape : (2, ))"
   ]
  },
  {
   "cell_type": "code",
   "execution_count": 29,
   "id": "e398323f",
   "metadata": {},
   "outputs": [
    {
     "name": "stdout",
     "output_type": "stream",
     "text": [
      "[1 2 3]\n",
      "array2[0] shape: (3,)\n",
      "[4 5 6]\n",
      "array2[1] shape: (3,)\n"
     ]
    }
   ],
   "source": [
    "print(array2[0])\n",
    "print('array2[0] shape:', array2[0].shape)\n",
    "print(array2[1])\n",
    "print('array2[1] shape:', array2[1].shape)"
   ]
  },
  {
   "cell_type": "code",
   "execution_count": 36,
   "id": "9fb26d76",
   "metadata": {},
   "outputs": [
    {
     "name": "stdout",
     "output_type": "stream",
     "text": [
      "[[1 2 3]\n",
      " [4 5 6]\n",
      " [7 8 9]]\n",
      "[3, 6]\n",
      "[[1, 2], [4, 5]]\n",
      "[[1, 2, 3], [4, 5, 6]]\n",
      "[[1, 2], [4, 5], [7, 8]]\n"
     ]
    }
   ],
   "source": [
    "# fancy indexing\n",
    "\n",
    "print(array2)\n",
    "\n",
    "array3 = array2[[0,1],2]\n",
    "print(array3.tolist())\n",
    "\n",
    "array4 = array2[0:2,[0,1]]\n",
    "print(array4.tolist())\n",
    "\n",
    "array5 = array2[[0,1]]\n",
    "print(array5.tolist())\n",
    "\n",
    "array6 = array2[:,[0,1]]\n",
    "print(array6.tolist())"
   ]
  },
  {
   "cell_type": "code",
   "execution_count": 40,
   "id": "b5c7769c",
   "metadata": {},
   "outputs": [
    {
     "name": "stdout",
     "output_type": "stream",
     "text": [
      "[1 2 3 4 5 6 7 8 9]\n",
      "[6 7 8 9]\n"
     ]
    }
   ],
   "source": [
    "# boolean indexing\n",
    "\n",
    "print(array1)\n",
    "\n",
    "array2 = array1[array1>5]\n",
    "print(array2)"
   ]
  },
  {
   "cell_type": "markdown",
   "id": "fd7ba8d8",
   "metadata": {},
   "source": [
    "**ndarray sort( ), argsort( )**\n",
    "\n",
    "배열의 정렬\n",
    "* np.sort(ndarray) : 인자로 들어온 행렬은 그대로 유지한 채 원래 행렬의 정렬된 행렬을 반환 \n",
    "* ndarray.sort( ) : 원 행렬 자체를 정렬한 형태로 변환하며 반환 값은 none\n",
    "* 모두 기본적으로 **오름차순**으로 정렬되며, **내림차순**으로 정렬하기 위해서는 [::-1]을 적용한다. \n",
    "* argsort( ) : 정렬 행렬의 원본 행렬 인덱스를 ndarray형으로 반환함\n"
   ]
  },
  {
   "cell_type": "code",
   "execution_count": 46,
   "id": "be9d8a5a",
   "metadata": {},
   "outputs": [
    {
     "name": "stdout",
     "output_type": "stream",
     "text": [
      "org_array: [3 1 9 5]\n",
      "array_sorted: [1 3 5 9]\n",
      "org_array: [1 3 5 9]\n",
      "org_array: [9 5 3 1]\n",
      "array_desc: [9 5 3 1]\n"
     ]
    }
   ],
   "source": [
    "org_array = np.array([ 3, 1, 9, 5]) \n",
    "\n",
    "# np.sort()\n",
    "array_sorted = np.sort(org_array)\n",
    "print('org_array:', org_array) # 원 행렬은 유지\n",
    "print('array_sorted:', array_sorted)\n",
    "\n",
    "# ndarray.sort()\n",
    "org_array.sort()\n",
    "print('org_array:', org_array) # 원 행렬이 변환됨\n",
    "\n",
    "# 내림차순 정렬\n",
    "org_array[::-1].sort()\n",
    "print('org_array:', org_array)\n",
    "array_desc = np.sort(org_array)[::-1]\n",
    "print('array_desc:', array_desc)"
   ]
  },
  {
   "cell_type": "code",
   "execution_count": 48,
   "id": "3d00e03c",
   "metadata": {},
   "outputs": [
    {
     "name": "stdout",
     "output_type": "stream",
     "text": [
      "[[ 8 12]\n",
      " [ 7  1]]\n",
      "[[ 7  1]\n",
      " [ 8 12]]\n",
      "[[ 8 12]\n",
      " [ 1  7]]\n"
     ]
    }
   ],
   "source": [
    "# sort by row or column\n",
    "\n",
    "array2d = np.array([[8,12],\n",
    "                    [7,1]])\n",
    "print(array2d)\n",
    "\n",
    "sort_array_by_row = np.sort(array2d, axis = 0)\n",
    "print(sort_array_by_row)\n",
    "\n",
    "sort_array_by_col = np.sort(array2d, axis = 1)\n",
    "print(sort_array_by_col)"
   ]
  },
  {
   "cell_type": "code",
   "execution_count": 50,
   "id": "871a0e7f",
   "metadata": {},
   "outputs": [
    {
     "name": "stdout",
     "output_type": "stream",
     "text": [
      "행렬 내림차순 정렬 시 원본 배열의 인덱스 : \n",
      " [2 3 0 1]\n"
     ]
    }
   ],
   "source": [
    "# argsort()\n",
    "\n",
    "org_array = np.array([3, 1, 9, 5])\n",
    "sort_indices_desc = np.argsort(org_array)[::-1]\n",
    "print('행렬 내림차순 정렬 시 원본 배열의 인덱스 : \\n', sort_indices_desc)"
   ]
  },
  {
   "cell_type": "code",
   "execution_count": 68,
   "id": "f94fe8dc",
   "metadata": {},
   "outputs": [
    {
     "name": "stdout",
     "output_type": "stream",
     "text": [
      "[0 2 4 1 3]\n",
      "['Amy' 'Coy' 'Ely' 'Bly' 'Diy']\n"
     ]
    }
   ],
   "source": [
    "# argsort() 활용 예시\n",
    "\n",
    "name_array = np.array(['Amy', 'Bly', 'Coy', 'Diy', 'Ely'])\n",
    "score_array = np.array([78, 95, 84, 98, 88])\n",
    "\n",
    "sort_indices_asc = np.argsort(score_array)\n",
    "print(sort_indices_asc)\n",
    "print(name_array[sort_indices_asc])"
   ]
  },
  {
   "cell_type": "markdown",
   "id": "31db234d",
   "metadata": {},
   "source": [
    "**선형대수 연산 - 행렬내적**\n",
    "* np.dot(A,B)\n",
    "* np.transpose(A)"
   ]
  },
  {
   "cell_type": "code",
   "execution_count": 70,
   "id": "d75fc240",
   "metadata": {},
   "outputs": [
    {
     "name": "stdout",
     "output_type": "stream",
     "text": [
      "행렬 내적 결과:\n",
      " [[ 58  64]\n",
      " [139 154]]\n"
     ]
    }
   ],
   "source": [
    "A = np.array([[1, 2, 3],\n",
    "              [4, 5, 6]])\n",
    "B = np.array([[7, 8],\n",
    "              [9, 10],\n",
    "              [11, 12]])\n",
    "\n",
    "dot_product = np.dot(A, B)\n",
    "print('행렬 내적 결과:\\n', dot_product)"
   ]
  },
  {
   "cell_type": "code",
   "execution_count": 71,
   "id": "ba8b6942",
   "metadata": {},
   "outputs": [
    {
     "name": "stdout",
     "output_type": "stream",
     "text": [
      "A의 전치 행렬:\n",
      " [[1 3]\n",
      " [2 4]]\n"
     ]
    }
   ],
   "source": [
    "A = np.array([[1, 2],\n",
    "              [3, 4]])\n",
    "transpose_mat = np.transpose(A)\n",
    "print('A의 전치 행렬:\\n', transpose_mat)"
   ]
  }
 ],
 "metadata": {
  "kernelspec": {
   "display_name": "Python 3 (ipykernel)",
   "language": "python",
   "name": "python3"
  },
  "language_info": {
   "codemirror_mode": {
    "name": "ipython",
    "version": 3
   },
   "file_extension": ".py",
   "mimetype": "text/x-python",
   "name": "python",
   "nbconvert_exporter": "python",
   "pygments_lexer": "ipython3",
   "version": "3.9.7"
  }
 },
 "nbformat": 4,
 "nbformat_minor": 5
}
